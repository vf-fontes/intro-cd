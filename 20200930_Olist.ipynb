{
  "nbformat": 4,
  "nbformat_minor": 0,
  "metadata": {
    "colab": {
      "name": "20200930 - Olist.ipynb",
      "provenance": [],
      "collapsed_sections": [
        "uRk1mp_dbDlF"
      ],
      "toc_visible": true,
      "mount_file_id": "144zrV50ZVdiuDSYrHsKPQh3PbWOTrRde",
      "authorship_tag": "ABX9TyNZaOFmtalj8p7Fupwpmu/K",
      "include_colab_link": true
    },
    "kernelspec": {
      "name": "python3",
      "display_name": "Python 3"
    }
  },
  "cells": [
    {
      "cell_type": "markdown",
      "metadata": {
        "id": "view-in-github",
        "colab_type": "text"
      },
      "source": [
        "<a href=\"https://colab.research.google.com/github/vf-fontes/intro-cd/blob/master/20200930_Olist.ipynb\" target=\"_parent\"><img src=\"https://colab.research.google.com/assets/colab-badge.svg\" alt=\"Open In Colab\"/></a>"
      ]
    },
    {
      "cell_type": "markdown",
      "metadata": {
        "id": "bXQLuCHVn-ED"
      },
      "source": [
        "# OLIST E-COMMERCE\n",
        "Autor: Vinicius Fontes\n",
        "\n",
        "OBJETIVO:  Realizar análise descritiva de um conjunto de Datasets do Marketplace OLIST. Apartir desta análises verificar possibilidade de utilização de algoritmos de Machine Learning para conclusões preditivas.\n",
        "\n",
        "*   Dataset Original: *https://www.kaggle.com/olistbr/brazilian-ecommerce*\n",
        "\n",
        "Lista de Datasets:\n",
        "*  olist_orders_dataset: Informações sobre as compras realizadas => **[DATASET PRINCIPAL]**\n",
        "* olist_customers_dataset: Informações sobre os clientes bem como sua localização\n",
        "* olist_geolocation_dataset: Códigos postais das cidades brasileiras e suas geolocalizações\n",
        "* olist_order_items_dataset: Informações sobre produtos comprados em cada compra\n",
        "* olist_order_payments_dataset: Informações sobre formas de pagamentos\n",
        "* olist_order_reviews_dataset: Avaliações realizadas pelos clientes\n",
        "* olist_products_dataset: Informação sobre os produtos à venda\n",
        "* olist_sellers_dataset: Informações sobre o vendedor\n",
        "* product_category_name_translation: Nomes dos produtos em lingua inglesa\n"
      ]
    },
    {
      "cell_type": "markdown",
      "metadata": {
        "id": "ohTmfyrX2RYJ"
      },
      "source": [
        "# Instalando Bilbiotecas"
      ]
    },
    {
      "cell_type": "code",
      "metadata": {
        "id": "JLbczxg4iWYX",
        "outputId": "1eae6d63-2fe7-4fdc-a89b-f6bc7af51ffd",
        "colab": {
          "base_uri": "https://localhost:8080/",
          "height": 443
        }
      },
      "source": [
        "!pip install gitly\n",
        "!pip install pycep-correios\n",
        "!pip install unidecode"
      ],
      "execution_count": 248,
      "outputs": [
        {
          "output_type": "stream",
          "text": [
            "Requirement already satisfied: gitly in /usr/local/lib/python3.6/dist-packages (1.1.4)\n",
            "Requirement already satisfied: plotly>=4.9.0 in /usr/local/lib/python3.6/dist-packages (from gitly) (4.11.0)\n",
            "Requirement already satisfied: kaleido in /usr/local/lib/python3.6/dist-packages (from gitly) (0.0.3.post1)\n",
            "Requirement already satisfied: retrying>=1.3.3 in /usr/local/lib/python3.6/dist-packages (from plotly>=4.9.0->gitly) (1.3.3)\n",
            "Requirement already satisfied: six in /usr/local/lib/python3.6/dist-packages (from plotly>=4.9.0->gitly) (1.15.0)\n",
            "Requirement already satisfied: pycep-correios in /usr/local/lib/python3.6/dist-packages (4.0.4)\n",
            "Requirement already satisfied: requests>=2.7.0 in /usr/local/lib/python3.6/dist-packages (from pycep-correios) (2.23.0)\n",
            "Requirement already satisfied: zeep>=2.0.0 in /usr/local/lib/python3.6/dist-packages (from pycep-correios) (4.0.0)\n",
            "Requirement already satisfied: deprecated in /usr/local/lib/python3.6/dist-packages (from pycep-correios) (1.2.10)\n",
            "Requirement already satisfied: urllib3!=1.25.0,!=1.25.1,<1.26,>=1.21.1 in /usr/local/lib/python3.6/dist-packages (from requests>=2.7.0->pycep-correios) (1.24.3)\n",
            "Requirement already satisfied: idna<3,>=2.5 in /usr/local/lib/python3.6/dist-packages (from requests>=2.7.0->pycep-correios) (2.10)\n",
            "Requirement already satisfied: chardet<4,>=3.0.2 in /usr/local/lib/python3.6/dist-packages (from requests>=2.7.0->pycep-correios) (3.0.4)\n",
            "Requirement already satisfied: certifi>=2017.4.17 in /usr/local/lib/python3.6/dist-packages (from requests>=2.7.0->pycep-correios) (2020.6.20)\n",
            "Requirement already satisfied: pytz in /usr/local/lib/python3.6/dist-packages (from zeep>=2.0.0->pycep-correios) (2018.9)\n",
            "Requirement already satisfied: appdirs>=1.4.0 in /usr/local/lib/python3.6/dist-packages (from zeep>=2.0.0->pycep-correios) (1.4.4)\n",
            "Requirement already satisfied: isodate>=0.5.4 in /usr/local/lib/python3.6/dist-packages (from zeep>=2.0.0->pycep-correios) (0.6.0)\n",
            "Requirement already satisfied: lxml>=3.1.0 in /usr/local/lib/python3.6/dist-packages (from zeep>=2.0.0->pycep-correios) (4.2.6)\n",
            "Requirement already satisfied: attrs>=17.2.0 in /usr/local/lib/python3.6/dist-packages (from zeep>=2.0.0->pycep-correios) (20.2.0)\n",
            "Requirement already satisfied: defusedxml>=0.4.1 in /usr/local/lib/python3.6/dist-packages (from zeep>=2.0.0->pycep-correios) (0.6.0)\n",
            "Requirement already satisfied: requests-toolbelt>=0.7.1 in /usr/local/lib/python3.6/dist-packages (from zeep>=2.0.0->pycep-correios) (0.9.1)\n",
            "Requirement already satisfied: cached-property>=1.3.0 in /usr/local/lib/python3.6/dist-packages (from zeep>=2.0.0->pycep-correios) (1.5.2)\n",
            "Requirement already satisfied: requests-file>=1.5.1 in /usr/local/lib/python3.6/dist-packages (from zeep>=2.0.0->pycep-correios) (1.5.1)\n",
            "Requirement already satisfied: wrapt<2,>=1.10 in /usr/local/lib/python3.6/dist-packages (from deprecated->pycep-correios) (1.12.1)\n",
            "Requirement already satisfied: six in /usr/local/lib/python3.6/dist-packages (from isodate>=0.5.4->zeep>=2.0.0->pycep-correios) (1.15.0)\n",
            "Requirement already satisfied: unidecode in /usr/local/lib/python3.6/dist-packages (1.1.1)\n"
          ],
          "name": "stdout"
        }
      ]
    },
    {
      "cell_type": "markdown",
      "metadata": {
        "id": "6emdKBWFoAKQ"
      },
      "source": [
        "# Importando Bibliotecas"
      ]
    },
    {
      "cell_type": "code",
      "metadata": {
        "id": "M2WWKjpvjOkS"
      },
      "source": [
        "# Bibliotecas de Métodos Necessários\n",
        "import pandas as pd\n",
        "import numpy as np\n",
        "from gitly.colab.plot import GitlyPlotter\n",
        "import plotly.express as px\n",
        "import pycep_correios\n",
        "from unidecode import unidecode\n",
        "from plotly.subplots import make_subplots"
      ],
      "execution_count": 357,
      "outputs": []
    },
    {
      "cell_type": "markdown",
      "metadata": {
        "id": "waia92a-oOWW"
      },
      "source": [
        "# Importando Datasets"
      ]
    },
    {
      "cell_type": "code",
      "metadata": {
        "id": "kDKCG28ZoNSo"
      },
      "source": [
        "df_clientes = pd.read_csv('/content/drive/My Drive/MBA/MÓDULO - FUNDAMENTOS/TIAGO [Introdução a Ciência de Dados]/Datasets/olist_customers_dataset.csv')\n",
        "df_geo = pd.read_csv('//content/drive/My Drive/MBA/MÓDULO - FUNDAMENTOS/TIAGO [Introdução a Ciência de Dados]/Datasets/olist_geolocation_dataset.csv', encoding='utf8')\n",
        "df_compra_itens = pd.read_csv('/content/drive/My Drive/MBA/MÓDULO - FUNDAMENTOS/TIAGO [Introdução a Ciência de Dados]/Datasets/olist_order_items_dataset.csv')\n",
        "df_compra_pagamentos = pd.read_csv('/content/drive/My Drive/MBA/MÓDULO - FUNDAMENTOS/TIAGO [Introdução a Ciência de Dados]/Datasets/olist_order_payments_dataset.csv')\n",
        "df_reviews = pd.read_csv('/content/drive/My Drive/MBA/MÓDULO - FUNDAMENTOS/TIAGO [Introdução a Ciência de Dados]/Datasets/olist_order_reviews_dataset.csv')\n",
        "df_compras = pd.read_csv('/content/drive/My Drive/MBA/MÓDULO - FUNDAMENTOS/TIAGO [Introdução a Ciência de Dados]/Datasets/olist_orders_dataset.csv')\n",
        "df_produtos = pd.read_csv('/content/drive/My Drive/MBA/MÓDULO - FUNDAMENTOS/TIAGO [Introdução a Ciência de Dados]/Datasets/olist_products_dataset.csv')\n",
        "df_vendedores = pd.read_csv('/content/drive/My Drive/MBA/MÓDULO - FUNDAMENTOS/TIAGO [Introdução a Ciência de Dados]/Datasets/olist_sellers_dataset.csv')\n",
        "df_cidades_brasil = pd.read_csv('/content/drive/My Drive/PORTIFOLIO/Datasets Importantes/BRAZIL_CITIES.csv', delimiter=';')"
      ],
      "execution_count": 250,
      "outputs": []
    },
    {
      "cell_type": "markdown",
      "metadata": {
        "id": "7X__wV3QtOac"
      },
      "source": [
        "# Dataset de Clientes (Customers)"
      ]
    },
    {
      "cell_type": "markdown",
      "metadata": {
        "id": "MdSb-5cV8NaW"
      },
      "source": [
        "## Pré-processamento"
      ]
    },
    {
      "cell_type": "code",
      "metadata": {
        "id": "Ywl0qoqe8RIi",
        "outputId": "8d81d236-a93a-4b75-a057-1cbad4f62d91",
        "colab": {
          "base_uri": "https://localhost:8080/",
          "height": 119
        }
      },
      "source": [
        "# Verificando existência de valores nulos\n",
        "df_clientes.isnull().sum()"
      ],
      "execution_count": 251,
      "outputs": [
        {
          "output_type": "execute_result",
          "data": {
            "text/plain": [
              "customer_id                 0\n",
              "customer_unique_id          0\n",
              "customer_zip_code_prefix    0\n",
              "customer_city               0\n",
              "customer_state              0\n",
              "dtype: int64"
            ]
          },
          "metadata": {
            "tags": []
          },
          "execution_count": 251
        }
      ]
    },
    {
      "cell_type": "markdown",
      "metadata": {
        "id": "5W5zv0xD8RcD"
      },
      "source": [
        "## Conhecendo a estrutura do Dataset"
      ]
    },
    {
      "cell_type": "code",
      "metadata": {
        "id": "TfyxHeH76pQ-",
        "outputId": "8042804c-887d-4917-d061-96927e89c4fa",
        "colab": {
          "base_uri": "https://localhost:8080/",
          "height": 197
        }
      },
      "source": [
        "# Visualização do Dataset\n",
        "df_clientes.head()"
      ],
      "execution_count": 252,
      "outputs": [
        {
          "output_type": "execute_result",
          "data": {
            "text/html": [
              "<div>\n",
              "<style scoped>\n",
              "    .dataframe tbody tr th:only-of-type {\n",
              "        vertical-align: middle;\n",
              "    }\n",
              "\n",
              "    .dataframe tbody tr th {\n",
              "        vertical-align: top;\n",
              "    }\n",
              "\n",
              "    .dataframe thead th {\n",
              "        text-align: right;\n",
              "    }\n",
              "</style>\n",
              "<table border=\"1\" class=\"dataframe\">\n",
              "  <thead>\n",
              "    <tr style=\"text-align: right;\">\n",
              "      <th></th>\n",
              "      <th>customer_id</th>\n",
              "      <th>customer_unique_id</th>\n",
              "      <th>customer_zip_code_prefix</th>\n",
              "      <th>customer_city</th>\n",
              "      <th>customer_state</th>\n",
              "    </tr>\n",
              "  </thead>\n",
              "  <tbody>\n",
              "    <tr>\n",
              "      <th>0</th>\n",
              "      <td>06b8999e2fba1a1fbc88172c00ba8bc7</td>\n",
              "      <td>861eff4711a542e4b93843c6dd7febb0</td>\n",
              "      <td>14409</td>\n",
              "      <td>franca</td>\n",
              "      <td>SP</td>\n",
              "    </tr>\n",
              "    <tr>\n",
              "      <th>1</th>\n",
              "      <td>18955e83d337fd6b2def6b18a428ac77</td>\n",
              "      <td>290c77bc529b7ac935b93aa66c333dc3</td>\n",
              "      <td>9790</td>\n",
              "      <td>sao bernardo do campo</td>\n",
              "      <td>SP</td>\n",
              "    </tr>\n",
              "    <tr>\n",
              "      <th>2</th>\n",
              "      <td>4e7b3e00288586ebd08712fdd0374a03</td>\n",
              "      <td>060e732b5b29e8181a18229c7b0b2b5e</td>\n",
              "      <td>1151</td>\n",
              "      <td>sao paulo</td>\n",
              "      <td>SP</td>\n",
              "    </tr>\n",
              "    <tr>\n",
              "      <th>3</th>\n",
              "      <td>b2b6027bc5c5109e529d4dc6358b12c3</td>\n",
              "      <td>259dac757896d24d7702b9acbbff3f3c</td>\n",
              "      <td>8775</td>\n",
              "      <td>mogi das cruzes</td>\n",
              "      <td>SP</td>\n",
              "    </tr>\n",
              "    <tr>\n",
              "      <th>4</th>\n",
              "      <td>4f2d8ab171c80ec8364f7c12e35b23ad</td>\n",
              "      <td>345ecd01c38d18a9036ed96c73b8d066</td>\n",
              "      <td>13056</td>\n",
              "      <td>campinas</td>\n",
              "      <td>SP</td>\n",
              "    </tr>\n",
              "  </tbody>\n",
              "</table>\n",
              "</div>"
            ],
            "text/plain": [
              "                        customer_id  ... customer_state\n",
              "0  06b8999e2fba1a1fbc88172c00ba8bc7  ...             SP\n",
              "1  18955e83d337fd6b2def6b18a428ac77  ...             SP\n",
              "2  4e7b3e00288586ebd08712fdd0374a03  ...             SP\n",
              "3  b2b6027bc5c5109e529d4dc6358b12c3  ...             SP\n",
              "4  4f2d8ab171c80ec8364f7c12e35b23ad  ...             SP\n",
              "\n",
              "[5 rows x 5 columns]"
            ]
          },
          "metadata": {
            "tags": []
          },
          "execution_count": 252
        }
      ]
    },
    {
      "cell_type": "code",
      "metadata": {
        "id": "nRaz-0XHPYTn",
        "outputId": "937bd4f9-432a-4480-b5c9-08d3a6385e7c",
        "colab": {
          "base_uri": "https://localhost:8080/",
          "height": 34
        }
      },
      "source": [
        "# Dimensões do dataset\n",
        "print('DImensões do Dataset: ',df_clientes.shape)"
      ],
      "execution_count": 253,
      "outputs": [
        {
          "output_type": "stream",
          "text": [
            "DImensões do Dataset:  (99441, 5)\n"
          ],
          "name": "stdout"
        }
      ]
    },
    {
      "cell_type": "code",
      "metadata": {
        "id": "sBrZutua1u36",
        "outputId": "dc42ced9-347b-4faf-cc73-162fb463b940",
        "colab": {
          "base_uri": "https://localhost:8080/",
          "height": 137
        }
      },
      "source": [
        "# Dimensões das features e instâncias\n",
        "df_clientes.agg(['nunique','count','size'])"
      ],
      "execution_count": 254,
      "outputs": [
        {
          "output_type": "execute_result",
          "data": {
            "text/html": [
              "<div>\n",
              "<style scoped>\n",
              "    .dataframe tbody tr th:only-of-type {\n",
              "        vertical-align: middle;\n",
              "    }\n",
              "\n",
              "    .dataframe tbody tr th {\n",
              "        vertical-align: top;\n",
              "    }\n",
              "\n",
              "    .dataframe thead th {\n",
              "        text-align: right;\n",
              "    }\n",
              "</style>\n",
              "<table border=\"1\" class=\"dataframe\">\n",
              "  <thead>\n",
              "    <tr style=\"text-align: right;\">\n",
              "      <th></th>\n",
              "      <th>customer_id</th>\n",
              "      <th>customer_unique_id</th>\n",
              "      <th>customer_zip_code_prefix</th>\n",
              "      <th>customer_city</th>\n",
              "      <th>customer_state</th>\n",
              "    </tr>\n",
              "  </thead>\n",
              "  <tbody>\n",
              "    <tr>\n",
              "      <th>nunique</th>\n",
              "      <td>99441</td>\n",
              "      <td>96096</td>\n",
              "      <td>14994</td>\n",
              "      <td>4119</td>\n",
              "      <td>27</td>\n",
              "    </tr>\n",
              "    <tr>\n",
              "      <th>count</th>\n",
              "      <td>99441</td>\n",
              "      <td>99441</td>\n",
              "      <td>99441</td>\n",
              "      <td>99441</td>\n",
              "      <td>99441</td>\n",
              "    </tr>\n",
              "    <tr>\n",
              "      <th>size</th>\n",
              "      <td>99441</td>\n",
              "      <td>99441</td>\n",
              "      <td>99441</td>\n",
              "      <td>99441</td>\n",
              "      <td>99441</td>\n",
              "    </tr>\n",
              "  </tbody>\n",
              "</table>\n",
              "</div>"
            ],
            "text/plain": [
              "         customer_id  customer_unique_id  ...  customer_city  customer_state\n",
              "nunique        99441               96096  ...           4119              27\n",
              "count          99441               99441  ...          99441           99441\n",
              "size           99441               99441  ...          99441           99441\n",
              "\n",
              "[3 rows x 5 columns]"
            ]
          },
          "metadata": {
            "tags": []
          },
          "execution_count": 254
        }
      ]
    },
    {
      "cell_type": "markdown",
      "metadata": {
        "id": "W5POOYoLPLtQ"
      },
      "source": [
        "## Explorando o Dataset\n",
        "\n",
        "\n"
      ]
    },
    {
      "cell_type": "markdown",
      "metadata": {
        "id": "4r5g8qBDw06D"
      },
      "source": [
        "### Cidades / Estados que contenham clientes"
      ]
    },
    {
      "cell_type": "code",
      "metadata": {
        "id": "gNO_TpRytUQY",
        "outputId": "6591f578-5e8c-4f92-cd35-853952e1de5a",
        "colab": {
          "base_uri": "https://localhost:8080/",
          "height": 68
        }
      },
      "source": [
        "# Quais cidades tem no meu dataset\n",
        "cidades_clientes = np.sort(np.array([df_clientes.customer_city.unique()]))\n",
        "print('Quantidade de cidades que há clientes:', cidades_clientes.size)\n",
        "print('Cidades que há clientes no dataset: ', cidades_clientes)"
      ],
      "execution_count": 255,
      "outputs": [
        {
          "output_type": "stream",
          "text": [
            "Quantidade de cidades que há clientes: 4119\n",
            "Cidades que há clientes no dataset:  [['abadia dos dourados' 'abadiania' 'abaete' ... 'zacarias' 'ze doca'\n",
            "  'zortea']]\n"
          ],
          "name": "stdout"
        }
      ]
    },
    {
      "cell_type": "code",
      "metadata": {
        "id": "hPnTzljatfBN",
        "outputId": "8a2d380e-8d57-4c41-f220-3ac9e673ccd7",
        "colab": {
          "base_uri": "https://localhost:8080/",
          "height": 51
        }
      },
      "source": [
        "# Quais estados tem no meu dataset\n",
        "estados_clientes = df_clientes.customer_state.unique()\n",
        "print('Estados únicos encontradas no dataset: ', np.sort(estados_clientes))"
      ],
      "execution_count": 256,
      "outputs": [
        {
          "output_type": "stream",
          "text": [
            "Estados únicos encontradas no dataset:  ['AC' 'AL' 'AM' 'AP' 'BA' 'CE' 'DF' 'ES' 'GO' 'MA' 'MG' 'MS' 'MT' 'PA'\n",
            " 'PB' 'PE' 'PI' 'PR' 'RJ' 'RN' 'RO' 'RR' 'RS' 'SC' 'SE' 'SP' 'TO']\n"
          ],
          "name": "stdout"
        }
      ]
    },
    {
      "cell_type": "code",
      "metadata": {
        "id": "a7VaAHLcDIuX",
        "outputId": "22958a70-a746-477c-f8d6-51f5e058a818",
        "colab": {
          "base_uri": "https://localhost:8080/",
          "height": 34
        }
      },
      "source": [
        "# Quantidade de estados únicos\n",
        "print('Quantidade de estados Únicos: ',len(estados_clientes))"
      ],
      "execution_count": 257,
      "outputs": [
        {
          "output_type": "stream",
          "text": [
            "Quantidade de estados Únicos:  27\n"
          ],
          "name": "stdout"
        }
      ]
    },
    {
      "cell_type": "code",
      "metadata": {
        "id": "pc8c3ZzSsDzb"
      },
      "source": [
        "# Transformando instâncias de cidades_brasil para minúsuculas e retirando acentos\n",
        "df_cidades_brasil['CITY'] = df_cidades_brasil.apply(lambda x: x['CITY'].lower(), axis = 1)\n",
        "df_cidades_brasil['CITY'] = df_cidades_brasil.apply(lambda x: unidecode(x['CITY']), axis = 1)\n",
        "cidades_brasil = np.array([df_cidades_brasil.CITY])\n",
        "cidades_brasil = np.sort(cidades_brasil)"
      ],
      "execution_count": 258,
      "outputs": []
    },
    {
      "cell_type": "markdown",
      "metadata": {
        "id": "FH9tFB1xwY-v"
      },
      "source": [
        "### Cidades / Estados que não contenham clientes"
      ]
    },
    {
      "cell_type": "code",
      "metadata": {
        "id": "3DiC8yVzyaeP",
        "outputId": "e66462bb-21aa-4710-fa40-682b2bf71f50",
        "colab": {
          "base_uri": "https://localhost:8080/",
          "height": 85
        }
      },
      "source": [
        "# Resumo sobre cidades que contenham clientes ou não\n",
        "print('Quantidade de cidades que há clientes:', cidades_clientes.size)\n",
        "print('Quantidade de cidades no Brasil :',cidades_brasil.size)\n",
        "print('Quantidade de cidades que ainda não tem cliente: ',cidades_brasil.size - cidades_clientes.size)\n",
        "print('Oportunidade de divulgação em %.2f%% das cidades brasileiras'%(((cidades_brasil.size - cidades_clientes.size)/cidades_brasil.size)*100))"
      ],
      "execution_count": 259,
      "outputs": [
        {
          "output_type": "stream",
          "text": [
            "Quantidade de cidades que há clientes: 4119\n",
            "Quantidade de cidades no Brasil : 5573\n",
            "Quantidade de cidades que ainda não tem cliente:  1454\n",
            "Oportunidade de divulgação em 26.09% das cidades brasileiras\n"
          ],
          "name": "stdout"
        }
      ]
    },
    {
      "cell_type": "code",
      "metadata": {
        "id": "HMgW9E7Dwisw",
        "outputId": "d5afdb4d-d076-4095-9df7-8acdf6b861af",
        "colab": {
          "base_uri": "https://localhost:8080/",
          "height": 85
        }
      },
      "source": [
        "# Visualizando cidades brasileiras e cidades que há clientes\n",
        "print('Cidades brasileiras: ', cidades_brasil)\n",
        "print('Cidades que há clientes: ',cidades_clientes)"
      ],
      "execution_count": 260,
      "outputs": [
        {
          "output_type": "stream",
          "text": [
            "Cidades brasileiras:  [['abadia de goias' 'abadia dos dourados' 'abadiania' ... 'zacarias'\n",
            "  'ze doca' 'zortea']]\n",
            "Cidades que há clientes:  [['abadia dos dourados' 'abadiania' 'abaete' ... 'zacarias' 'ze doca'\n",
            "  'zortea']]\n"
          ],
          "name": "stdout"
        }
      ]
    },
    {
      "cell_type": "code",
      "metadata": {
        "id": "cSdXdHXlN-wM",
        "outputId": "4e7906ba-ee39-42f9-f892-41d08d9f2b70",
        "colab": {
          "base_uri": "https://localhost:8080/",
          "height": 71
        }
      },
      "source": [
        "# Quais cidades que ainda não tem clientes\n",
        "cidades_sem_clientes = []\n",
        "for i in cidades_brasil[0]:\n",
        "  if i not in cidades_clientes:\n",
        "    cidades_sem_clientes.append(i)\n",
        "print('Cidades que não há clientes: ',cidades_sem_clientes)\n",
        "print(len(cidades_sem_clientes))"
      ],
      "execution_count": 261,
      "outputs": [
        {
          "output_type": "stream",
          "text": [
            "Cidades que não há clientes:  ['abadia de goias', 'abel figueiredo', 'abreulandia', 'acara', 'acarape', 'acaua', 'acorizal', 'acrelandia', 'adelandia', 'afonso bezerra', 'afonso cunha', 'afua', 'agricolandia', 'agua azul do norte', 'agua doce do maranhao', 'agua fria', 'aguanil', 'aguas de chapeco', 'agudos do sul', 'aguiar', 'aguiarnopolis', 'aiquara', 'alagoinha do piaui', 'albertina', 'alcantaras', 'alcantil', 'aldeias altas', 'alecrim', 'alenquer', 'algodao de jandaira', 'almadina', 'almeirim', 'aloandia', 'altair', 'altamira do maranhao', 'alto alegre dos parecis', 'alto feliz', 'alto longa', 'alto paraguai', 'alvaraes', 'alvinlandia', 'alvorada de minas', 'alvorada do sul', 'amajari', 'amapa', 'amaral ferrador', 'amaralina', 'amarante do maranhao', 'amatura', 'amorinopolis', 'amparo de sao francisco', 'amparo do serra', 'anahy', 'anajas', 'anajatuba', 'anama', 'anapu', 'anapurus', 'angelandia', 'angelim', 'angico', 'anhanguera', 'anisio de abreu', 'anori', 'antas', 'antonio almeida', 'antonio dias', 'antonio joao', 'antonio olinto', 'aparecida do rio doce', 'apicum-acu', 'apui', 'arabuta', 'aracagi', 'aracai', 'aracas', 'aracu', 'aragominas', 'araguacema', 'araguaiana', 'araguainha', 'araioses', 'aral moreira', 'arambare', 'ararenda', 'aratuipe', 'araua', 'arco-iris', 'areia de baraunas', 'ares', 'argirita', 'aricanduva', 'ariranha do ivai', 'aroazes', 'aroeiras do itaim', 'arraial', 'arroio do padre', 'aspasia', 'assis brasil', 'assuncao do piaui', 'atalaia do norte', 'augusto de lima', 'augusto severo', 'aurelino leal', 'aurora do tocantins', 'autazes', 'aveiro', 'avelinopolis', 'axixa', 'axixa do tocantins', 'babaculandia', 'bacabeira', 'bacurituba', 'bagre', 'baia da traicao', 'baia formosa', 'baiao', 'baixio', 'baliza', 'bandeirante', 'bannach', 'barao de antonina', 'barao de grajau', 'barao de melgaco', 'barao de monte alto', 'barbosa', 'barcelona', 'barcelos', \"barra d'alcantara\", 'barra de santana', 'barra do chapeu', 'barra do guarita', 'barra do ouro', 'barra do quarai', 'barra do rocha', 'barra funda', 'barreiras do piaui', 'barreirinha', 'barro duro', 'barroquinha', 'bela vista da caroba', 'bela vista do piaui', 'bela vista do toldo', 'belagua', 'belem de maria', 'belem do brejo do cruz', 'belem do piaui', 'belmiro braga', 'belo monte', 'belterra', 'beneditinos', 'benjamin constant', 'benjamin constant do sul', 'bento fernandes', 'bernardino batista', 'bernardo do mearim', 'bernardo sayao', 'beruri', 'betania', 'betania do piaui', 'biquinhas', 'biritiba mirim', 'boa hora', 'boa nova', 'boa ventura de sao roque', 'boa vista do incra', 'boa vista do ramos', 'boa vista do tupim', 'boca do acre', 'bocaina de minas', 'bocaina do sul', 'bom jardim da serra', 'bom jesus de goias', 'bom jesus do oeste', 'bom lugar', 'bom principio do piaui', 'bom progresso', 'bom sucesso de itarare', 'bom sucesso do sul', 'bonfim do piaui', 'bonopolis', 'boqueirao', 'boqueirao do piaui', 'borba', 'borebi', 'botumirim', 'bozano', 'braco do trombudo', 'braga', 'braganey', 'branquinha', 'brasilandia do sul', 'brasilandia do tocantins', 'brasileira', 'brasnorte', 'brejao', 'brejinho', 'brejinho', 'brejinho de nazare', 'brejo alegre', 'brejo de areia', 'brejo do piaui', 'brejo grande do araguaia', 'brochier', 'brunopolis', 'bujari', 'bujaru', 'buriti bravo', 'buriti de goias', 'buriti dos montes', 'buritinopolis', 'buritirana', 'caapiranga', 'caapora', 'caatiba', 'cabaceiras', 'cabeceiras do piaui', 'cachoeira de goias', 'cachoeira do arari', 'cachoeira do piria', 'cachoeira dos indios', 'cachoeira grande', 'cacimba de areia', 'cacimba de dentro', 'cacimbas', 'cacique doble', 'cafarnaum', 'cafezal do sul', 'caiabu', 'caicara', 'caicara', 'caicara do rio do vento', 'cajazeiras do piaui', 'cajazeirinhas', 'cajueiro da praia', 'calcoene', 'caldazinha', 'calumbi', 'camalau', 'camargo', 'campestre de goias', 'campina do simao', 'campinas do piaui', 'campo belo do sul', 'campo largo do piaui', 'campo limpo de goias', 'campo novo de rondonia', 'campo redondo', 'campos lindos', 'campos novos paulista', 'cana verde', 'canabrava do norte', 'canas', 'canavieira', 'candiba', 'canguaretama', 'canhoba', 'canta', 'canudos do vale', 'canutama', 'capao alto', 'capao bonito do sul', 'capim', 'capitao de campos', 'capitao gervasio oliveira', 'capixaba', 'caraa', 'caracarai', 'caranaiba', 'carauari', 'caraubas do piaui', 'cardeal da silva', 'careiro', 'careiro da varzea', 'caridade do piaui', 'carira', 'carlos gomes', 'carnaiba', 'carnaubeira da penha', 'carneiros', 'caroebe', 'carrapateira', 'carrasco bonito', 'carvalhos', 'casa grande', 'caseara', 'casinhas', 'casserengue', 'catas altas da noruega', 'catingueira', 'catolandia', 'catuji', 'catunda', 'caturai', 'caturite', 'catuti', 'central de minas', 'central do maranhao', 'centro do guilherme', 'cerro branco', 'cerro cora', 'cha preta', 'chapada da natividade', 'chapada de areia', 'chaves', 'chiador', 'choro', 'chupinguaia', 'chuvisca', 'cipotanea', 'cocal de telha', 'cocal dos alves', 'codajas', 'coivaras', 'colares', 'colinas do sul', 'colonia do gurgueia', 'colonia do piaui', 'comendador gomes', 'conceicao da barra de minas', 'conceicao de ipanema', 'conceicao do lago-acu', 'conego marinho', 'congo', 'congonhas do norte', 'consolacao', 'contendas do sincora', 'coqueiral', 'coqueiro seco', 'cordilheira alta', 'cordisburgo', 'cordislandia', 'coronel barros', 'coronel bicaco', 'coronel ezequiel', 'coronel jose dias', 'coronel pilar', 'coronel xavier chaves', 'corrego do bom jesus', 'corrego novo', 'corumbiara', 'couto de magalhaes de minas', 'couto magalhaes', 'coxixola', 'craibas', 'cristal do sul', 'cristalandia do piaui', 'cristianopolis', 'cristino castro', 'crixas do tocantins', 'cruz do espirito santo', 'cruzaltense', 'cruzeta', 'cruzmaltina', 'cuite de mamanguape', 'cuitegi', 'cumaru do norte', 'cumbe', 'cunhatai', 'cuparaque', 'curimata', 'curionopolis', 'currais', 'curral de dentro', 'curral novo do piaui', 'curral velho', 'curralinhos', 'curua', 'cutias', 'damiao', 'damolandia', 'darcinopolis', 'davinopolis', 'davinopolis', 'delta', 'derrubadas', 'descanso', 'diamante', 'diamante do sul', 'dilermando de aguiar', 'dirce reis', 'dirceu arcoverde', 'divina pastora', 'divisopolis', 'dois irmaos das missoes', 'dois irmaos do tocantins', 'dois lajeados', 'dolcinopolis', 'dom bosco', 'dom expedito lopes', 'dom inocencio', 'dom pedro de alcantara', 'domingos mourao', 'dona eusebia', 'dona ines', 'dores do turvo', 'doresopolis', 'douradoquara', 'doutor pedrinho', 'doutor ricardo', 'doutor severiano', 'duas estradas', 'duque bacelar', 'edealina', 'eirunepe', 'eldorado do carajas', 'elesbao veloso', 'emas', 'encanto', 'encruzilhada', 'engenheiro caldas', 'engenho velho', 'entre rios do sul', 'envira', 'equador', 'ermo', 'ernestina', 'erval seco', 'erval velho', 'esperanca do sul', 'esperanca nova', \"espigao d'oeste\", 'espirito santo', 'espirito santo do dourado', 'estrela dalva', 'estrela de alagoas', 'exu', 'fagundes varela', 'faina', 'fama', 'faria lemos', 'farias brito', 'faro', 'fartura do piaui', 'faxinal do soturno', 'feijo', 'feira da mata', 'feira grande', 'feira nova do maranhao', 'fernandes pinheiro', 'fernandes tourinho', 'fernando de noronha', 'fernando falcao', 'fernando pedroza', 'ferreira gomes', 'figueirao', 'figueiropolis', 'firmino alves', 'flexeiras', 'flor do sertao', 'flores do piaui', 'floresta azul', 'floresta do piaui', 'floriano peixoto', 'florinea', 'fonte boa', 'formosa do sul', 'forquetinha', 'fortaleza de minas', 'fortaleza do tabocao', 'fortaleza dos nogueiras', 'fortuna de minas', 'francinopolis', 'francisco alves', 'francisco ayres', 'francisco macedo', 'franciscopolis', 'frei miguelinho', 'frei paulo', 'fronteira dos vales', 'funilandia', 'gado bravo', 'galileia', 'gameleira de goias', 'gararu', 'gaviao', 'geminiano', 'general sampaio', 'gentil', 'glaucilandia', 'gloria', \"gloria d'oeste\", 'godofredo viana', 'goiatins', 'goioxim', 'gonzaga', 'gouvelandia', 'governador archer', 'governador edison lobao', 'governador jorge teixeira', 'governador luiz rocha', 'governador newton bello', 'governador nunes freire', 'graca', 'graca aranha', 'gracho cardoso', 'granito', 'granjeiro', 'grossos', 'guaimbe', 'guajara', 'guajeru', 'guaporema', 'guaraciama', 'guaraita', 'guaramiranga', \"guarani d'oeste\", 'guarani de goias', 'guaribas', 'guarinos', 'guatambu', 'guiratinga', 'gurinhata', 'gurinhem', 'gurjao', 'gurupa', 'harmonia', 'heitorai', 'heliodora', 'honorio serpa', 'hugo napoleao', 'ibaretama', 'ibicui', 'ibiquera', 'ibirajuba', 'ibirapitanga', 'ibirapuita', 'ibitirama', 'ibitiura de minas', 'ibituruna', 'igaracy', 'igarape do meio', 'igarape grande', 'iguaracy', 'iguatemi', 'ijaci', 'ilha das flores', 'imarui', 'indaiabira', 'indiavai', 'ingazeira', 'inhacora', 'inhangapi', 'ipanguacu', 'ipeuna', 'ipiranga do piaui', 'ipixuna', 'iporanga', 'ipuacu', 'iracema do oeste', 'iraceminha', 'irajuba', 'iranduba', 'irituia', 'israelandia', 'itacaja', 'itacambira', 'itacuruba', 'itacurubi', 'itaete', 'itaguatins', 'itaiba', 'itainopolis', 'itaipava do grajau', 'itaipe', 'itamarati', 'itamarati de minas', 'itambe do mato dentro', 'itanagra', 'itapebi', 'itapiratins', 'itapora do tocantins', 'itapororoca', 'itapua do oeste', 'itapuca', 'itaquara', 'itaruma', 'itati', 'itatira', 'itatuba', 'itaubal', 'itaucu', 'itauna do sul', 'itaverava', 'itinga do maranhao', 'itirapua', 'itumirim', 'iuiu', 'ivatuba', 'ivolandia', 'jaboticaba', 'jacana', 'jacare dos homens', 'jacobina do piaui', 'jaguarari', 'jaguaretama', 'jaguaripe', 'jaicos', 'jangada', 'januario cicco', 'japaratinga', 'japonvar', 'japora', 'jaramataia', 'jardim de angicos', 'jardim do mulato', 'jatei', 'jati', 'jatoba do piaui', 'jau do tocantins', 'jenipapo dos vieiras', 'jerumenha', 'jitauna', 'joanesia', 'joao costa', 'joao dias', 'joaquim felicio', 'joaquim gomes', 'joca claudino', 'joca marques', 'joia', 'jordao', 'jose goncalves de minas', 'jose raydan', 'josenopolis', 'juarez tavora', 'juarina', 'juazeirinho', 'juazeiro do piaui', 'jucati', 'julio borges', 'junco do maranhao', 'jundia', 'jundia', 'jupia', 'juramento', 'jurua', 'jutai', 'labrea', 'lacerdopolis', 'lafaiete coutinho', 'lagamar', 'lago do junco', 'lago dos rodrigues', 'lagoa alegre', 'lagoa bonita do sul', 'lagoa de dentro', 'lagoa de itaenga', 'lagoa de pedras', 'lagoa do barro do piaui', 'lagoa do sitio', 'lagoa do tocantins', 'lagoa grande do maranhao', 'lagoa seca', 'laguna carapa', 'laje', 'lajeado do bugre', 'lajeado novo', 'lajedao', 'lajedinho', 'lajedo do tabocal', 'lajes', 'lajes pintadas', \"lambari d'oeste\", 'landri sales', 'lapao', 'laranjeiras', 'lassance', 'lastro', 'lavandeira', 'leme do prado', 'licinio de almeida', 'lidianopolis', 'lima campos', 'limoeiro de anadia', 'limoeiro do ajuru', 'linha nova', 'lizarda', 'logradouro', 'lontra', 'luciara', 'lucrecia', 'luis domingues', 'luis gomes', 'luislandia', 'luzerna', 'luzinopolis', 'macajuba', 'macarani', 'macurure', 'madeiro', 'maetinga', 'magalhaes barata', 'major gercino', 'major isidoro', 'major sales', 'malhada', 'malhada de pedras', 'malhada dos bois', 'malta', 'manacapuru', 'manaquiri', 'manari', 'mancio lima', 'manicore', 'manoel emidio', 'manoel vitorino', 'maraa', 'maraba paulista', 'maracaja', 'maraial', 'maraja do sena', 'marapanim', 'marapoama', 'marata', 'marcacao', 'marcelandia', 'marcelino ramos', 'marcionilio souza', 'marcolandia', 'marechal thaumaturgo', 'marema', 'maria helena', 'mariana pimentel', 'marianopolis do tocantins', 'maripa de minas', 'marizopolis', 'marlieria', 'marmelopolis', 'marquinho', 'martinopole', 'maruim', 'marumbi', 'marzagao', 'massape do piaui', 'mataraca', 'mateiros', 'mathias lobato', 'matias cardoso', 'matina', 'matinha', 'matinhas', 'mato castelhano', 'mato grosso', 'mato queimado', 'matos costa', 'matureia', 'maues', 'maurilandia do tocantins', 'maxaranguape', 'mazagao', 'melgaco', 'mesopolis', 'messias', 'miguel alves', 'miguel leao', 'milagres do maranhao', 'milton brandao', 'minador do negrao', 'mirabela', 'miracema do tocantins', 'mirador', 'mirador', 'mirangaba', 'mirante', 'miraselva', 'mirassolandia', 'mirim doce', 'modelo', 'mogeiro', 'mogi guacu', 'moipora', 'moita bonita', 'monjolos', 'monsenhor gil', 'monsenhor hipolito', 'monte alegre de goias', 'monte alegre do piaui', 'monte alegre dos campos', 'monte das gameleiras', 'monte do carmo', 'monte horebe', 'monte negro', 'monte santo do tocantins', 'monteiro', 'montes altos', 'montes claros de goias', 'montividiu', 'moraujo', 'mormaco', 'morrinhos do sul', 'morro cabeca no tempo', 'morro do chapeu do piaui', 'morros', 'mortugaba', 'muana', 'mucajai', 'mucum', 'muitos capoes', 'mulungu', 'mulungu', 'mulungu do morro', 'muniz ferreira', 'muribeca', 'murici dos portelas', 'muricilandia', 'naque', 'natalandia', 'natuba', 'nazare do piaui', 'nazarezinho', 'nazaria', 'nhamunda', 'nicolau vergueiro', 'nilo pecanha', 'nina rodrigues', 'ninheira', 'nioaque', 'nisia floresta', 'nordestina', 'normandia', 'nossa senhora aparecida', 'nossa senhora de nazare', 'nossa senhora do livramento', 'nossa senhora dos remedios', 'nova alianca', 'nova alianca do ivai', 'nova belem', 'nova brasilandia', 'nova candelaria', 'nova castilho', 'nova colinas', 'nova gloria', 'nova ibia', 'nova iguacu de goias', 'nova iorque', 'nova itarana', 'nova marilandia', 'nova maringa', 'nova modica', 'nova nazare', 'nova olinda do norte', 'nova palmeira', 'nova porteirinha', 'nova ramada', 'nova rosalandia', 'nova santa helena', 'nova tebas', 'nova uniao', 'nova uniao', 'novo acordo', 'novo airao', 'novo aripuana', 'novo horizonte do norte', 'novo horizonte do oeste', 'novo horizonte do sul', 'novo santo antonio', 'novo santo antonio', 'novo tiradentes', 'novo triunfo', 'novo xingu', 'novorizonte', 'obidos', \"olho d'agua\", \"olho d'agua do borges\", \"olho d'agua do casado\", \"olho d'agua do piaui\", \"olho d'agua grande\", \"olhos-d'agua\", 'olimpio noronha', 'olinda nova do maranhao', 'olivedos', 'oliveira de fatima', 'oliveira fortes', 'olivenca', 'onca de pitangui', 'oratorios', 'oriximina', 'ouricangas', 'ouro velho', 'ourolandia', 'pacaraima', 'padre marcos', 'paes landim', 'pai pedro', 'paim filho', 'painel', 'pajeu do piaui', 'palestina de goias', 'palestina do para', 'palmacia', 'palmas de monte alto', 'palmeira do piaui', 'palmeirais', 'palmeirandia', 'palmeirante', 'palmeiras do tocantins', 'palmeirina', 'palmeiropolis', 'palmelo', 'panama', 'pao de acucar', 'paqueta', 'paramoti', 'paranatama', 'parari', 'paratinga', 'parau', 'parazinho', 'parecis', 'pariconha', 'parintins', 'parnagua', 'passa e fica', 'passa sete', 'passa vinte', 'passabem', 'passagem franca do piaui', 'passo do sobrado', 'patos do piaui', \"pau d'arco do piaui\", 'pauini', 'paulistas', 'paulo bento', 'paulo ramos', 'paverama', 'pavussu', 'pe de serra', 'pedra bonita', 'pedra branca do amapari', 'pedra do anta', 'pedra dourada', 'pedra grande', 'pedra mole', 'pedras de maria da cruz', 'pedras grandes', 'pedrinhas', 'pedro alexandre', 'pedro avelino', 'pedro do rosario', 'pedro laurentino', 'pedro regis', 'pedro teixeira', 'peixe-boi', 'penalva', 'pequeri', 'peritoro', 'perolandia', 'pescaria brava', 'petrolina de goias', 'piedade de ponte nova', 'pilar de goias', 'piloes', 'piloes', 'piloezinhos', 'pimenteiras do oeste', 'pindare-mirim', \"pingo d'agua\", 'pinhal', 'pinhal de sao bento', 'pinhal grande', 'pinheirinho do vale', 'pinheiro preto', 'pintopolis', 'piquet carneiro', 'pirangucu', 'piraque', 'placido de castro', 'planalto alegre', 'planalto da serra', 'platina', 'poco branco', 'poco dantas', 'poco das antas', 'poco das trincheiras', 'poco de jose de moura', 'pocone', 'ponta de pedras', 'pontal do araguaia', 'ponte alta', 'ponte alta do bom jesus', 'ponte alta do tocantins', 'ponte branca', 'ponte preta', 'ponto chique', 'poranga', 'porteirao', 'portel', 'porto', 'porto alegre do piaui', 'porto alegre do tocantins', 'porto barreiro', 'porto da folha', 'porto de moz', 'porto do mangue', 'porto maua', 'porto real do colegio', 'porto rico do maranhao', 'porto vera cruz', 'porto vitoria', 'porto walter', 'potiretama', 'pracinha', 'pracuuba', 'prado ferreira', 'prainha', 'prata do piaui', 'pratania', 'pratinha', 'presidente castelo branco', 'presidente figueiredo', 'presidente sarney', 'presidente vargas', 'primavera de rondonia', 'primeira cruz', 'princesa', 'professor jamil', 'quartel geral', 'quarto centenario', 'quatipuru', 'quatro irmaos', 'quebrangulo', 'queimada nova', 'queluzito', 'quinze de novembro', 'quiterianopolis', 'quixaba', 'quixaba', 'rafael fernandes', 'rafael godeiro', 'rafael jambeiro', 'ramilandia', 'raposa', 'recursolandia', 'reduto', 'relvado', 'restinga', 'riachao', 'riachao', 'riachao do bacamarte', 'riachao do dantas', 'riachao do poco', 'riacho dos cavalos', 'riacho frio', 'rialma', 'ribamar fiquene', 'ribeira do piaui', 'ribeirao corrente', 'ribeirao do largo', 'ribeirao dos indios', 'ribeirao grande', 'ribeiro goncalves', 'rio bom', 'rio branco do ivai', 'rio crespo', 'rio da conceicao', 'rio do fogo', 'rio do prado', 'rio dos bois', 'rio preto da eva', 'rio quente', 'rio sono', 'rio verde de mato grosso', 'rio vermelho', 'riozinho', 'rochedo', 'rochedo de minas', 'rodrigues alves', 'rolador', 'rondinha', 'rondolandia', 'rorainopolis', 'rosario da limeira', 'rosario do catete', 'rosario oeste', 'roteiro', 'ruropolis', 'sagrada familia', 'sagres', 'saire', 'saldanha marinho', 'salete', 'salgadinho', 'salgadinho', 'salgado', 'salgado de sao felix', 'salinopolis', 'salitre', 'salvador das missoes', 'salvaterra', 'sampaio', 'sandovalina', \"sant'ana do livramento\", 'santa barbara de goias', 'santa barbara do leste', 'santa barbara do monte verde', 'santa barbara do tugurio', 'santa carmem', 'santa cecilia do sul', 'santa cruz da baixa verde', 'santa cruz da esperanca', 'santa cruz da vitoria', 'santa cruz do arari', 'santa cruz do escalvado', 'santa cruz do xingu', 'santa cruz dos milagres', 'santa efigenia de minas', 'santa fe do araguaia', 'santa filomena do maranhao', 'santa isabel do rio negro', 'santa izabel do para', 'santa luz', \"santa luzia d'oeste\", 'santa luzia do itanhy', 'santa luzia do para', 'santa margarida do sul', 'santa maria das barreiras', 'santa maria do cambuca', 'santa maria do oeste', 'santa maria do tocantins', 'santa rita de cassia', 'santa rita de ibitipoca', 'santa rita do novo destino', 'santa rita do pardo', 'santa rita do tocantins', 'santa rita do trivelato', 'santa rosa da serra', 'santa rosa de goias', 'santa rosa do piaui', 'santa rosa do purus', 'santa rosa do tocantins', 'santa tereza', 'santa tereza de goias', 'santa tereza do tocantins', 'santa terezinha de goias', 'santa terezinha do progresso', 'santa terezinha do tocantins', 'santana da ponte pensa', 'santana de cataguases', 'santana de mangueira', 'santana do garambeu', 'santana do maranhao', 'santana do matos', 'santana do piaui', 'santana do riacho', 'santana do sao francisco', 'santana dos garrotes', 'santanopolis', 'santarem novo', 'santiago do sul', 'santo afonso', 'santo amaro do maranhao', 'santo antonio da barra', 'santo antonio de lisboa', 'santo antonio do ica', 'santo antonio do paraiso', 'santo antonio do retiro', 'santo antonio dos lopes', 'santo antonio dos milagres', 'santo inacio do piaui', 'santopolis do aguapei', 'sao bento do norte', 'sao bento do tocantins', 'sao bento do trairi', 'sao braz do piaui', 'sao caetano', 'sao caetano de odivelas', 'sao caitano', 'sao domingos do azeitao', 'sao domingos do capim', 'sao domingos do cariri', \"sao felipe d'oeste\", 'sao felix de balsas', 'sao felix do piaui', 'sao felix do tocantins', 'sao francisco de assis do piaui', 'sao francisco de goias', 'sao francisco de sales', 'sao francisco do maranhao', 'sao francisco do oeste', 'sao francisco do para', 'sao francisco do piaui', 'sao gabriel da cachoeira', 'sao geraldo do araguaia', 'sao geraldo do baixio', 'sao goncalo do gurgueia', 'sao goncalo do piaui', 'sao goncalo dos campos', 'sao jeronimo da serra', 'sao joao da baliza', 'sao joao da canabrava', 'sao joao da fronteira', 'sao joao da lagoa', 'sao joao da ponta', 'sao joao da serra', 'sao joao da varjota', 'sao joao das duas pontes', 'sao joao do araguaia', 'sao joao do arraial', 'sao joao do caiua', 'sao joao do cariri', 'sao joao do caru', 'sao joao do jaguaribe', 'sao joao do oeste', 'sao joao do pacui', \"sao joao do pau d'alho\", 'sao joao do polesine', 'sao joao do rio do peixe', 'sao joao do soter', 'sao joao do tigre', 'sao jose da lagoa tapada', 'sao jose da safira', 'sao jose da varginha', 'sao jose das missoes', 'sao jose das palmeiras', 'sao jose de caiana', 'sao jose de espinharas', 'sao jose de piranhas', 'sao jose de princesa', 'sao jose do alegre', 'sao jose do bonfim', 'sao jose do brejo do cruz', 'sao jose do herval', 'sao jose do jacuipe', 'sao jose do jacuri', 'sao jose do mantimento', 'sao jose do peixe', 'sao jose do povo', 'sao jose do sabugi', 'sao jose do sul', 'sao jose dos ausentes', 'sao jose dos basilios', 'sao jose dos ramos', 'sao juliao', 'sao luis do piaui', 'sao luis gonzaga do maranhao', 'sao luiz', 'sao luiz do paraitinga', 'sao manoel do parana', 'sao martinho da serra', 'sao miguel da baixa grande', 'sao miguel da boa vista', 'sao miguel das missoes', 'sao miguel de taipu', 'sao miguel do fidalgo', 'sao miguel do passa quatro', 'sao miguel do tocantins', 'sao miguel dos milagres', 'sao paulo de olivenca', 'sao pedro da cipa', 'sao pedro da serra', 'sao pedro das missoes', 'sao pedro do parana', 'sao pedro do piaui', 'sao pedro do suacui', 'sao pedro dos crentes', 'sao raimundo das mangabeiras', 'sao raimundo do doca bezerra', 'sao roberto', 'sao salvador do tocantins', 'sao sebastiao da bela vista', 'sao sebastiao da vargem alegre', 'sao sebastiao de lagoa de roca', 'sao sebastiao do anta', 'sao sebastiao do oeste', 'sao sebastiao do rio preto', 'sao sebastiao do tocantins', 'sao sebastiao do uatuma', 'sao sebastiao do umbuzeiro', 'sao valentim do sul', 'sao valerio', 'sao valerio do sul', 'sao vicente de minas', 'sao vicente do serido', 'sao vicente do sul', 'sebastianopolis do sul', 'sebastiao barros', 'sebastiao laranjeiras', 'sede nova', 'selviria', 'sem-peixe', 'sena madureira', 'senador alexandre costa', 'senador eloi de souza', 'senador georgino avelino', 'senador jose bento', 'senador rui palmeira', 'senador sa', 'senhora do porto', 'sentinela do sul', 'seritinga', 'serra alta', 'serra caiada', 'serra da raiz', 'serra da saudade', 'serra do mel', 'serra do navio', 'serra grande', 'serra negra do norte', 'serra nova dourada', 'serra preta', 'serra redonda', 'serrano do maranhao', 'serranos', 'serraria', 'serrinha dos pintos', 'sertaneja', 'sete quedas', 'severiano de almeida', 'sigefredo pacheco', 'silveirania', 'silves', 'simoes', 'siriri', \"sitio d'abadia\", 'sitio do mato', 'sobrado', 'socorro do piaui', 'solidao', 'sossego', 'soure', 'souto soares', 'sucupira', 'sucupira do riachao', 'sul brasil', 'sussuapara', 'tabai', 'taboleiro grande', 'tacaimbo', 'tacima', 'taipas do tocantins', 'taipu', 'talisma', 'tamboril', 'tamboril do piaui', 'tanque do piaui', 'tanquinho', 'tapaua', 'taperoa', 'taperoa', 'tapira', 'tapira', 'taquaral', 'taquaral de goias', 'taquarussu', 'tarauaca', 'tarrafas', 'tartarugalzinho', 'tasso fragoso', 'tefe', 'teixeiropolis', 'tejucuoca', 'tenente laurentino cruz', 'tenorio', 'terezopolis de goias', 'terra alta', 'terra santa', 'tesouro', 'theobroma', 'tibau', 'tigrinhos', 'tijucas do sul', 'timbauba dos batistas', 'timbiras', 'timbo grande', 'tio hugo', 'tocantinia', 'tonantins', 'torixoreu', 'torre de pedra', 'touros', 'trairao', 'tremedal', 'tres barras do parana', 'tres palmeiras', 'tres ranchos', 'treze de maio', 'triunfo potiguar', 'trizidela do vale', 'tufilandia', 'tunas', 'tuneiras do oeste', 'tuntum', 'tupanatinga', 'tupanci do sul', 'tupirama', 'tupiratins', 'turiacu', 'turilandia', 'turiuba', 'turucu', 'uarini', 'ubarana', 'ubiretama', 'uiramuta', 'uirapuru', 'umari', 'umarizal', 'umbuzeiro', 'umirim', 'uniao paulista', 'uniflor', 'uru', 'urucara', 'urupema', 'vale de sao domingos', 'vale do anari', 'vale do paraiso', 'vale verde', 'varjao', 'varzea branca', 'varzea da roca', 'venha-ver', 'vera mendes', 'verdejante', 'verdelandia', 'veredinha', 'vertente do lerio', 'viadutos', 'vidal ramos', 'vieiropolis', 'vila boa', 'vila maria', 'vila nova do piaui', 'vila nova dos martirios', 'vila pavao', 'vila propicio', 'virmond', 'vista alegre do prata', 'vista gaucha', 'vista serrana', 'vitor meireles', 'vitoria brasil', 'vitoria do xingu', 'wall ferraz', 'wanderlandia', 'westfalia', 'zabele']\n",
            "1438\n"
          ],
          "name": "stdout"
        }
      ]
    },
    {
      "cell_type": "code",
      "metadata": {
        "id": "rllmp5ZlPQDg",
        "outputId": "48f3da5b-1119-4f61-9d37-eee5e4788a30",
        "colab": {
          "base_uri": "https://localhost:8080/",
          "height": 340
        }
      },
      "source": [
        "# Criando um novo Dataframe com dados das cidades que não tenham clientes\n",
        "df_cidades_sem_clientes = df_cidades_brasil.loc[df_cidades_brasil['CITY'].isin(cidades_sem_clientes)]\n",
        "df_cidades_sem_clientes.head(3)"
      ],
      "execution_count": 262,
      "outputs": [
        {
          "output_type": "execute_result",
          "data": {
            "text/html": [
              "<div>\n",
              "<style scoped>\n",
              "    .dataframe tbody tr th:only-of-type {\n",
              "        vertical-align: middle;\n",
              "    }\n",
              "\n",
              "    .dataframe tbody tr th {\n",
              "        vertical-align: top;\n",
              "    }\n",
              "\n",
              "    .dataframe thead th {\n",
              "        text-align: right;\n",
              "    }\n",
              "</style>\n",
              "<table border=\"1\" class=\"dataframe\">\n",
              "  <thead>\n",
              "    <tr style=\"text-align: right;\">\n",
              "      <th></th>\n",
              "      <th>CITY</th>\n",
              "      <th>STATE</th>\n",
              "      <th>CAPITAL</th>\n",
              "      <th>IBGE_RES_POP</th>\n",
              "      <th>IBGE_RES_POP_BRAS</th>\n",
              "      <th>IBGE_RES_POP_ESTR</th>\n",
              "      <th>IBGE_DU</th>\n",
              "      <th>IBGE_DU_URBAN</th>\n",
              "      <th>IBGE_DU_RURAL</th>\n",
              "      <th>IBGE_POP</th>\n",
              "      <th>IBGE_1</th>\n",
              "      <th>IBGE_1-4</th>\n",
              "      <th>IBGE_5-9</th>\n",
              "      <th>IBGE_10-14</th>\n",
              "      <th>IBGE_15-59</th>\n",
              "      <th>IBGE_60+</th>\n",
              "      <th>IBGE_PLANTED_AREA</th>\n",
              "      <th>IBGE_CROP_PRODUCTION_$</th>\n",
              "      <th>IDHM Ranking 2010</th>\n",
              "      <th>IDHM</th>\n",
              "      <th>IDHM_Renda</th>\n",
              "      <th>IDHM_Longevidade</th>\n",
              "      <th>IDHM_Educacao</th>\n",
              "      <th>LONG</th>\n",
              "      <th>LAT</th>\n",
              "      <th>ALT</th>\n",
              "      <th>PAY_TV</th>\n",
              "      <th>FIXED_PHONES</th>\n",
              "      <th>AREA</th>\n",
              "      <th>REGIAO_TUR</th>\n",
              "      <th>CATEGORIA_TUR</th>\n",
              "      <th>ESTIMATED_POP</th>\n",
              "      <th>RURAL_URBAN</th>\n",
              "      <th>GVA_AGROPEC</th>\n",
              "      <th>GVA_INDUSTRY</th>\n",
              "      <th>GVA_SERVICES</th>\n",
              "      <th>GVA_PUBLIC</th>\n",
              "      <th>GVA_TOTAL</th>\n",
              "      <th>TAXES</th>\n",
              "      <th>GDP</th>\n",
              "      <th>...</th>\n",
              "      <th>GDP_CAPITA</th>\n",
              "      <th>GVA_MAIN</th>\n",
              "      <th>MUN_EXPENDIT</th>\n",
              "      <th>COMP_TOT</th>\n",
              "      <th>COMP_A</th>\n",
              "      <th>COMP_B</th>\n",
              "      <th>COMP_C</th>\n",
              "      <th>COMP_D</th>\n",
              "      <th>COMP_E</th>\n",
              "      <th>COMP_F</th>\n",
              "      <th>COMP_G</th>\n",
              "      <th>COMP_H</th>\n",
              "      <th>COMP_I</th>\n",
              "      <th>COMP_J</th>\n",
              "      <th>COMP_K</th>\n",
              "      <th>COMP_L</th>\n",
              "      <th>COMP_M</th>\n",
              "      <th>COMP_N</th>\n",
              "      <th>COMP_O</th>\n",
              "      <th>COMP_P</th>\n",
              "      <th>COMP_Q</th>\n",
              "      <th>COMP_R</th>\n",
              "      <th>COMP_S</th>\n",
              "      <th>COMP_T</th>\n",
              "      <th>COMP_U</th>\n",
              "      <th>HOTELS</th>\n",
              "      <th>BEDS</th>\n",
              "      <th>Pr_Agencies</th>\n",
              "      <th>Pu_Agencies</th>\n",
              "      <th>Pr_Bank</th>\n",
              "      <th>Pu_Bank</th>\n",
              "      <th>Pr_Assets</th>\n",
              "      <th>Pu_Assets</th>\n",
              "      <th>Cars</th>\n",
              "      <th>Motorcycles</th>\n",
              "      <th>Wheeled_tractor</th>\n",
              "      <th>UBER</th>\n",
              "      <th>MAC</th>\n",
              "      <th>WAL-MART</th>\n",
              "      <th>POST_OFFICES</th>\n",
              "    </tr>\n",
              "  </thead>\n",
              "  <tbody>\n",
              "    <tr>\n",
              "      <th>0</th>\n",
              "      <td>abadia de goias</td>\n",
              "      <td>GO</td>\n",
              "      <td>0</td>\n",
              "      <td>6876.0</td>\n",
              "      <td>6876.0</td>\n",
              "      <td>0.0</td>\n",
              "      <td>2137.0</td>\n",
              "      <td>1546.0</td>\n",
              "      <td>591.0</td>\n",
              "      <td>5300.0</td>\n",
              "      <td>69.0</td>\n",
              "      <td>318.0</td>\n",
              "      <td>438.0</td>\n",
              "      <td>517.0</td>\n",
              "      <td>3542.0</td>\n",
              "      <td>416.0</td>\n",
              "      <td>319.0</td>\n",
              "      <td>1843.0</td>\n",
              "      <td>1689.0</td>\n",
              "      <td>0.708</td>\n",
              "      <td>0.687</td>\n",
              "      <td>0.830</td>\n",
              "      <td>0.622</td>\n",
              "      <td>-49.440548</td>\n",
              "      <td>-16.758812</td>\n",
              "      <td>893.60</td>\n",
              "      <td>360.0</td>\n",
              "      <td>842.0</td>\n",
              "      <td>147.26</td>\n",
              "      <td>NaN</td>\n",
              "      <td>NaN</td>\n",
              "      <td>8583.0</td>\n",
              "      <td>Urbano</td>\n",
              "      <td>6.20</td>\n",
              "      <td>27991.25</td>\n",
              "      <td>74750.32</td>\n",
              "      <td>36915.04</td>\n",
              "      <td>145857.60</td>\n",
              "      <td>20554.20</td>\n",
              "      <td>166.41</td>\n",
              "      <td>...</td>\n",
              "      <td>20664.57</td>\n",
              "      <td>Demais serviços</td>\n",
              "      <td>28227691.0</td>\n",
              "      <td>284.0</td>\n",
              "      <td>5.0</td>\n",
              "      <td>1.0</td>\n",
              "      <td>56.0</td>\n",
              "      <td>0.0</td>\n",
              "      <td>2.0</td>\n",
              "      <td>29.0</td>\n",
              "      <td>110.0</td>\n",
              "      <td>26.0</td>\n",
              "      <td>4.0</td>\n",
              "      <td>5.0</td>\n",
              "      <td>0.0</td>\n",
              "      <td>2.0</td>\n",
              "      <td>10.0</td>\n",
              "      <td>12.0</td>\n",
              "      <td>4.0</td>\n",
              "      <td>6.0</td>\n",
              "      <td>6.0</td>\n",
              "      <td>1.0</td>\n",
              "      <td>5.0</td>\n",
              "      <td>0.0</td>\n",
              "      <td>0.0</td>\n",
              "      <td>NaN</td>\n",
              "      <td>NaN</td>\n",
              "      <td>NaN</td>\n",
              "      <td>NaN</td>\n",
              "      <td>NaN</td>\n",
              "      <td>NaN</td>\n",
              "      <td>NaN</td>\n",
              "      <td>NaN</td>\n",
              "      <td>2158.0</td>\n",
              "      <td>1246.0</td>\n",
              "      <td>0.0</td>\n",
              "      <td>NaN</td>\n",
              "      <td>NaN</td>\n",
              "      <td>NaN</td>\n",
              "      <td>1.0</td>\n",
              "    </tr>\n",
              "    <tr>\n",
              "      <th>10</th>\n",
              "      <td>abel figueiredo</td>\n",
              "      <td>PA</td>\n",
              "      <td>0</td>\n",
              "      <td>6780.0</td>\n",
              "      <td>6780.0</td>\n",
              "      <td>0.0</td>\n",
              "      <td>1880.0</td>\n",
              "      <td>1650.0</td>\n",
              "      <td>230.0</td>\n",
              "      <td>5998.0</td>\n",
              "      <td>102.0</td>\n",
              "      <td>471.0</td>\n",
              "      <td>609.0</td>\n",
              "      <td>691.0</td>\n",
              "      <td>3657.0</td>\n",
              "      <td>468.0</td>\n",
              "      <td>1184.0</td>\n",
              "      <td>4168.0</td>\n",
              "      <td>3657.0</td>\n",
              "      <td>0.622</td>\n",
              "      <td>0.625</td>\n",
              "      <td>0.800</td>\n",
              "      <td>0.481</td>\n",
              "      <td>-48.396762</td>\n",
              "      <td>-4.951391</td>\n",
              "      <td>192.76</td>\n",
              "      <td>248.0</td>\n",
              "      <td>43.0</td>\n",
              "      <td>614.13</td>\n",
              "      <td>Amazônia Atlântica</td>\n",
              "      <td>E</td>\n",
              "      <td>7382.0</td>\n",
              "      <td>Intermediário Adjacente</td>\n",
              "      <td>21381.59</td>\n",
              "      <td>5.31</td>\n",
              "      <td>20515.48</td>\n",
              "      <td>27736.46</td>\n",
              "      <td>74947.67</td>\n",
              "      <td>4709.92</td>\n",
              "      <td>79657.59</td>\n",
              "      <td>...</td>\n",
              "      <td>11095.92</td>\n",
              "      <td>Administração, defesa, educação e saúde públic...</td>\n",
              "      <td>NaN</td>\n",
              "      <td>72.0</td>\n",
              "      <td>0.0</td>\n",
              "      <td>0.0</td>\n",
              "      <td>9.0</td>\n",
              "      <td>0.0</td>\n",
              "      <td>1.0</td>\n",
              "      <td>0.0</td>\n",
              "      <td>41.0</td>\n",
              "      <td>1.0</td>\n",
              "      <td>0.0</td>\n",
              "      <td>1.0</td>\n",
              "      <td>0.0</td>\n",
              "      <td>0.0</td>\n",
              "      <td>2.0</td>\n",
              "      <td>1.0</td>\n",
              "      <td>6.0</td>\n",
              "      <td>6.0</td>\n",
              "      <td>0.0</td>\n",
              "      <td>0.0</td>\n",
              "      <td>4.0</td>\n",
              "      <td>0.0</td>\n",
              "      <td>0.0</td>\n",
              "      <td>NaN</td>\n",
              "      <td>NaN</td>\n",
              "      <td>0.0</td>\n",
              "      <td>1.0</td>\n",
              "      <td>0.0</td>\n",
              "      <td>1.0</td>\n",
              "      <td>0.0</td>\n",
              "      <td>11709575.0</td>\n",
              "      <td>279.0</td>\n",
              "      <td>807.0</td>\n",
              "      <td>0.0</td>\n",
              "      <td>NaN</td>\n",
              "      <td>NaN</td>\n",
              "      <td>NaN</td>\n",
              "      <td>1.0</td>\n",
              "    </tr>\n",
              "    <tr>\n",
              "      <th>14</th>\n",
              "      <td>abreulandia</td>\n",
              "      <td>TO</td>\n",
              "      <td>0</td>\n",
              "      <td>2391.0</td>\n",
              "      <td>2391.0</td>\n",
              "      <td>0.0</td>\n",
              "      <td>760.0</td>\n",
              "      <td>445.0</td>\n",
              "      <td>315.0</td>\n",
              "      <td>1476.0</td>\n",
              "      <td>21.0</td>\n",
              "      <td>107.0</td>\n",
              "      <td>172.0</td>\n",
              "      <td>182.0</td>\n",
              "      <td>872.0</td>\n",
              "      <td>122.0</td>\n",
              "      <td>13102.0</td>\n",
              "      <td>31281.0</td>\n",
              "      <td>2786.0</td>\n",
              "      <td>0.665</td>\n",
              "      <td>0.700</td>\n",
              "      <td>0.835</td>\n",
              "      <td>0.502</td>\n",
              "      <td>-49.162438</td>\n",
              "      <td>-9.621791</td>\n",
              "      <td>238.86</td>\n",
              "      <td>14.0</td>\n",
              "      <td>29.0</td>\n",
              "      <td>1,895.21</td>\n",
              "      <td>NaN</td>\n",
              "      <td>NaN</td>\n",
              "      <td>2564.0</td>\n",
              "      <td>Rural Adjacente</td>\n",
              "      <td>20312.55</td>\n",
              "      <td>2108.24</td>\n",
              "      <td>6802.38</td>\n",
              "      <td>16520.91</td>\n",
              "      <td>45744.07</td>\n",
              "      <td>1634.18</td>\n",
              "      <td>47378.25</td>\n",
              "      <td>...</td>\n",
              "      <td>18543.35</td>\n",
              "      <td>Administração, defesa, educação e saúde públic...</td>\n",
              "      <td>9712530.0</td>\n",
              "      <td>27.0</td>\n",
              "      <td>4.0</td>\n",
              "      <td>0.0</td>\n",
              "      <td>0.0</td>\n",
              "      <td>0.0</td>\n",
              "      <td>0.0</td>\n",
              "      <td>3.0</td>\n",
              "      <td>11.0</td>\n",
              "      <td>0.0</td>\n",
              "      <td>1.0</td>\n",
              "      <td>1.0</td>\n",
              "      <td>0.0</td>\n",
              "      <td>0.0</td>\n",
              "      <td>1.0</td>\n",
              "      <td>1.0</td>\n",
              "      <td>4.0</td>\n",
              "      <td>0.0</td>\n",
              "      <td>0.0</td>\n",
              "      <td>0.0</td>\n",
              "      <td>1.0</td>\n",
              "      <td>0.0</td>\n",
              "      <td>0.0</td>\n",
              "      <td>NaN</td>\n",
              "      <td>NaN</td>\n",
              "      <td>NaN</td>\n",
              "      <td>NaN</td>\n",
              "      <td>NaN</td>\n",
              "      <td>NaN</td>\n",
              "      <td>NaN</td>\n",
              "      <td>NaN</td>\n",
              "      <td>190.0</td>\n",
              "      <td>318.0</td>\n",
              "      <td>0.0</td>\n",
              "      <td>NaN</td>\n",
              "      <td>NaN</td>\n",
              "      <td>NaN</td>\n",
              "      <td>1.0</td>\n",
              "    </tr>\n",
              "  </tbody>\n",
              "</table>\n",
              "<p>3 rows × 81 columns</p>\n",
              "</div>"
            ],
            "text/plain": [
              "               CITY STATE  CAPITAL  ...  MAC  WAL-MART  POST_OFFICES\n",
              "0   abadia de goias    GO        0  ...  NaN       NaN           1.0\n",
              "10  abel figueiredo    PA        0  ...  NaN       NaN           1.0\n",
              "14      abreulandia    TO        0  ...  NaN       NaN           1.0\n",
              "\n",
              "[3 rows x 81 columns]"
            ]
          },
          "metadata": {
            "tags": []
          },
          "execution_count": 262
        }
      ]
    },
    {
      "cell_type": "code",
      "metadata": {
        "id": "ioOJl8hIzLhH",
        "outputId": "e7554736-17e6-4522-8d04-85bfc325dafb",
        "colab": {
          "base_uri": "https://localhost:8080/",
          "height": 467
        }
      },
      "source": [
        "# Estados que contém mais cidades sem clientes\n",
        "gitly = GitlyPlotter('github')\n",
        "data=df_cidades_sem_clientes.STATE.value_counts()\n",
        "fig = px.bar(data,labels={'value': 'Quantidade de Cidades', 'index':'Estado'},text=data,color_discrete_sequence=px.colors.qualitative.Alphabet,template='plotly_white',)\n",
        "fig.update_layout(title={'text' :'Estados que contém mais cidades sem clientes','y': 0.95,'x': 0.5})\n",
        "fig.update_traces(texttemplate='%{text}', textposition='outside')\n",
        "fig.update_yaxes(showticklabels=False)\n",
        "gitly.show(fig)"
      ],
      "execution_count": 347,
      "outputs": [
        {
          "output_type": "execute_result",
          "data": {
            "image/png": "[encoded data removed]",
            "text/plain": [
              "<IPython.core.display.Image object>"
            ]
          },
          "metadata": {
            "tags": []
          },
          "execution_count": 347
        }
      ]
    },
    {
      "cell_type": "code",
      "metadata": {
        "id": "vhRbGj4eN-M_",
        "outputId": "f10e26c4-1bef-4884-f2ff-5f7522ab64cd",
        "colab": {
          "base_uri": "https://localhost:8080/",
          "height": 467
        }
      },
      "source": [
        "data = 100-((df_cidades_sem_clientes.STATE.value_counts()*100)/df_cidades_brasil.STATE.value_counts())\n",
        "fig = px.bar(data.sort_values(ascending=True),labels={'value': 'Porcentagem (%)', 'index':'Estado'},text=data.sort_values(ascending=True),color_discrete_sequence=px.colors.qualitative.Alphabet,template='plotly_white')\n",
        "fig.update_layout(title={'text' :'Porcentagem de cidades não atendidas por estado','y': 0.95,'x': 0.5})\n",
        "fig.update_traces(texttemplate='%{text:.2s}%', textposition='outside')\n",
        "fig.update_yaxes(showticklabels=False)\n",
        "gitly.show(fig)"
      ],
      "execution_count": 346,
      "outputs": [
        {
          "output_type": "execute_result",
          "data": {
            "image/png": "[encoded data removed]",
            "text/plain": [
              "<IPython.core.display.Image object>"
            ]
          },
          "metadata": {
            "tags": []
          },
          "execution_count": 346
        }
      ]
    },
    {
      "cell_type": "code",
      "metadata": {
        "id": "YOqEU6Mz8Cc3",
        "outputId": "041d759e-167d-4747-bc00-8bb2dbe1c141",
        "colab": {
          "base_uri": "https://localhost:8080/",
          "height": 962
        }
      },
      "source": [
        "# Levando em consideração que marjoritariamente a população que realiza compras onlines são adolescentes e adultos, \n",
        "# podemos considerar que a feature \"IBGE_15-59\" é o Potencial público alvo que OLIST poderia buscar como clientes\n",
        "print('População total das cidades que não tem clientes cadastrados: %.i'%df_cidades_sem_clientes['IBGE_15-59'].sum())\n",
        "print('População total das cidades que não tem clientes cadastrados por estado: \\n',df_cidades_sem_clientes.groupby('STATE')['IBGE_15-59'].sum().sort_values(ascending=True))\n",
        "data=df_cidades_sem_clientes.groupby(by='STATE').sum().sort_values(by='IBGE_15-59',ascending=True)\n",
        "fig = px.bar(data, y='IBGE_15-59',labels={'IBGE_15-59': 'População entre 15-59 anos', 'STATE':'Estado'},text='IBGE_15-59',color_discrete_sequence=px.colors.qualitative.Alphabet,template='plotly_white')\n",
        "fig.update_layout(title={'text' :'População total das cidades que não tem clientes cadastrados entre 15-59 anos no Brasil','y': 0.95,'x': 0.5})\n",
        "fig.update_traces(texttemplate='%{text:.2s}', textposition='outside')\n",
        "fig.update_yaxes(showticklabels=False)\n",
        "gitly.show(fig)"
      ],
      "execution_count": 352,
      "outputs": [
        {
          "output_type": "stream",
          "text": [
            "População total das cidades que não tem clientes cadastrados: 3793954\n",
            "População total das cidades que não tem clientes cadastrados por estado: \n",
            " STATE\n",
            "ES      3975.0\n",
            "AP     26620.0\n",
            "RR     32287.0\n",
            "RO     44575.0\n",
            "MS     47935.0\n",
            "SC     55728.0\n",
            "AC     62960.0\n",
            "MT     81079.0\n",
            "PR     82702.0\n",
            "SE     84398.0\n",
            "AL     91377.0\n",
            "CE    112340.0\n",
            "PE    114877.0\n",
            "TO    117577.0\n",
            "GO    136450.0\n",
            "RS    145805.0\n",
            "RN    167405.0\n",
            "SP    183923.0\n",
            "PI    226145.0\n",
            "PB    238491.0\n",
            "MG    285142.0\n",
            "BA    287151.0\n",
            "MA    369939.0\n",
            "PA    374196.0\n",
            "AM    420877.0\n",
            "Name: IBGE_15-59, dtype: float64\n"
          ],
          "name": "stdout"
        },
        {
          "output_type": "execute_result",
          "data": {
            "image/png": "[encoded data removed]",
            "text/plain": [
              "<IPython.core.display.Image object>"
            ]
          },
          "metadata": {
            "tags": []
          },
          "execution_count": 352
        }
      ]
    },
    {
      "cell_type": "code",
      "metadata": {
        "id": "jr12aU4SLWvM",
        "outputId": "8d77cdb8-ea0c-43f5-994c-7c8b02adb2c9",
        "colab": {
          "base_uri": "https://localhost:8080/",
          "height": 34
        }
      },
      "source": [
        "# Quais estados existe ao menos um cliente em todas as cidades\n",
        "estados_com_todas_cidades_clientes = []\n",
        "estados_brasil = df_cidades_brasil.STATE.unique()\n",
        "estados_com_cidades_sem_clientes = df_cidades_sem_clientes.STATE.unique()\n",
        "for i in estados_brasil:\n",
        "  if i not in estados_com_cidades_sem_clientes:\n",
        "    estados_com_todas_cidades_clientes.append(i)\n",
        "print('Estados que todas as cidades tem ao menos um cliente: ',estados_com_todas_cidades_clientes)"
      ],
      "execution_count": 266,
      "outputs": [
        {
          "output_type": "stream",
          "text": [
            "Estados que todas as cidades tem ao menos um cliente:  ['RJ', 'DF']\n"
          ],
          "name": "stdout"
        }
      ]
    },
    {
      "cell_type": "code",
      "metadata": {
        "id": "BJyeN65AChKY",
        "outputId": "ceb91f8c-2535-4178-ab7a-dc0ad46df061",
        "colab": {
          "base_uri": "https://localhost:8080/",
          "height": 467
        }
      },
      "source": [
        "# 5 maiores cidades que não possuem um único cliente\n",
        "data = df_cidades_sem_clientes[['CITY','IBGE_15-59','STATE']].sort_values('IBGE_15-59',ascending=False).head(5)\n",
        "data['CITY_STATE']=data['CITY']+'-'+data['STATE']\n",
        "fig = px.bar(data,x='CITY_STATE',y='IBGE_15-59', labels={'IBGE_15-59': 'População entre 15-59 anos', 'CITY_STATE':'Cidade'},text='IBGE_15-59',color_discrete_sequence=px.colors.qualitative.Alphabet,template='plotly_white')\n",
        "fig.update_layout(title={'text' :'5 maiores cidades que não possuem ao menos um cliente','y': 0.95,'x': 0.5})\n",
        "fig.update_traces(texttemplate='%{text:.2s}', textposition='outside')\n",
        "fig.update_yaxes(showticklabels=False)\n",
        "gitly.show(fig)"
      ],
      "execution_count": 353,
      "outputs": [
        {
          "output_type": "execute_result",
          "data": {
            "image/png": "[encoded data removed]",
            "text/plain": [
              "<IPython.core.display.Image object>"
            ]
          },
          "metadata": {
            "tags": []
          },
          "execution_count": 353
        }
      ]
    },
    {
      "cell_type": "markdown",
      "metadata": {
        "id": "3TyAH0Hjzg6R"
      },
      "source": [
        "### Relação de clientes por Cidades / Estados"
      ]
    },
    {
      "cell_type": "code",
      "metadata": {
        "id": "UKnHnwg1tiP-",
        "outputId": "2070ca67-507c-4d96-e7df-16c13b43d3c8",
        "colab": {
          "base_uri": "https://localhost:8080/",
          "height": 34
        }
      },
      "source": [
        "# Quantidade de clientes que realizaram ao menos um compra\n",
        "print('Quantidade de clientes que já realizaram compras pela OLIST: ', len(df_clientes.customer_id.unique()))"
      ],
      "execution_count": 268,
      "outputs": [
        {
          "output_type": "stream",
          "text": [
            "Quantidade de clientes que já realizaram compras pela OLIST:  99441\n"
          ],
          "name": "stdout"
        }
      ]
    },
    {
      "cell_type": "code",
      "metadata": {
        "id": "ql14-Z2m2VeD",
        "outputId": "7e0919e4-40f0-4eac-ff6c-93a61a40f2d1",
        "colab": {
          "base_uri": "https://localhost:8080/",
          "height": 34
        }
      },
      "source": [
        "# Quantidade de clientes únicos que já realizaram compras\n",
        "print('Quantidade de clientes únicos que já realizaram compras pela OLIST: ', df_clientes.customer_unique_id.nunique())"
      ],
      "execution_count": 269,
      "outputs": [
        {
          "output_type": "stream",
          "text": [
            "Quantidade de clientes únicos que já realizaram compras pela OLIST:  96096\n"
          ],
          "name": "stdout"
        }
      ]
    },
    {
      "cell_type": "code",
      "metadata": {
        "id": "GoOieC2fvsq0",
        "outputId": "e676438e-405e-47e8-cae7-f5f4be5b8cba",
        "colab": {
          "base_uri": "https://localhost:8080/",
          "height": 435
        }
      },
      "source": [
        "# Ranking da quantidade total de clientes por cidade\n",
        "df_clientes.groupby(by='customer_city').count().sort_values(by='customer_unique_id', ascending=False)"
      ],
      "execution_count": 329,
      "outputs": [
        {
          "output_type": "execute_result",
          "data": {
            "text/html": [
              "<div>\n",
              "<style scoped>\n",
              "    .dataframe tbody tr th:only-of-type {\n",
              "        vertical-align: middle;\n",
              "    }\n",
              "\n",
              "    .dataframe tbody tr th {\n",
              "        vertical-align: top;\n",
              "    }\n",
              "\n",
              "    .dataframe thead th {\n",
              "        text-align: right;\n",
              "    }\n",
              "</style>\n",
              "<table border=\"1\" class=\"dataframe\">\n",
              "  <thead>\n",
              "    <tr style=\"text-align: right;\">\n",
              "      <th></th>\n",
              "      <th>customer_id</th>\n",
              "      <th>customer_unique_id</th>\n",
              "      <th>customer_zip_code_prefix</th>\n",
              "      <th>customer_state</th>\n",
              "    </tr>\n",
              "    <tr>\n",
              "      <th>customer_city</th>\n",
              "      <th></th>\n",
              "      <th></th>\n",
              "      <th></th>\n",
              "      <th></th>\n",
              "    </tr>\n",
              "  </thead>\n",
              "  <tbody>\n",
              "    <tr>\n",
              "      <th>sao paulo</th>\n",
              "      <td>15540</td>\n",
              "      <td>15540</td>\n",
              "      <td>15540</td>\n",
              "      <td>15540</td>\n",
              "    </tr>\n",
              "    <tr>\n",
              "      <th>rio de janeiro</th>\n",
              "      <td>6882</td>\n",
              "      <td>6882</td>\n",
              "      <td>6882</td>\n",
              "      <td>6882</td>\n",
              "    </tr>\n",
              "    <tr>\n",
              "      <th>belo horizonte</th>\n",
              "      <td>2773</td>\n",
              "      <td>2773</td>\n",
              "      <td>2773</td>\n",
              "      <td>2773</td>\n",
              "    </tr>\n",
              "    <tr>\n",
              "      <th>brasilia</th>\n",
              "      <td>2131</td>\n",
              "      <td>2131</td>\n",
              "      <td>2131</td>\n",
              "      <td>2131</td>\n",
              "    </tr>\n",
              "    <tr>\n",
              "      <th>curitiba</th>\n",
              "      <td>1521</td>\n",
              "      <td>1521</td>\n",
              "      <td>1521</td>\n",
              "      <td>1521</td>\n",
              "    </tr>\n",
              "    <tr>\n",
              "      <th>...</th>\n",
              "      <td>...</td>\n",
              "      <td>...</td>\n",
              "      <td>...</td>\n",
              "      <td>...</td>\n",
              "    </tr>\n",
              "    <tr>\n",
              "      <th>ibiara</th>\n",
              "      <td>1</td>\n",
              "      <td>1</td>\n",
              "      <td>1</td>\n",
              "      <td>1</td>\n",
              "    </tr>\n",
              "    <tr>\n",
              "      <th>rio espera</th>\n",
              "      <td>1</td>\n",
              "      <td>1</td>\n",
              "      <td>1</td>\n",
              "      <td>1</td>\n",
              "    </tr>\n",
              "    <tr>\n",
              "      <th>rio dos indios</th>\n",
              "      <td>1</td>\n",
              "      <td>1</td>\n",
              "      <td>1</td>\n",
              "      <td>1</td>\n",
              "    </tr>\n",
              "    <tr>\n",
              "      <th>rio dos cedros</th>\n",
              "      <td>1</td>\n",
              "      <td>1</td>\n",
              "      <td>1</td>\n",
              "      <td>1</td>\n",
              "    </tr>\n",
              "    <tr>\n",
              "      <th>lagoao</th>\n",
              "      <td>1</td>\n",
              "      <td>1</td>\n",
              "      <td>1</td>\n",
              "      <td>1</td>\n",
              "    </tr>\n",
              "  </tbody>\n",
              "</table>\n",
              "<p>4119 rows × 4 columns</p>\n",
              "</div>"
            ],
            "text/plain": [
              "                customer_id  ...  customer_state\n",
              "customer_city                ...                \n",
              "sao paulo             15540  ...           15540\n",
              "rio de janeiro         6882  ...            6882\n",
              "belo horizonte         2773  ...            2773\n",
              "brasilia               2131  ...            2131\n",
              "curitiba               1521  ...            1521\n",
              "...                     ...  ...             ...\n",
              "ibiara                    1  ...               1\n",
              "rio espera                1  ...               1\n",
              "rio dos indios            1  ...               1\n",
              "rio dos cedros            1  ...               1\n",
              "lagoao                    1  ...               1\n",
              "\n",
              "[4119 rows x 4 columns]"
            ]
          },
          "metadata": {
            "tags": []
          },
          "execution_count": 329
        }
      ]
    },
    {
      "cell_type": "code",
      "metadata": {
        "id": "9UBboZhnwIbX",
        "outputId": "bcce31dc-4fbe-4dd8-a7e7-1ac3682dc657",
        "colab": {
          "base_uri": "https://localhost:8080/",
          "height": 435
        }
      },
      "source": [
        "# Ranking de clientes que mais realizaram pedidos no dataset\n",
        "df_temp = df_clientes.groupby( by = 'customer_unique_id' ).count()\n",
        "df_temp.sort_values(by='customer_id', ascending=False)"
      ],
      "execution_count": 330,
      "outputs": [
        {
          "output_type": "execute_result",
          "data": {
            "text/html": [
              "<div>\n",
              "<style scoped>\n",
              "    .dataframe tbody tr th:only-of-type {\n",
              "        vertical-align: middle;\n",
              "    }\n",
              "\n",
              "    .dataframe tbody tr th {\n",
              "        vertical-align: top;\n",
              "    }\n",
              "\n",
              "    .dataframe thead th {\n",
              "        text-align: right;\n",
              "    }\n",
              "</style>\n",
              "<table border=\"1\" class=\"dataframe\">\n",
              "  <thead>\n",
              "    <tr style=\"text-align: right;\">\n",
              "      <th></th>\n",
              "      <th>customer_id</th>\n",
              "      <th>customer_zip_code_prefix</th>\n",
              "      <th>customer_city</th>\n",
              "      <th>customer_state</th>\n",
              "    </tr>\n",
              "    <tr>\n",
              "      <th>customer_unique_id</th>\n",
              "      <th></th>\n",
              "      <th></th>\n",
              "      <th></th>\n",
              "      <th></th>\n",
              "    </tr>\n",
              "  </thead>\n",
              "  <tbody>\n",
              "    <tr>\n",
              "      <th>8d50f5eadf50201ccdcedfb9e2ac8455</th>\n",
              "      <td>17</td>\n",
              "      <td>17</td>\n",
              "      <td>17</td>\n",
              "      <td>17</td>\n",
              "    </tr>\n",
              "    <tr>\n",
              "      <th>3e43e6105506432c953e165fb2acf44c</th>\n",
              "      <td>9</td>\n",
              "      <td>9</td>\n",
              "      <td>9</td>\n",
              "      <td>9</td>\n",
              "    </tr>\n",
              "    <tr>\n",
              "      <th>6469f99c1f9dfae7733b25662e7f1782</th>\n",
              "      <td>7</td>\n",
              "      <td>7</td>\n",
              "      <td>7</td>\n",
              "      <td>7</td>\n",
              "    </tr>\n",
              "    <tr>\n",
              "      <th>ca77025e7201e3b30c44b472ff346268</th>\n",
              "      <td>7</td>\n",
              "      <td>7</td>\n",
              "      <td>7</td>\n",
              "      <td>7</td>\n",
              "    </tr>\n",
              "    <tr>\n",
              "      <th>1b6c7548a2a1f9037c1fd3ddfed95f33</th>\n",
              "      <td>7</td>\n",
              "      <td>7</td>\n",
              "      <td>7</td>\n",
              "      <td>7</td>\n",
              "    </tr>\n",
              "    <tr>\n",
              "      <th>...</th>\n",
              "      <td>...</td>\n",
              "      <td>...</td>\n",
              "      <td>...</td>\n",
              "      <td>...</td>\n",
              "    </tr>\n",
              "    <tr>\n",
              "      <th>5657dfebff5868c4dc7e8355fea865c4</th>\n",
              "      <td>1</td>\n",
              "      <td>1</td>\n",
              "      <td>1</td>\n",
              "      <td>1</td>\n",
              "    </tr>\n",
              "    <tr>\n",
              "      <th>5657596addb4d7b07b32cd330614bdf8</th>\n",
              "      <td>1</td>\n",
              "      <td>1</td>\n",
              "      <td>1</td>\n",
              "      <td>1</td>\n",
              "    </tr>\n",
              "    <tr>\n",
              "      <th>5656eb169546146caeab56c3ffc3d268</th>\n",
              "      <td>1</td>\n",
              "      <td>1</td>\n",
              "      <td>1</td>\n",
              "      <td>1</td>\n",
              "    </tr>\n",
              "    <tr>\n",
              "      <th>5656a8fabc8629ff96b2bc14f8c09a27</th>\n",
              "      <td>1</td>\n",
              "      <td>1</td>\n",
              "      <td>1</td>\n",
              "      <td>1</td>\n",
              "    </tr>\n",
              "    <tr>\n",
              "      <th>ffffd2657e2aad2907e67c3e9daecbeb</th>\n",
              "      <td>1</td>\n",
              "      <td>1</td>\n",
              "      <td>1</td>\n",
              "      <td>1</td>\n",
              "    </tr>\n",
              "  </tbody>\n",
              "</table>\n",
              "<p>96096 rows × 4 columns</p>\n",
              "</div>"
            ],
            "text/plain": [
              "                                  customer_id  ...  customer_state\n",
              "customer_unique_id                             ...                \n",
              "8d50f5eadf50201ccdcedfb9e2ac8455           17  ...              17\n",
              "3e43e6105506432c953e165fb2acf44c            9  ...               9\n",
              "6469f99c1f9dfae7733b25662e7f1782            7  ...               7\n",
              "ca77025e7201e3b30c44b472ff346268            7  ...               7\n",
              "1b6c7548a2a1f9037c1fd3ddfed95f33            7  ...               7\n",
              "...                                       ...  ...             ...\n",
              "5657dfebff5868c4dc7e8355fea865c4            1  ...               1\n",
              "5657596addb4d7b07b32cd330614bdf8            1  ...               1\n",
              "5656eb169546146caeab56c3ffc3d268            1  ...               1\n",
              "5656a8fabc8629ff96b2bc14f8c09a27            1  ...               1\n",
              "ffffd2657e2aad2907e67c3e9daecbeb            1  ...               1\n",
              "\n",
              "[96096 rows x 4 columns]"
            ]
          },
          "metadata": {
            "tags": []
          },
          "execution_count": 330
        }
      ]
    },
    {
      "cell_type": "code",
      "metadata": {
        "id": "-k0ku0xot9UO",
        "outputId": "38350c5e-e20b-4ab6-c846-d394d630e3cf",
        "colab": {
          "base_uri": "https://localhost:8080/",
          "height": 227
        }
      },
      "source": [
        "# Clientes que realizaram dois pedidos ou mais através da OLIST\n",
        "df_group = df_clientes.groupby( by = 'customer_unique_id' ).count()\n",
        "df_group[ (df_group['customer_id'] >= 2)].head(5)"
      ],
      "execution_count": 338,
      "outputs": [
        {
          "output_type": "execute_result",
          "data": {
            "text/html": [
              "<div>\n",
              "<style scoped>\n",
              "    .dataframe tbody tr th:only-of-type {\n",
              "        vertical-align: middle;\n",
              "    }\n",
              "\n",
              "    .dataframe tbody tr th {\n",
              "        vertical-align: top;\n",
              "    }\n",
              "\n",
              "    .dataframe thead th {\n",
              "        text-align: right;\n",
              "    }\n",
              "</style>\n",
              "<table border=\"1\" class=\"dataframe\">\n",
              "  <thead>\n",
              "    <tr style=\"text-align: right;\">\n",
              "      <th></th>\n",
              "      <th>customer_id</th>\n",
              "      <th>customer_zip_code_prefix</th>\n",
              "      <th>customer_city</th>\n",
              "      <th>customer_state</th>\n",
              "    </tr>\n",
              "    <tr>\n",
              "      <th>customer_unique_id</th>\n",
              "      <th></th>\n",
              "      <th></th>\n",
              "      <th></th>\n",
              "      <th></th>\n",
              "    </tr>\n",
              "  </thead>\n",
              "  <tbody>\n",
              "    <tr>\n",
              "      <th>00172711b30d52eea8b313a7f2cced02</th>\n",
              "      <td>2</td>\n",
              "      <td>2</td>\n",
              "      <td>2</td>\n",
              "      <td>2</td>\n",
              "    </tr>\n",
              "    <tr>\n",
              "      <th>004288347e5e88a27ded2bb23747066c</th>\n",
              "      <td>2</td>\n",
              "      <td>2</td>\n",
              "      <td>2</td>\n",
              "      <td>2</td>\n",
              "    </tr>\n",
              "    <tr>\n",
              "      <th>004b45ec5c64187465168251cd1c9c2f</th>\n",
              "      <td>2</td>\n",
              "      <td>2</td>\n",
              "      <td>2</td>\n",
              "      <td>2</td>\n",
              "    </tr>\n",
              "    <tr>\n",
              "      <th>0058f300f57d7b93c477a131a59b36c3</th>\n",
              "      <td>2</td>\n",
              "      <td>2</td>\n",
              "      <td>2</td>\n",
              "      <td>2</td>\n",
              "    </tr>\n",
              "    <tr>\n",
              "      <th>00a39521eb40f7012db50455bf083460</th>\n",
              "      <td>2</td>\n",
              "      <td>2</td>\n",
              "      <td>2</td>\n",
              "      <td>2</td>\n",
              "    </tr>\n",
              "  </tbody>\n",
              "</table>\n",
              "</div>"
            ],
            "text/plain": [
              "                                  customer_id  ...  customer_state\n",
              "customer_unique_id                             ...                \n",
              "00172711b30d52eea8b313a7f2cced02            2  ...               2\n",
              "004288347e5e88a27ded2bb23747066c            2  ...               2\n",
              "004b45ec5c64187465168251cd1c9c2f            2  ...               2\n",
              "0058f300f57d7b93c477a131a59b36c3            2  ...               2\n",
              "00a39521eb40f7012db50455bf083460            2  ...               2\n",
              "\n",
              "[5 rows x 4 columns]"
            ]
          },
          "metadata": {
            "tags": []
          },
          "execution_count": 338
        }
      ]
    },
    {
      "cell_type": "code",
      "metadata": {
        "id": "JbrpBA3jvbTO",
        "outputId": "b9626c23-c9d0-48eb-92d8-1e5eba9c9c7f",
        "colab": {
          "base_uri": "https://localhost:8080/",
          "height": 227
        }
      },
      "source": [
        "# Clientes que realizaram quatro pedidos ou mais através da OLIST\n",
        "df_group = df_clientes.groupby( by = 'customer_unique_id' ).count()\n",
        "df_group[ (df_group['customer_id'] >= 4)].head(5)"
      ],
      "execution_count": 336,
      "outputs": [
        {
          "output_type": "execute_result",
          "data": {
            "text/html": [
              "<div>\n",
              "<style scoped>\n",
              "    .dataframe tbody tr th:only-of-type {\n",
              "        vertical-align: middle;\n",
              "    }\n",
              "\n",
              "    .dataframe tbody tr th {\n",
              "        vertical-align: top;\n",
              "    }\n",
              "\n",
              "    .dataframe thead th {\n",
              "        text-align: right;\n",
              "    }\n",
              "</style>\n",
              "<table border=\"1\" class=\"dataframe\">\n",
              "  <thead>\n",
              "    <tr style=\"text-align: right;\">\n",
              "      <th></th>\n",
              "      <th>customer_id</th>\n",
              "      <th>customer_zip_code_prefix</th>\n",
              "      <th>customer_city</th>\n",
              "      <th>customer_state</th>\n",
              "    </tr>\n",
              "    <tr>\n",
              "      <th>customer_unique_id</th>\n",
              "      <th></th>\n",
              "      <th></th>\n",
              "      <th></th>\n",
              "      <th></th>\n",
              "    </tr>\n",
              "  </thead>\n",
              "  <tbody>\n",
              "    <tr>\n",
              "      <th>083ca1aa470c280236380973a48f77c6</th>\n",
              "      <td>4</td>\n",
              "      <td>4</td>\n",
              "      <td>4</td>\n",
              "      <td>4</td>\n",
              "    </tr>\n",
              "    <tr>\n",
              "      <th>08e5b38d7948d37fbb2a59fc5e175ab1</th>\n",
              "      <td>4</td>\n",
              "      <td>4</td>\n",
              "      <td>4</td>\n",
              "      <td>4</td>\n",
              "    </tr>\n",
              "    <tr>\n",
              "      <th>12d8b5ed661190a3a08183644dfc504d</th>\n",
              "      <td>4</td>\n",
              "      <td>4</td>\n",
              "      <td>4</td>\n",
              "      <td>4</td>\n",
              "    </tr>\n",
              "    <tr>\n",
              "      <th>12f5d6e1cbf93dafd9dcc19095df0b3d</th>\n",
              "      <td>6</td>\n",
              "      <td>6</td>\n",
              "      <td>6</td>\n",
              "      <td>6</td>\n",
              "    </tr>\n",
              "    <tr>\n",
              "      <th>1b6c7548a2a1f9037c1fd3ddfed95f33</th>\n",
              "      <td>7</td>\n",
              "      <td>7</td>\n",
              "      <td>7</td>\n",
              "      <td>7</td>\n",
              "    </tr>\n",
              "  </tbody>\n",
              "</table>\n",
              "</div>"
            ],
            "text/plain": [
              "                                  customer_id  ...  customer_state\n",
              "customer_unique_id                             ...                \n",
              "083ca1aa470c280236380973a48f77c6            4  ...               4\n",
              "08e5b38d7948d37fbb2a59fc5e175ab1            4  ...               4\n",
              "12d8b5ed661190a3a08183644dfc504d            4  ...               4\n",
              "12f5d6e1cbf93dafd9dcc19095df0b3d            6  ...               6\n",
              "1b6c7548a2a1f9037c1fd3ddfed95f33            7  ...               7\n",
              "\n",
              "[5 rows x 4 columns]"
            ]
          },
          "metadata": {
            "tags": []
          },
          "execution_count": 336
        }
      ]
    },
    {
      "cell_type": "code",
      "metadata": {
        "id": "M_RSVil1LftB",
        "outputId": "38797ea0-8b2c-49e5-fee8-1dfd844e4c2b",
        "colab": {
          "base_uri": "https://localhost:8080/",
          "height": 34
        }
      },
      "source": [
        "# Removendo Duplicatas de valores para utilizar valores unicos\n",
        "df_clientes_unique = df_clientes.drop_duplicates('customer_unique_id',keep='first')\n",
        "df_clientes_unique.shape"
      ],
      "execution_count": 339,
      "outputs": [
        {
          "output_type": "execute_result",
          "data": {
            "text/plain": [
              "(96096, 5)"
            ]
          },
          "metadata": {
            "tags": []
          },
          "execution_count": 339
        }
      ]
    },
    {
      "cell_type": "code",
      "metadata": {
        "id": "Mo5gi7eavPKi",
        "outputId": "01e925c8-81c4-49d6-e333-eff9e5bbabfa",
        "colab": {
          "base_uri": "https://localhost:8080/",
          "height": 603
        }
      },
      "source": [
        "# Ranking com as 7 cidades com maior quantidade de clientes\n",
        "data = df_clientes_unique.customer_city.value_counts().head(7).reset_index()\n",
        "fig = px.bar(data,x='index', y='customer_city',text='customer_city',color_discrete_sequence=px.colors.qualitative.Alphabet,template='plotly_white',labels={'index': 'Cidades', 'customer_city':'Quantidade de clientes'})\n",
        "fig.update_layout(title={'text' :'7 Cidades com maior quantidade de clientes','y': 0.95,'x': 0.5})\n",
        "fig.update_traces(texttemplate='%{text:.2s}', textposition='outside')\n",
        "fig.update_yaxes(showticklabels=False)\n",
        "print(df_clientes_unique.customer_city.value_counts().head(7).reset_index())\n",
        "gitly.show(fig)"
      ],
      "execution_count": 360,
      "outputs": [
        {
          "output_type": "stream",
          "text": [
            "            index  customer_city\n",
            "0       sao paulo          14971\n",
            "1  rio de janeiro           6611\n",
            "2  belo horizonte           2671\n",
            "3        brasilia           2066\n",
            "4        curitiba           1462\n",
            "5        campinas           1397\n",
            "6    porto alegre           1326\n"
          ],
          "name": "stdout"
        },
        {
          "output_type": "execute_result",
          "data": {
            "image/png": "[encoded data removed]",
            "text/plain": [
              "<IPython.core.display.Image object>"
            ]
          },
          "metadata": {
            "tags": []
          },
          "execution_count": 360
        }
      ]
    },
    {
      "cell_type": "code",
      "metadata": {
        "id": "ASqq3fW9OORP",
        "outputId": "f217627b-0889-4d61-a3ca-451658b804e3",
        "colab": {
          "base_uri": "https://localhost:8080/",
          "height": 603
        }
      },
      "source": [
        "# Ranking com os 7 estados com maior quantidade de clientes\n",
        "df_top5_estado = df_clientes_unique.customer_state.value_counts().head(7)\n",
        "print(df_top5_estado)\n",
        "fig = px.bar(df_top5_estado,y='customer_state',color_discrete_sequence=px.colors.qualitative.Alphabet,template='plotly_white',labels={'index': 'Estados', 'customer_state':'Quantidade de clientes'},text='customer_state')\n",
        "fig.update_layout(title={'text' :'Ranking com os 7 estados com maior quantidade de clientes','y': 0.95,'x': 0.5})\n",
        "fig.update_traces(texttemplate='%{text:.2s}', textposition='outside')\n",
        "gitly.show(fig)"
      ],
      "execution_count": 370,
      "outputs": [
        {
          "output_type": "stream",
          "text": [
            "SP    40295\n",
            "RJ    12377\n",
            "MG    11255\n",
            "RS     5277\n",
            "PR     4882\n",
            "SC     3529\n",
            "BA     3276\n",
            "Name: customer_state, dtype: int64\n"
          ],
          "name": "stdout"
        },
        {
          "output_type": "execute_result",
          "data": {
            "image/png": "[encoded data removed]",
            "text/plain": [
              "<IPython.core.display.Image object>"
            ]
          },
          "metadata": {
            "tags": []
          },
          "execution_count": 370
        }
      ]
    },
    {
      "cell_type": "code",
      "metadata": {
        "id": "pPluwWlpREWE",
        "outputId": "653d4474-6971-46fa-ba11-7010cecb5d97",
        "colab": {
          "base_uri": "https://localhost:8080/",
          "height": 467
        }
      },
      "source": [
        "fig = make_subplots( rows=1, cols=2, column_titles= ['Cidades com mais clientes', 'Estados com mais clientes'] )\n",
        "fig.add_bar( x=df_top5_cidade.index , y=df_top5_cidade, row=1, col=1 )\n",
        "fig.add_bar( x=df_top5_estados.index, y=df_top5_estados, row=1, col=2 )\n",
        "fig.update_layout( dict( {'title':'Clientes: Cidades vs Estados'} ) )\n",
        "fig.update_layout( dict( {'showlegend':False} ) )\n",
        "gitly.show(fig)"
      ],
      "execution_count": 359,
      "outputs": [
        {
          "output_type": "execute_result",
          "data": {
            "image/png": "[encoded data removed]",
            "text/plain": [
              "<IPython.core.display.Image object>"
            ]
          },
          "metadata": {
            "tags": []
          },
          "execution_count": 359
        }
      ]
    },
    {
      "cell_type": "code",
      "metadata": {
        "id": "Gf6EUl5mUpSr",
        "outputId": "fd771421-b7f6-46d4-bb87-0423d78df32b",
        "colab": {
          "base_uri": "https://localhost:8080/",
          "height": 167
        }
      },
      "source": [
        "# Ranking com os 7 bairros com maior quantidade de clientes\n",
        "df_top4_bairros = df_clientes_unique.customer_zip_code_prefix.value_counts().head(4).rename('qtd_clientes_bairro').reset_index()\n",
        "df_top4_bairros"
      ],
      "execution_count": 386,
      "outputs": [
        {
          "output_type": "execute_result",
          "data": {
            "text/html": [
              "<div>\n",
              "<style scoped>\n",
              "    .dataframe tbody tr th:only-of-type {\n",
              "        vertical-align: middle;\n",
              "    }\n",
              "\n",
              "    .dataframe tbody tr th {\n",
              "        vertical-align: top;\n",
              "    }\n",
              "\n",
              "    .dataframe thead th {\n",
              "        text-align: right;\n",
              "    }\n",
              "</style>\n",
              "<table border=\"1\" class=\"dataframe\">\n",
              "  <thead>\n",
              "    <tr style=\"text-align: right;\">\n",
              "      <th></th>\n",
              "      <th>index</th>\n",
              "      <th>qtd_clientes_bairro</th>\n",
              "    </tr>\n",
              "  </thead>\n",
              "  <tbody>\n",
              "    <tr>\n",
              "      <th>0</th>\n",
              "      <td>22790</td>\n",
              "      <td>136</td>\n",
              "    </tr>\n",
              "    <tr>\n",
              "      <th>1</th>\n",
              "      <td>22793</td>\n",
              "      <td>119</td>\n",
              "    </tr>\n",
              "    <tr>\n",
              "      <th>2</th>\n",
              "      <td>24220</td>\n",
              "      <td>113</td>\n",
              "    </tr>\n",
              "    <tr>\n",
              "      <th>3</th>\n",
              "      <td>24230</td>\n",
              "      <td>112</td>\n",
              "    </tr>\n",
              "  </tbody>\n",
              "</table>\n",
              "</div>"
            ],
            "text/plain": [
              "   index  qtd_clientes_bairro\n",
              "0  22790                  136\n",
              "1  22793                  119\n",
              "2  24220                  113\n",
              "3  24230                  112"
            ]
          },
          "metadata": {
            "tags": []
          },
          "execution_count": 386
        }
      ]
    },
    {
      "cell_type": "code",
      "metadata": {
        "id": "doeTmZXqX7x8",
        "outputId": "9e9b34e8-672d-4f98-f981-370d41d0315d",
        "colab": {
          "base_uri": "https://localhost:8080/",
          "height": 167
        }
      },
      "source": [
        "# fonte https://imasters.com.br/back-end/python-consulta-de-cep-com-pycepcorreios\n",
        "import pycep_correios\n",
        "\n",
        "def bairro_cidade( cep ):\n",
        "    end = pycep_correios.get_address_from_cep( str( cep ) + '000' )\n",
        "    return '{} / {}'.format(end['bairro'], end['cidade'])\n",
        "\n",
        "df_top4_bairros['distrito'] = df_top4_bairros['index'].apply( bairro_cidade )\n",
        "df_top4_bairros"
      ],
      "execution_count": 387,
      "outputs": [
        {
          "output_type": "execute_result",
          "data": {
            "text/html": [
              "<div>\n",
              "<style scoped>\n",
              "    .dataframe tbody tr th:only-of-type {\n",
              "        vertical-align: middle;\n",
              "    }\n",
              "\n",
              "    .dataframe tbody tr th {\n",
              "        vertical-align: top;\n",
              "    }\n",
              "\n",
              "    .dataframe thead th {\n",
              "        text-align: right;\n",
              "    }\n",
              "</style>\n",
              "<table border=\"1\" class=\"dataframe\">\n",
              "  <thead>\n",
              "    <tr style=\"text-align: right;\">\n",
              "      <th></th>\n",
              "      <th>index</th>\n",
              "      <th>qtd_clientes_bairro</th>\n",
              "      <th>distrito</th>\n",
              "    </tr>\n",
              "  </thead>\n",
              "  <tbody>\n",
              "    <tr>\n",
              "      <th>0</th>\n",
              "      <td>22790</td>\n",
              "      <td>136</td>\n",
              "      <td>Recreio dos Bandeirantes / Rio de Janeiro</td>\n",
              "    </tr>\n",
              "    <tr>\n",
              "      <th>1</th>\n",
              "      <td>22793</td>\n",
              "      <td>119</td>\n",
              "      <td>Barra da Tijuca / Rio de Janeiro</td>\n",
              "    </tr>\n",
              "    <tr>\n",
              "      <th>2</th>\n",
              "      <td>24220</td>\n",
              "      <td>113</td>\n",
              "      <td>Icaraí / Niterói</td>\n",
              "    </tr>\n",
              "    <tr>\n",
              "      <th>3</th>\n",
              "      <td>24230</td>\n",
              "      <td>112</td>\n",
              "      <td>Icaraí / Niterói</td>\n",
              "    </tr>\n",
              "  </tbody>\n",
              "</table>\n",
              "</div>"
            ],
            "text/plain": [
              "   index  qtd_clientes_bairro                                   distrito\n",
              "0  22790                  136  Recreio dos Bandeirantes / Rio de Janeiro\n",
              "1  22793                  119           Barra da Tijuca / Rio de Janeiro\n",
              "2  24220                  113                           Icaraí / Niterói\n",
              "3  24230                  112                           Icaraí / Niterói"
            ]
          },
          "metadata": {
            "tags": []
          },
          "execution_count": 387
        }
      ]
    },
    {
      "cell_type": "markdown",
      "metadata": {
        "id": "uRk1mp_dbDlF"
      },
      "source": [
        "# Dataset Produtos (Products)"
      ]
    },
    {
      "cell_type": "markdown",
      "metadata": {
        "id": "0vDDn0CWbzMm"
      },
      "source": [
        "## Estrutura do Dataset"
      ]
    },
    {
      "cell_type": "code",
      "metadata": {
        "id": "Uty4tL3XVOOa",
        "outputId": "e839451e-3fa0-43cc-97ce-5994a6e80a45",
        "colab": {
          "base_uri": "https://localhost:8080/",
          "height": 137
        }
      },
      "source": [
        "df_produtos.head(3)"
      ],
      "execution_count": 287,
      "outputs": [
        {
          "output_type": "execute_result",
          "data": {
            "text/html": [
              "<div>\n",
              "<style scoped>\n",
              "    .dataframe tbody tr th:only-of-type {\n",
              "        vertical-align: middle;\n",
              "    }\n",
              "\n",
              "    .dataframe tbody tr th {\n",
              "        vertical-align: top;\n",
              "    }\n",
              "\n",
              "    .dataframe thead th {\n",
              "        text-align: right;\n",
              "    }\n",
              "</style>\n",
              "<table border=\"1\" class=\"dataframe\">\n",
              "  <thead>\n",
              "    <tr style=\"text-align: right;\">\n",
              "      <th></th>\n",
              "      <th>product_id</th>\n",
              "      <th>product_category_name</th>\n",
              "      <th>product_name_lenght</th>\n",
              "      <th>product_description_lenght</th>\n",
              "      <th>product_photos_qty</th>\n",
              "      <th>product_weight_g</th>\n",
              "      <th>product_length_cm</th>\n",
              "      <th>product_height_cm</th>\n",
              "      <th>product_width_cm</th>\n",
              "    </tr>\n",
              "  </thead>\n",
              "  <tbody>\n",
              "    <tr>\n",
              "      <th>0</th>\n",
              "      <td>1e9e8ef04dbcff4541ed26657ea517e5</td>\n",
              "      <td>perfumaria</td>\n",
              "      <td>40.0</td>\n",
              "      <td>287.0</td>\n",
              "      <td>1.0</td>\n",
              "      <td>225.0</td>\n",
              "      <td>16.0</td>\n",
              "      <td>10.0</td>\n",
              "      <td>14.0</td>\n",
              "    </tr>\n",
              "    <tr>\n",
              "      <th>1</th>\n",
              "      <td>3aa071139cb16b67ca9e5dea641aaa2f</td>\n",
              "      <td>artes</td>\n",
              "      <td>44.0</td>\n",
              "      <td>276.0</td>\n",
              "      <td>1.0</td>\n",
              "      <td>1000.0</td>\n",
              "      <td>30.0</td>\n",
              "      <td>18.0</td>\n",
              "      <td>20.0</td>\n",
              "    </tr>\n",
              "    <tr>\n",
              "      <th>2</th>\n",
              "      <td>96bd76ec8810374ed1b65e291975717f</td>\n",
              "      <td>esporte_lazer</td>\n",
              "      <td>46.0</td>\n",
              "      <td>250.0</td>\n",
              "      <td>1.0</td>\n",
              "      <td>154.0</td>\n",
              "      <td>18.0</td>\n",
              "      <td>9.0</td>\n",
              "      <td>15.0</td>\n",
              "    </tr>\n",
              "  </tbody>\n",
              "</table>\n",
              "</div>"
            ],
            "text/plain": [
              "                         product_id  ... product_width_cm\n",
              "0  1e9e8ef04dbcff4541ed26657ea517e5  ...             14.0\n",
              "1  3aa071139cb16b67ca9e5dea641aaa2f  ...             20.0\n",
              "2  96bd76ec8810374ed1b65e291975717f  ...             15.0\n",
              "\n",
              "[3 rows x 9 columns]"
            ]
          },
          "metadata": {
            "tags": []
          },
          "execution_count": 287
        }
      ]
    },
    {
      "cell_type": "code",
      "metadata": {
        "id": "A0mTpUGfb5hl",
        "outputId": "8b1e0fd6-a048-4883-da5f-3e04856f88e7",
        "colab": {
          "base_uri": "https://localhost:8080/",
          "height": 34
        }
      },
      "source": [
        "df_produtos.shape"
      ],
      "execution_count": 288,
      "outputs": [
        {
          "output_type": "execute_result",
          "data": {
            "text/plain": [
              "(32951, 9)"
            ]
          },
          "metadata": {
            "tags": []
          },
          "execution_count": 288
        }
      ]
    },
    {
      "cell_type": "code",
      "metadata": {
        "id": "Azs6x_s_b8Tg",
        "outputId": "1fae29da-db5b-4b51-b6b5-578b7e7a3084",
        "colab": {
          "base_uri": "https://localhost:8080/",
          "height": 137
        }
      },
      "source": [
        "df_produtos.agg( ['nunique', 'count', 'size'] )"
      ],
      "execution_count": 289,
      "outputs": [
        {
          "output_type": "execute_result",
          "data": {
            "text/html": [
              "<div>\n",
              "<style scoped>\n",
              "    .dataframe tbody tr th:only-of-type {\n",
              "        vertical-align: middle;\n",
              "    }\n",
              "\n",
              "    .dataframe tbody tr th {\n",
              "        vertical-align: top;\n",
              "    }\n",
              "\n",
              "    .dataframe thead th {\n",
              "        text-align: right;\n",
              "    }\n",
              "</style>\n",
              "<table border=\"1\" class=\"dataframe\">\n",
              "  <thead>\n",
              "    <tr style=\"text-align: right;\">\n",
              "      <th></th>\n",
              "      <th>product_id</th>\n",
              "      <th>product_category_name</th>\n",
              "      <th>product_name_lenght</th>\n",
              "      <th>product_description_lenght</th>\n",
              "      <th>product_photos_qty</th>\n",
              "      <th>product_weight_g</th>\n",
              "      <th>product_length_cm</th>\n",
              "      <th>product_height_cm</th>\n",
              "      <th>product_width_cm</th>\n",
              "    </tr>\n",
              "  </thead>\n",
              "  <tbody>\n",
              "    <tr>\n",
              "      <th>nunique</th>\n",
              "      <td>32951</td>\n",
              "      <td>73</td>\n",
              "      <td>66</td>\n",
              "      <td>2960</td>\n",
              "      <td>19</td>\n",
              "      <td>2204</td>\n",
              "      <td>99</td>\n",
              "      <td>102</td>\n",
              "      <td>95</td>\n",
              "    </tr>\n",
              "    <tr>\n",
              "      <th>count</th>\n",
              "      <td>32951</td>\n",
              "      <td>32341</td>\n",
              "      <td>32341</td>\n",
              "      <td>32341</td>\n",
              "      <td>32341</td>\n",
              "      <td>32949</td>\n",
              "      <td>32949</td>\n",
              "      <td>32949</td>\n",
              "      <td>32949</td>\n",
              "    </tr>\n",
              "    <tr>\n",
              "      <th>size</th>\n",
              "      <td>32951</td>\n",
              "      <td>32951</td>\n",
              "      <td>32951</td>\n",
              "      <td>32951</td>\n",
              "      <td>32951</td>\n",
              "      <td>32951</td>\n",
              "      <td>32951</td>\n",
              "      <td>32951</td>\n",
              "      <td>32951</td>\n",
              "    </tr>\n",
              "  </tbody>\n",
              "</table>\n",
              "</div>"
            ],
            "text/plain": [
              "         product_id  product_category_name  ...  product_height_cm  product_width_cm\n",
              "nunique       32951                     73  ...                102                95\n",
              "count         32951                  32341  ...              32949             32949\n",
              "size          32951                  32951  ...              32951             32951\n",
              "\n",
              "[3 rows x 9 columns]"
            ]
          },
          "metadata": {
            "tags": []
          },
          "execution_count": 289
        }
      ]
    },
    {
      "cell_type": "code",
      "metadata": {
        "id": "RVZBzCOacH-v",
        "outputId": "06fb49bb-deee-4217-8ea4-0f856d31fea4",
        "colab": {
          "base_uri": "https://localhost:8080/",
          "height": 137
        }
      },
      "source": [
        "df_produtos.product_category_name.fillna(value='nao informado',inplace=True)\n",
        "df_produtos.agg( ['nunique', 'count', 'size'] )"
      ],
      "execution_count": 290,
      "outputs": [
        {
          "output_type": "execute_result",
          "data": {
            "text/html": [
              "<div>\n",
              "<style scoped>\n",
              "    .dataframe tbody tr th:only-of-type {\n",
              "        vertical-align: middle;\n",
              "    }\n",
              "\n",
              "    .dataframe tbody tr th {\n",
              "        vertical-align: top;\n",
              "    }\n",
              "\n",
              "    .dataframe thead th {\n",
              "        text-align: right;\n",
              "    }\n",
              "</style>\n",
              "<table border=\"1\" class=\"dataframe\">\n",
              "  <thead>\n",
              "    <tr style=\"text-align: right;\">\n",
              "      <th></th>\n",
              "      <th>product_id</th>\n",
              "      <th>product_category_name</th>\n",
              "      <th>product_name_lenght</th>\n",
              "      <th>product_description_lenght</th>\n",
              "      <th>product_photos_qty</th>\n",
              "      <th>product_weight_g</th>\n",
              "      <th>product_length_cm</th>\n",
              "      <th>product_height_cm</th>\n",
              "      <th>product_width_cm</th>\n",
              "    </tr>\n",
              "  </thead>\n",
              "  <tbody>\n",
              "    <tr>\n",
              "      <th>nunique</th>\n",
              "      <td>32951</td>\n",
              "      <td>74</td>\n",
              "      <td>66</td>\n",
              "      <td>2960</td>\n",
              "      <td>19</td>\n",
              "      <td>2204</td>\n",
              "      <td>99</td>\n",
              "      <td>102</td>\n",
              "      <td>95</td>\n",
              "    </tr>\n",
              "    <tr>\n",
              "      <th>count</th>\n",
              "      <td>32951</td>\n",
              "      <td>32951</td>\n",
              "      <td>32341</td>\n",
              "      <td>32341</td>\n",
              "      <td>32341</td>\n",
              "      <td>32949</td>\n",
              "      <td>32949</td>\n",
              "      <td>32949</td>\n",
              "      <td>32949</td>\n",
              "    </tr>\n",
              "    <tr>\n",
              "      <th>size</th>\n",
              "      <td>32951</td>\n",
              "      <td>32951</td>\n",
              "      <td>32951</td>\n",
              "      <td>32951</td>\n",
              "      <td>32951</td>\n",
              "      <td>32951</td>\n",
              "      <td>32951</td>\n",
              "      <td>32951</td>\n",
              "      <td>32951</td>\n",
              "    </tr>\n",
              "  </tbody>\n",
              "</table>\n",
              "</div>"
            ],
            "text/plain": [
              "         product_id  product_category_name  ...  product_height_cm  product_width_cm\n",
              "nunique       32951                     74  ...                102                95\n",
              "count         32951                  32951  ...              32949             32949\n",
              "size          32951                  32951  ...              32951             32951\n",
              "\n",
              "[3 rows x 9 columns]"
            ]
          },
          "metadata": {
            "tags": []
          },
          "execution_count": 290
        }
      ]
    },
    {
      "cell_type": "markdown",
      "metadata": {
        "id": "AuHEtKzQoe_J"
      },
      "source": [
        "## Informações para o Negócio"
      ]
    },
    {
      "cell_type": "code",
      "metadata": {
        "id": "DYUvDkW8cYs2",
        "outputId": "13dc787a-c99e-4776-f01f-1beac4081355",
        "colab": {
          "base_uri": "https://localhost:8080/",
          "height": 467
        }
      },
      "source": [
        "# Como esta a distribuição?\n",
        "fig = px.box(df_produtos.product_weight_g, y=\"product_weight_g\",color_discrete_sequence=px.colors.qualitative.Alphabet,template='plotly_white')\n",
        "gitly.show(fig)"
      ],
      "execution_count": 291,
      "outputs": [
        {
          "output_type": "execute_result",
          "data": {
            "image/png": "[encoded data removed]",
            "text/plain": [
              "<IPython.core.display.Image object>"
            ]
          },
          "metadata": {
            "tags": []
          },
          "execution_count": 291
        }
      ]
    },
    {
      "cell_type": "code",
      "metadata": {
        "id": "bzOofEY4eQ62",
        "outputId": "047d3c6a-18ce-407a-8a72-d2d124dad6c8",
        "colab": {
          "base_uri": "https://localhost:8080/",
          "height": 34
        }
      },
      "source": [
        "df_produtos.product_weight_g.median()\n",
        "df_produtos.product_weight_g.mean()"
      ],
      "execution_count": 292,
      "outputs": [
        {
          "output_type": "execute_result",
          "data": {
            "text/plain": [
              "2276.4724877841513"
            ]
          },
          "metadata": {
            "tags": []
          },
          "execution_count": 292
        }
      ]
    },
    {
      "cell_type": "code",
      "metadata": {
        "id": "tsBqsSjReV3I"
      },
      "source": [
        "valor = df_produtos.product_weight_g.median()\n",
        "df_produtos.product_weight_g.fillna(value=valor, inplace=True)"
      ],
      "execution_count": 293,
      "outputs": []
    },
    {
      "cell_type": "code",
      "metadata": {
        "id": "XYjCQnQoeWN5",
        "outputId": "92daa5d6-b5b0-466e-cba5-27a5cbb173de",
        "colab": {
          "base_uri": "https://localhost:8080/",
          "height": 119
        }
      },
      "source": [
        "df_categorias_mais_vendidas = df_produtos.product_category_name.value_counts().head(5).rename('qtd_prod_cat_ofertados')\n",
        "df_categorias_mais_vendidas"
      ],
      "execution_count": 294,
      "outputs": [
        {
          "output_type": "execute_result",
          "data": {
            "text/plain": [
              "cama_mesa_banho          3029\n",
              "esporte_lazer            2867\n",
              "moveis_decoracao         2657\n",
              "beleza_saude             2444\n",
              "utilidades_domesticas    2335\n",
              "Name: qtd_prod_cat_ofertados, dtype: int64"
            ]
          },
          "metadata": {
            "tags": []
          },
          "execution_count": 294
        }
      ]
    },
    {
      "cell_type": "code",
      "metadata": {
        "id": "l9w1F8DeeaCs",
        "outputId": "87db8b07-3c30-4650-9fad-bc7c70d2536f",
        "colab": {
          "base_uri": "https://localhost:8080/",
          "height": 238
        }
      },
      "source": [
        "df_peso_medio_produtos = df_produtos.groupby( by='product_category_name' ).apply(np.mean)['product_weight_g']\n",
        "df_peso_medio_produtos"
      ],
      "execution_count": 295,
      "outputs": [
        {
          "output_type": "execute_result",
          "data": {
            "text/plain": [
              "product_category_name\n",
              "agro_industria_e_comercio    5263.405405\n",
              "alimentos                     923.414634\n",
              "alimentos_bebidas            1307.932692\n",
              "artes                        1691.763636\n",
              "artes_e_artesanato           1164.578947\n",
              "                                ...     \n",
              "sinalizacao_e_seguranca      2969.817204\n",
              "tablets_impressao_imagem      381.444444\n",
              "telefonia                     236.506173\n",
              "telefonia_fixa                660.827586\n",
              "utilidades_domesticas        3020.793576\n",
              "Name: product_weight_g, Length: 74, dtype: float64"
            ]
          },
          "metadata": {
            "tags": []
          },
          "execution_count": 295
        }
      ]
    },
    {
      "cell_type": "code",
      "metadata": {
        "id": "kbPtxBq8fw3Z",
        "outputId": "c1b70680-3772-401e-895a-5501dd1b6d65",
        "colab": {
          "base_uri": "https://localhost:8080/",
          "height": 197
        }
      },
      "source": [
        "df_mais_vendidos_peso_medio = pd.merge(left=df_categorias_mais_vendidas,right=df_peso_medio_produtos,how='left',left_index=True, right_index=True)\n",
        "df_mais_vendidos_peso_medio"
      ],
      "execution_count": 296,
      "outputs": [
        {
          "output_type": "execute_result",
          "data": {
            "text/html": [
              "<div>\n",
              "<style scoped>\n",
              "    .dataframe tbody tr th:only-of-type {\n",
              "        vertical-align: middle;\n",
              "    }\n",
              "\n",
              "    .dataframe tbody tr th {\n",
              "        vertical-align: top;\n",
              "    }\n",
              "\n",
              "    .dataframe thead th {\n",
              "        text-align: right;\n",
              "    }\n",
              "</style>\n",
              "<table border=\"1\" class=\"dataframe\">\n",
              "  <thead>\n",
              "    <tr style=\"text-align: right;\">\n",
              "      <th></th>\n",
              "      <th>qtd_prod_cat_ofertados</th>\n",
              "      <th>product_weight_g</th>\n",
              "    </tr>\n",
              "  </thead>\n",
              "  <tbody>\n",
              "    <tr>\n",
              "      <th>cama_mesa_banho</th>\n",
              "      <td>3029</td>\n",
              "      <td>2456.405084</td>\n",
              "    </tr>\n",
              "    <tr>\n",
              "      <th>esporte_lazer</th>\n",
              "      <td>2867</td>\n",
              "      <td>2024.670736</td>\n",
              "    </tr>\n",
              "    <tr>\n",
              "      <th>moveis_decoracao</th>\n",
              "      <td>2657</td>\n",
              "      <td>3008.266842</td>\n",
              "    </tr>\n",
              "    <tr>\n",
              "      <th>beleza_saude</th>\n",
              "      <td>2444</td>\n",
              "      <td>1434.793781</td>\n",
              "    </tr>\n",
              "    <tr>\n",
              "      <th>utilidades_domesticas</th>\n",
              "      <td>2335</td>\n",
              "      <td>3020.793576</td>\n",
              "    </tr>\n",
              "  </tbody>\n",
              "</table>\n",
              "</div>"
            ],
            "text/plain": [
              "                       qtd_prod_cat_ofertados  product_weight_g\n",
              "cama_mesa_banho                          3029       2456.405084\n",
              "esporte_lazer                            2867       2024.670736\n",
              "moveis_decoracao                         2657       3008.266842\n",
              "beleza_saude                             2444       1434.793781\n",
              "utilidades_domesticas                    2335       3020.793576"
            ]
          },
          "metadata": {
            "tags": []
          },
          "execution_count": 296
        }
      ]
    },
    {
      "cell_type": "code",
      "metadata": {
        "id": "FdxTglgMgJax",
        "outputId": "8399df7e-11ba-43f1-b60c-3817897c29a7",
        "colab": {
          "base_uri": "https://localhost:8080/",
          "height": 467
        }
      },
      "source": [
        "fig = px.bar(df_mais_vendidos_peso_medio, y='product_weight_g',color_discrete_sequence=px.colors.qualitative.Alphabet,template='plotly_white')\n",
        "gitly.show(fig)"
      ],
      "execution_count": 297,
      "outputs": [
        {
          "output_type": "execute_result",
          "data": {
            "image/png": "[encoded data removed]",
            "text/plain": [
              "<IPython.core.display.Image object>"
            ]
          },
          "metadata": {
            "tags": []
          },
          "execution_count": 297
        }
      ]
    },
    {
      "cell_type": "markdown",
      "metadata": {
        "id": "JhYGjTdygxxl"
      },
      "source": [
        "# Dataset Pedidos (Orders)"
      ]
    },
    {
      "cell_type": "markdown",
      "metadata": {
        "id": "w4er4mDeoan9"
      },
      "source": [
        "## Estrutura da Tabela"
      ]
    },
    {
      "cell_type": "code",
      "metadata": {
        "id": "GXsHXmQUgfzf",
        "outputId": "1b789810-3787-4399-ca0b-48638c1829be",
        "colab": {
          "base_uri": "https://localhost:8080/",
          "height": 157
        }
      },
      "source": [
        "df_compras.head(3)"
      ],
      "execution_count": 298,
      "outputs": [
        {
          "output_type": "execute_result",
          "data": {
            "text/html": [
              "<div>\n",
              "<style scoped>\n",
              "    .dataframe tbody tr th:only-of-type {\n",
              "        vertical-align: middle;\n",
              "    }\n",
              "\n",
              "    .dataframe tbody tr th {\n",
              "        vertical-align: top;\n",
              "    }\n",
              "\n",
              "    .dataframe thead th {\n",
              "        text-align: right;\n",
              "    }\n",
              "</style>\n",
              "<table border=\"1\" class=\"dataframe\">\n",
              "  <thead>\n",
              "    <tr style=\"text-align: right;\">\n",
              "      <th></th>\n",
              "      <th>order_id</th>\n",
              "      <th>customer_id</th>\n",
              "      <th>order_status</th>\n",
              "      <th>order_purchase_timestamp</th>\n",
              "      <th>order_approved_at</th>\n",
              "      <th>order_delivered_carrier_date</th>\n",
              "      <th>order_delivered_customer_date</th>\n",
              "      <th>order_estimated_delivery_date</th>\n",
              "    </tr>\n",
              "  </thead>\n",
              "  <tbody>\n",
              "    <tr>\n",
              "      <th>0</th>\n",
              "      <td>e481f51cbdc54678b7cc49136f2d6af7</td>\n",
              "      <td>9ef432eb6251297304e76186b10a928d</td>\n",
              "      <td>delivered</td>\n",
              "      <td>2017-10-02 10:56:33</td>\n",
              "      <td>2017-10-02 11:07:15</td>\n",
              "      <td>2017-10-04 19:55:00</td>\n",
              "      <td>2017-10-10 21:25:13</td>\n",
              "      <td>2017-10-18 00:00:00</td>\n",
              "    </tr>\n",
              "    <tr>\n",
              "      <th>1</th>\n",
              "      <td>53cdb2fc8bc7dce0b6741e2150273451</td>\n",
              "      <td>b0830fb4747a6c6d20dea0b8c802d7ef</td>\n",
              "      <td>delivered</td>\n",
              "      <td>2018-07-24 20:41:37</td>\n",
              "      <td>2018-07-26 03:24:27</td>\n",
              "      <td>2018-07-26 14:31:00</td>\n",
              "      <td>2018-08-07 15:27:45</td>\n",
              "      <td>2018-08-13 00:00:00</td>\n",
              "    </tr>\n",
              "    <tr>\n",
              "      <th>2</th>\n",
              "      <td>47770eb9100c2d0c44946d9cf07ec65d</td>\n",
              "      <td>41ce2a54c0b03bf3443c3d931a367089</td>\n",
              "      <td>delivered</td>\n",
              "      <td>2018-08-08 08:38:49</td>\n",
              "      <td>2018-08-08 08:55:23</td>\n",
              "      <td>2018-08-08 13:50:00</td>\n",
              "      <td>2018-08-17 18:06:29</td>\n",
              "      <td>2018-09-04 00:00:00</td>\n",
              "    </tr>\n",
              "  </tbody>\n",
              "</table>\n",
              "</div>"
            ],
            "text/plain": [
              "                           order_id  ... order_estimated_delivery_date\n",
              "0  e481f51cbdc54678b7cc49136f2d6af7  ...           2017-10-18 00:00:00\n",
              "1  53cdb2fc8bc7dce0b6741e2150273451  ...           2018-08-13 00:00:00\n",
              "2  47770eb9100c2d0c44946d9cf07ec65d  ...           2018-09-04 00:00:00\n",
              "\n",
              "[3 rows x 8 columns]"
            ]
          },
          "metadata": {
            "tags": []
          },
          "execution_count": 298
        }
      ]
    },
    {
      "cell_type": "code",
      "metadata": {
        "id": "mrJIM5jtlwwW",
        "outputId": "4791cb49-7fd6-41fa-b4bc-5a9e8f1b854c",
        "colab": {
          "base_uri": "https://localhost:8080/",
          "height": 137
        }
      },
      "source": [
        "df_compras.agg(['nunique','count','size'])"
      ],
      "execution_count": 299,
      "outputs": [
        {
          "output_type": "execute_result",
          "data": {
            "text/html": [
              "<div>\n",
              "<style scoped>\n",
              "    .dataframe tbody tr th:only-of-type {\n",
              "        vertical-align: middle;\n",
              "    }\n",
              "\n",
              "    .dataframe tbody tr th {\n",
              "        vertical-align: top;\n",
              "    }\n",
              "\n",
              "    .dataframe thead th {\n",
              "        text-align: right;\n",
              "    }\n",
              "</style>\n",
              "<table border=\"1\" class=\"dataframe\">\n",
              "  <thead>\n",
              "    <tr style=\"text-align: right;\">\n",
              "      <th></th>\n",
              "      <th>order_id</th>\n",
              "      <th>customer_id</th>\n",
              "      <th>order_status</th>\n",
              "      <th>order_purchase_timestamp</th>\n",
              "      <th>order_approved_at</th>\n",
              "      <th>order_delivered_carrier_date</th>\n",
              "      <th>order_delivered_customer_date</th>\n",
              "      <th>order_estimated_delivery_date</th>\n",
              "    </tr>\n",
              "  </thead>\n",
              "  <tbody>\n",
              "    <tr>\n",
              "      <th>nunique</th>\n",
              "      <td>99441</td>\n",
              "      <td>99441</td>\n",
              "      <td>8</td>\n",
              "      <td>98875</td>\n",
              "      <td>90733</td>\n",
              "      <td>81018</td>\n",
              "      <td>95664</td>\n",
              "      <td>459</td>\n",
              "    </tr>\n",
              "    <tr>\n",
              "      <th>count</th>\n",
              "      <td>99441</td>\n",
              "      <td>99441</td>\n",
              "      <td>99441</td>\n",
              "      <td>99441</td>\n",
              "      <td>99281</td>\n",
              "      <td>97658</td>\n",
              "      <td>96476</td>\n",
              "      <td>99441</td>\n",
              "    </tr>\n",
              "    <tr>\n",
              "      <th>size</th>\n",
              "      <td>99441</td>\n",
              "      <td>99441</td>\n",
              "      <td>99441</td>\n",
              "      <td>99441</td>\n",
              "      <td>99441</td>\n",
              "      <td>99441</td>\n",
              "      <td>99441</td>\n",
              "      <td>99441</td>\n",
              "    </tr>\n",
              "  </tbody>\n",
              "</table>\n",
              "</div>"
            ],
            "text/plain": [
              "         order_id  ...  order_estimated_delivery_date\n",
              "nunique     99441  ...                            459\n",
              "count       99441  ...                          99441\n",
              "size        99441  ...                          99441\n",
              "\n",
              "[3 rows x 8 columns]"
            ]
          },
          "metadata": {
            "tags": []
          },
          "execution_count": 299
        }
      ]
    },
    {
      "cell_type": "code",
      "metadata": {
        "id": "CqijCAJsl5UL",
        "outputId": "980e7e82-fe2a-4202-82e4-089e50834a06",
        "colab": {
          "base_uri": "https://localhost:8080/",
          "height": 127
        }
      },
      "source": [
        "df_compras.fillna(method='ffill',inplace=True) # ffill: pega e repete o valor anterior nos faltantes\n",
        "df_compras.head(2)"
      ],
      "execution_count": 300,
      "outputs": [
        {
          "output_type": "execute_result",
          "data": {
            "text/html": [
              "<div>\n",
              "<style scoped>\n",
              "    .dataframe tbody tr th:only-of-type {\n",
              "        vertical-align: middle;\n",
              "    }\n",
              "\n",
              "    .dataframe tbody tr th {\n",
              "        vertical-align: top;\n",
              "    }\n",
              "\n",
              "    .dataframe thead th {\n",
              "        text-align: right;\n",
              "    }\n",
              "</style>\n",
              "<table border=\"1\" class=\"dataframe\">\n",
              "  <thead>\n",
              "    <tr style=\"text-align: right;\">\n",
              "      <th></th>\n",
              "      <th>order_id</th>\n",
              "      <th>customer_id</th>\n",
              "      <th>order_status</th>\n",
              "      <th>order_purchase_timestamp</th>\n",
              "      <th>order_approved_at</th>\n",
              "      <th>order_delivered_carrier_date</th>\n",
              "      <th>order_delivered_customer_date</th>\n",
              "      <th>order_estimated_delivery_date</th>\n",
              "    </tr>\n",
              "  </thead>\n",
              "  <tbody>\n",
              "    <tr>\n",
              "      <th>0</th>\n",
              "      <td>e481f51cbdc54678b7cc49136f2d6af7</td>\n",
              "      <td>9ef432eb6251297304e76186b10a928d</td>\n",
              "      <td>delivered</td>\n",
              "      <td>2017-10-02 10:56:33</td>\n",
              "      <td>2017-10-02 11:07:15</td>\n",
              "      <td>2017-10-04 19:55:00</td>\n",
              "      <td>2017-10-10 21:25:13</td>\n",
              "      <td>2017-10-18 00:00:00</td>\n",
              "    </tr>\n",
              "    <tr>\n",
              "      <th>1</th>\n",
              "      <td>53cdb2fc8bc7dce0b6741e2150273451</td>\n",
              "      <td>b0830fb4747a6c6d20dea0b8c802d7ef</td>\n",
              "      <td>delivered</td>\n",
              "      <td>2018-07-24 20:41:37</td>\n",
              "      <td>2018-07-26 03:24:27</td>\n",
              "      <td>2018-07-26 14:31:00</td>\n",
              "      <td>2018-08-07 15:27:45</td>\n",
              "      <td>2018-08-13 00:00:00</td>\n",
              "    </tr>\n",
              "  </tbody>\n",
              "</table>\n",
              "</div>"
            ],
            "text/plain": [
              "                           order_id  ... order_estimated_delivery_date\n",
              "0  e481f51cbdc54678b7cc49136f2d6af7  ...           2017-10-18 00:00:00\n",
              "1  53cdb2fc8bc7dce0b6741e2150273451  ...           2018-08-13 00:00:00\n",
              "\n",
              "[2 rows x 8 columns]"
            ]
          },
          "metadata": {
            "tags": []
          },
          "execution_count": 300
        }
      ]
    },
    {
      "cell_type": "markdown",
      "metadata": {
        "id": "yo0N2bDxoVIF"
      },
      "source": [
        "## Informações para o Negócio"
      ]
    },
    {
      "cell_type": "code",
      "metadata": {
        "id": "VdwCQA5loUYU",
        "outputId": "564fe9ff-4363-4a62-eac4-aaa5e684be8f",
        "colab": {
          "base_uri": "https://localhost:8080/",
          "height": 51
        }
      },
      "source": [
        "df_compras.order_status.unique()"
      ],
      "execution_count": 301,
      "outputs": [
        {
          "output_type": "execute_result",
          "data": {
            "text/plain": [
              "array(['delivered', 'invoiced', 'shipped', 'processing', 'unavailable',\n",
              "       'canceled', 'created', 'approved'], dtype=object)"
            ]
          },
          "metadata": {
            "tags": []
          },
          "execution_count": 301
        }
      ]
    },
    {
      "cell_type": "code",
      "metadata": {
        "id": "09Z1AM0BmbkC"
      },
      "source": [
        "df_status = df_compras.order_status.value_counts()"
      ],
      "execution_count": 302,
      "outputs": []
    },
    {
      "cell_type": "code",
      "metadata": {
        "id": "9heIH8D5nATu",
        "outputId": "40e45ba7-4afa-47f9-be49-fb58628ea169",
        "colab": {
          "base_uri": "https://localhost:8080/",
          "height": 467
        }
      },
      "source": [
        "fig = px.bar(df_status, y='order_status', title='Status do pedido', log_y=True, labels={'order_status': 'Pedidos', 'index':'Status'},color_discrete_sequence=px.colors.qualitative.Alphabet,template='plotly_white')\n",
        "gitly.show( fig )"
      ],
      "execution_count": 303,
      "outputs": [
        {
          "output_type": "execute_result",
          "data": {
            "image/png": "[encoded data removed]",
            "text/plain": [
              "<IPython.core.display.Image object>"
            ]
          },
          "metadata": {
            "tags": []
          },
          "execution_count": 303
        }
      ]
    },
    {
      "cell_type": "code",
      "metadata": {
        "id": "PSnpQ5nZnf1B",
        "outputId": "b486db4b-93c0-411a-966c-7bcfa9e90f09",
        "colab": {
          "base_uri": "https://localhost:8080/",
          "height": 127
        }
      },
      "source": [
        "df_compras.head(2)"
      ],
      "execution_count": 304,
      "outputs": [
        {
          "output_type": "execute_result",
          "data": {
            "text/html": [
              "<div>\n",
              "<style scoped>\n",
              "    .dataframe tbody tr th:only-of-type {\n",
              "        vertical-align: middle;\n",
              "    }\n",
              "\n",
              "    .dataframe tbody tr th {\n",
              "        vertical-align: top;\n",
              "    }\n",
              "\n",
              "    .dataframe thead th {\n",
              "        text-align: right;\n",
              "    }\n",
              "</style>\n",
              "<table border=\"1\" class=\"dataframe\">\n",
              "  <thead>\n",
              "    <tr style=\"text-align: right;\">\n",
              "      <th></th>\n",
              "      <th>order_id</th>\n",
              "      <th>customer_id</th>\n",
              "      <th>order_status</th>\n",
              "      <th>order_purchase_timestamp</th>\n",
              "      <th>order_approved_at</th>\n",
              "      <th>order_delivered_carrier_date</th>\n",
              "      <th>order_delivered_customer_date</th>\n",
              "      <th>order_estimated_delivery_date</th>\n",
              "    </tr>\n",
              "  </thead>\n",
              "  <tbody>\n",
              "    <tr>\n",
              "      <th>0</th>\n",
              "      <td>e481f51cbdc54678b7cc49136f2d6af7</td>\n",
              "      <td>9ef432eb6251297304e76186b10a928d</td>\n",
              "      <td>delivered</td>\n",
              "      <td>2017-10-02 10:56:33</td>\n",
              "      <td>2017-10-02 11:07:15</td>\n",
              "      <td>2017-10-04 19:55:00</td>\n",
              "      <td>2017-10-10 21:25:13</td>\n",
              "      <td>2017-10-18 00:00:00</td>\n",
              "    </tr>\n",
              "    <tr>\n",
              "      <th>1</th>\n",
              "      <td>53cdb2fc8bc7dce0b6741e2150273451</td>\n",
              "      <td>b0830fb4747a6c6d20dea0b8c802d7ef</td>\n",
              "      <td>delivered</td>\n",
              "      <td>2018-07-24 20:41:37</td>\n",
              "      <td>2018-07-26 03:24:27</td>\n",
              "      <td>2018-07-26 14:31:00</td>\n",
              "      <td>2018-08-07 15:27:45</td>\n",
              "      <td>2018-08-13 00:00:00</td>\n",
              "    </tr>\n",
              "  </tbody>\n",
              "</table>\n",
              "</div>"
            ],
            "text/plain": [
              "                           order_id  ... order_estimated_delivery_date\n",
              "0  e481f51cbdc54678b7cc49136f2d6af7  ...           2017-10-18 00:00:00\n",
              "1  53cdb2fc8bc7dce0b6741e2150273451  ...           2018-08-13 00:00:00\n",
              "\n",
              "[2 rows x 8 columns]"
            ]
          },
          "metadata": {
            "tags": []
          },
          "execution_count": 304
        }
      ]
    },
    {
      "cell_type": "code",
      "metadata": {
        "id": "zbCuiO3LqkSY",
        "outputId": "30a2d9b3-432e-4d95-c16d-36783ae70ff0",
        "colab": {
          "base_uri": "https://localhost:8080/",
          "height": 137
        }
      },
      "source": [
        "df_compras_dt = df_compras[['order_id', 'customer_id', 'order_status']].copy()\n",
        "df_compras_dt.head(3)"
      ],
      "execution_count": 305,
      "outputs": [
        {
          "output_type": "execute_result",
          "data": {
            "text/html": [
              "<div>\n",
              "<style scoped>\n",
              "    .dataframe tbody tr th:only-of-type {\n",
              "        vertical-align: middle;\n",
              "    }\n",
              "\n",
              "    .dataframe tbody tr th {\n",
              "        vertical-align: top;\n",
              "    }\n",
              "\n",
              "    .dataframe thead th {\n",
              "        text-align: right;\n",
              "    }\n",
              "</style>\n",
              "<table border=\"1\" class=\"dataframe\">\n",
              "  <thead>\n",
              "    <tr style=\"text-align: right;\">\n",
              "      <th></th>\n",
              "      <th>order_id</th>\n",
              "      <th>customer_id</th>\n",
              "      <th>order_status</th>\n",
              "    </tr>\n",
              "  </thead>\n",
              "  <tbody>\n",
              "    <tr>\n",
              "      <th>0</th>\n",
              "      <td>e481f51cbdc54678b7cc49136f2d6af7</td>\n",
              "      <td>9ef432eb6251297304e76186b10a928d</td>\n",
              "      <td>delivered</td>\n",
              "    </tr>\n",
              "    <tr>\n",
              "      <th>1</th>\n",
              "      <td>53cdb2fc8bc7dce0b6741e2150273451</td>\n",
              "      <td>b0830fb4747a6c6d20dea0b8c802d7ef</td>\n",
              "      <td>delivered</td>\n",
              "    </tr>\n",
              "    <tr>\n",
              "      <th>2</th>\n",
              "      <td>47770eb9100c2d0c44946d9cf07ec65d</td>\n",
              "      <td>41ce2a54c0b03bf3443c3d931a367089</td>\n",
              "      <td>delivered</td>\n",
              "    </tr>\n",
              "  </tbody>\n",
              "</table>\n",
              "</div>"
            ],
            "text/plain": [
              "                           order_id  ... order_status\n",
              "0  e481f51cbdc54678b7cc49136f2d6af7  ...    delivered\n",
              "1  53cdb2fc8bc7dce0b6741e2150273451  ...    delivered\n",
              "2  47770eb9100c2d0c44946d9cf07ec65d  ...    delivered\n",
              "\n",
              "[3 rows x 3 columns]"
            ]
          },
          "metadata": {
            "tags": []
          },
          "execution_count": 305
        }
      ]
    },
    {
      "cell_type": "code",
      "metadata": {
        "id": "lr1laN70rEVM",
        "outputId": "ae86027d-82e3-42e1-a2f0-7398450a67f4",
        "colab": {
          "base_uri": "https://localhost:8080/",
          "height": 221
        }
      },
      "source": [
        "pd.to_datetime( df_compras['order_purchase_timestamp'], format='%Y-%m-%d')"
      ],
      "execution_count": 306,
      "outputs": [
        {
          "output_type": "execute_result",
          "data": {
            "text/plain": [
              "0       2017-10-02 10:56:33\n",
              "1       2018-07-24 20:41:37\n",
              "2       2018-08-08 08:38:49\n",
              "3       2017-11-18 19:28:06\n",
              "4       2018-02-13 21:18:39\n",
              "                ...        \n",
              "99436   2017-03-09 09:54:05\n",
              "99437   2018-02-06 12:58:58\n",
              "99438   2017-08-27 14:46:43\n",
              "99439   2018-01-08 21:28:27\n",
              "99440   2018-03-08 20:57:30\n",
              "Name: order_purchase_timestamp, Length: 99441, dtype: datetime64[ns]"
            ]
          },
          "metadata": {
            "tags": []
          },
          "execution_count": 306
        }
      ]
    },
    {
      "cell_type": "code",
      "metadata": {
        "id": "9v69u4jorYuX",
        "outputId": "41565aab-b8d7-4d47-a60a-71e836c54eb0",
        "colab": {
          "base_uri": "https://localhost:8080/",
          "height": 102
        }
      },
      "source": [
        "lista_colunas_datas = list(df_compras.iloc[:13,3:].columns)\n",
        "lista_colunas_datas"
      ],
      "execution_count": 307,
      "outputs": [
        {
          "output_type": "execute_result",
          "data": {
            "text/plain": [
              "['order_purchase_timestamp',\n",
              " 'order_approved_at',\n",
              " 'order_delivered_carrier_date',\n",
              " 'order_delivered_customer_date',\n",
              " 'order_estimated_delivery_date']"
            ]
          },
          "metadata": {
            "tags": []
          },
          "execution_count": 307
        }
      ]
    },
    {
      "cell_type": "code",
      "metadata": {
        "id": "fu9QcmgssTOe",
        "outputId": "4bdcc2ff-6fbd-408d-9ca7-50e489ac0432",
        "colab": {
          "base_uri": "https://localhost:8080/",
          "height": 157
        }
      },
      "source": [
        "for coluna in lista_colunas_datas:\n",
        "    df_compras_dt[coluna] = pd.to_datetime( df_compras[coluna], format='%Y-%m-%d')\n",
        "df_compras_dt.head(3)"
      ],
      "execution_count": 308,
      "outputs": [
        {
          "output_type": "execute_result",
          "data": {
            "text/html": [
              "<div>\n",
              "<style scoped>\n",
              "    .dataframe tbody tr th:only-of-type {\n",
              "        vertical-align: middle;\n",
              "    }\n",
              "\n",
              "    .dataframe tbody tr th {\n",
              "        vertical-align: top;\n",
              "    }\n",
              "\n",
              "    .dataframe thead th {\n",
              "        text-align: right;\n",
              "    }\n",
              "</style>\n",
              "<table border=\"1\" class=\"dataframe\">\n",
              "  <thead>\n",
              "    <tr style=\"text-align: right;\">\n",
              "      <th></th>\n",
              "      <th>order_id</th>\n",
              "      <th>customer_id</th>\n",
              "      <th>order_status</th>\n",
              "      <th>order_purchase_timestamp</th>\n",
              "      <th>order_approved_at</th>\n",
              "      <th>order_delivered_carrier_date</th>\n",
              "      <th>order_delivered_customer_date</th>\n",
              "      <th>order_estimated_delivery_date</th>\n",
              "    </tr>\n",
              "  </thead>\n",
              "  <tbody>\n",
              "    <tr>\n",
              "      <th>0</th>\n",
              "      <td>e481f51cbdc54678b7cc49136f2d6af7</td>\n",
              "      <td>9ef432eb6251297304e76186b10a928d</td>\n",
              "      <td>delivered</td>\n",
              "      <td>2017-10-02 10:56:33</td>\n",
              "      <td>2017-10-02 11:07:15</td>\n",
              "      <td>2017-10-04 19:55:00</td>\n",
              "      <td>2017-10-10 21:25:13</td>\n",
              "      <td>2017-10-18</td>\n",
              "    </tr>\n",
              "    <tr>\n",
              "      <th>1</th>\n",
              "      <td>53cdb2fc8bc7dce0b6741e2150273451</td>\n",
              "      <td>b0830fb4747a6c6d20dea0b8c802d7ef</td>\n",
              "      <td>delivered</td>\n",
              "      <td>2018-07-24 20:41:37</td>\n",
              "      <td>2018-07-26 03:24:27</td>\n",
              "      <td>2018-07-26 14:31:00</td>\n",
              "      <td>2018-08-07 15:27:45</td>\n",
              "      <td>2018-08-13</td>\n",
              "    </tr>\n",
              "    <tr>\n",
              "      <th>2</th>\n",
              "      <td>47770eb9100c2d0c44946d9cf07ec65d</td>\n",
              "      <td>41ce2a54c0b03bf3443c3d931a367089</td>\n",
              "      <td>delivered</td>\n",
              "      <td>2018-08-08 08:38:49</td>\n",
              "      <td>2018-08-08 08:55:23</td>\n",
              "      <td>2018-08-08 13:50:00</td>\n",
              "      <td>2018-08-17 18:06:29</td>\n",
              "      <td>2018-09-04</td>\n",
              "    </tr>\n",
              "  </tbody>\n",
              "</table>\n",
              "</div>"
            ],
            "text/plain": [
              "                           order_id  ... order_estimated_delivery_date\n",
              "0  e481f51cbdc54678b7cc49136f2d6af7  ...                    2017-10-18\n",
              "1  53cdb2fc8bc7dce0b6741e2150273451  ...                    2018-08-13\n",
              "2  47770eb9100c2d0c44946d9cf07ec65d  ...                    2018-09-04\n",
              "\n",
              "[3 rows x 8 columns]"
            ]
          },
          "metadata": {
            "tags": []
          },
          "execution_count": 308
        }
      ]
    },
    {
      "cell_type": "code",
      "metadata": {
        "id": "9NWoD4GDsrXJ",
        "outputId": "3202cd90-e522-461e-fc55-66c52cd26c25",
        "colab": {
          "base_uri": "https://localhost:8080/",
          "height": 170
        }
      },
      "source": [
        "df_compras_dt.dtypes"
      ],
      "execution_count": 309,
      "outputs": [
        {
          "output_type": "execute_result",
          "data": {
            "text/plain": [
              "order_id                                 object\n",
              "customer_id                              object\n",
              "order_status                             object\n",
              "order_purchase_timestamp         datetime64[ns]\n",
              "order_approved_at                datetime64[ns]\n",
              "order_delivered_carrier_date     datetime64[ns]\n",
              "order_delivered_customer_date    datetime64[ns]\n",
              "order_estimated_delivery_date    datetime64[ns]\n",
              "dtype: object"
            ]
          },
          "metadata": {
            "tags": []
          },
          "execution_count": 309
        }
      ]
    },
    {
      "cell_type": "code",
      "metadata": {
        "id": "HaidzsWdsx7L",
        "outputId": "dbec393e-bf7c-42f9-a705-c563b108e445",
        "colab": {
          "base_uri": "https://localhost:8080/",
          "height": 170
        }
      },
      "source": [
        "df_compras_dt.iloc[0,:]"
      ],
      "execution_count": 310,
      "outputs": [
        {
          "output_type": "execute_result",
          "data": {
            "text/plain": [
              "order_id                         e481f51cbdc54678b7cc49136f2d6af7\n",
              "customer_id                      9ef432eb6251297304e76186b10a928d\n",
              "order_status                                            delivered\n",
              "order_purchase_timestamp                      2017-10-02 10:56:33\n",
              "order_approved_at                             2017-10-02 11:07:15\n",
              "order_delivered_carrier_date                  2017-10-04 19:55:00\n",
              "order_delivered_customer_date                 2017-10-10 21:25:13\n",
              "order_estimated_delivery_date                 2017-10-18 00:00:00\n",
              "Name: 0, dtype: object"
            ]
          },
          "metadata": {
            "tags": []
          },
          "execution_count": 310
        }
      ]
    },
    {
      "cell_type": "markdown",
      "metadata": {
        "id": "LX3Gw6chttVC"
      },
      "source": [
        "Eficiência na entrega"
      ]
    },
    {
      "cell_type": "code",
      "metadata": {
        "id": "A8E9kchss0X4",
        "outputId": "1044708c-c976-4a7a-956a-a2e10a3b8ecd",
        "colab": {
          "base_uri": "https://localhost:8080/",
          "height": 34
        }
      },
      "source": [
        "em_tempo = (df_compras_dt.order_delivered_customer_date <= df_compras_dt.order_estimated_delivery_date).sum()\n",
        "em_tempo"
      ],
      "execution_count": 311,
      "outputs": [
        {
          "output_type": "execute_result",
          "data": {
            "text/plain": [
              "89996"
            ]
          },
          "metadata": {
            "tags": []
          },
          "execution_count": 311
        }
      ]
    },
    {
      "cell_type": "markdown",
      "metadata": {
        "id": "eFQz8qCbtxKc"
      },
      "source": [
        "Atrasados"
      ]
    },
    {
      "cell_type": "code",
      "metadata": {
        "id": "tzD1YgsgtMRQ",
        "outputId": "0b7952ad-4d7f-4e91-8a85-bf0216f82315",
        "colab": {
          "base_uri": "https://localhost:8080/",
          "height": 34
        }
      },
      "source": [
        "total = (df_compras_dt.order_delivered_customer_date <= df_compras_dt.order_estimated_delivery_date).count()\n",
        "total"
      ],
      "execution_count": 312,
      "outputs": [
        {
          "output_type": "execute_result",
          "data": {
            "text/plain": [
              "99441"
            ]
          },
          "metadata": {
            "tags": []
          },
          "execution_count": 312
        }
      ]
    },
    {
      "cell_type": "code",
      "metadata": {
        "id": "jW7kk7mqtrQW",
        "outputId": "a8cc70b6-2933-4928-836b-a8f48587b7ff",
        "colab": {
          "base_uri": "https://localhost:8080/",
          "height": 34
        }
      },
      "source": [
        "atrasados = total - em_tempo\n",
        "atrasados"
      ],
      "execution_count": 313,
      "outputs": [
        {
          "output_type": "execute_result",
          "data": {
            "text/plain": [
              "9445"
            ]
          },
          "metadata": {
            "tags": []
          },
          "execution_count": 313
        }
      ]
    },
    {
      "cell_type": "code",
      "metadata": {
        "id": "l0tvQCXyt6jc",
        "outputId": "fb54d8fe-fe82-40c3-e182-26293adfb3cc",
        "colab": {
          "base_uri": "https://localhost:8080/",
          "height": 541
        }
      },
      "source": [
        "fig = px.pie( values=[em_tempo,atrasados], names=['Dentro do Estimado','Atrasados'], title='Efi')\n",
        "fig.show()"
      ],
      "execution_count": 314,
      "outputs": [
        {
          "output_type": "display_data",
          "data": {
            "text/html": [
              "<html>\n",
              "<head><meta charset=\"utf-8\" /></head>\n",
              "<body>\n",
              "    <div>            <script src=\"https://cdnjs.cloudflare.com/ajax/libs/mathjax/2.7.5/MathJax.js?config=TeX-AMS-MML_SVG\"></script><script type=\"text/javascript\">if (window.MathJax) {MathJax.Hub.Config({SVG: {font: \"STIX-Web\"}});}</script>                <script type=\"text/javascript\">window.PlotlyConfig = {MathJaxConfig: 'local'};</script>\n",
              "        <script src=\"https://cdn.plot.ly/plotly-latest.min.js\"></script>                <div id=\"f0ab5d36-b9d5-4ba2-98dc-85e421b54ecb\" class=\"plotly-graph-div\" style=\"height:525px; width:100%;\"></div>            <script type=\"text/javascript\">                                    window.PLOTLYENV=window.PLOTLYENV || {};                                    if (document.getElementById(\"f0ab5d36-b9d5-4ba2-98dc-85e421b54ecb\")) {                    Plotly.newPlot(                        \"f0ab5d36-b9d5-4ba2-98dc-85e421b54ecb\",                        [{\"domain\": {\"x\": [0.0, 1.0], \"y\": [0.0, 1.0]}, \"hovertemplate\": \"label=%{label}<br>value=%{value}<extra></extra>\", \"labels\": [\"Dentro do Estimado\", \"Atrasados\"], \"legendgroup\": \"\", \"name\": \"\", \"showlegend\": true, \"type\": \"pie\", \"values\": [89996, 9445]}],                        {\"legend\": {\"tracegroupgap\": 0}, \"template\": {\"data\": {\"bar\": [{\"error_x\": {\"color\": \"#2a3f5f\"}, \"error_y\": {\"color\": \"#2a3f5f\"}, \"marker\": {\"line\": {\"color\": \"#E5ECF6\", \"width\": 0.5}}, \"type\": \"bar\"}], \"barpolar\": [{\"marker\": {\"line\": {\"color\": \"#E5ECF6\", \"width\": 0.5}}, \"type\": \"barpolar\"}], \"carpet\": [{\"aaxis\": {\"endlinecolor\": \"#2a3f5f\", \"gridcolor\": \"white\", \"linecolor\": \"white\", \"minorgridcolor\": \"white\", \"startlinecolor\": \"#2a3f5f\"}, \"baxis\": {\"endlinecolor\": \"#2a3f5f\", \"gridcolor\": \"white\", \"linecolor\": \"white\", \"minorgridcolor\": \"white\", \"startlinecolor\": \"#2a3f5f\"}, \"type\": \"carpet\"}], \"choropleth\": [{\"colorbar\": {\"outlinewidth\": 0, \"ticks\": \"\"}, \"type\": \"choropleth\"}], \"contour\": [{\"colorbar\": {\"outlinewidth\": 0, \"ticks\": \"\"}, \"colorscale\": [[0.0, \"#0d0887\"], [0.1111111111111111, \"#46039f\"], [0.2222222222222222, \"#7201a8\"], [0.3333333333333333, \"#9c179e\"], [0.4444444444444444, \"#bd3786\"], [0.5555555555555556, \"#d8576b\"], [0.6666666666666666, \"#ed7953\"], [0.7777777777777778, \"#fb9f3a\"], [0.8888888888888888, \"#fdca26\"], [1.0, \"#f0f921\"]], \"type\": \"contour\"}], \"contourcarpet\": [{\"colorbar\": {\"outlinewidth\": 0, \"ticks\": \"\"}, \"type\": \"contourcarpet\"}], \"heatmap\": [{\"colorbar\": {\"outlinewidth\": 0, \"ticks\": \"\"}, \"colorscale\": [[0.0, \"#0d0887\"], [0.1111111111111111, \"#46039f\"], [0.2222222222222222, \"#7201a8\"], [0.3333333333333333, \"#9c179e\"], [0.4444444444444444, \"#bd3786\"], [0.5555555555555556, \"#d8576b\"], [0.6666666666666666, \"#ed7953\"], [0.7777777777777778, \"#fb9f3a\"], [0.8888888888888888, \"#fdca26\"], [1.0, \"#f0f921\"]], \"type\": \"heatmap\"}], \"heatmapgl\": [{\"colorbar\": {\"outlinewidth\": 0, \"ticks\": \"\"}, \"colorscale\": [[0.0, \"#0d0887\"], [0.1111111111111111, \"#46039f\"], [0.2222222222222222, \"#7201a8\"], [0.3333333333333333, \"#9c179e\"], [0.4444444444444444, \"#bd3786\"], [0.5555555555555556, \"#d8576b\"], [0.6666666666666666, \"#ed7953\"], [0.7777777777777778, \"#fb9f3a\"], [0.8888888888888888, \"#fdca26\"], [1.0, \"#f0f921\"]], \"type\": \"heatmapgl\"}], \"histogram\": [{\"marker\": {\"colorbar\": {\"outlinewidth\": 0, \"ticks\": \"\"}}, \"type\": \"histogram\"}], \"histogram2d\": [{\"colorbar\": {\"outlinewidth\": 0, \"ticks\": \"\"}, \"colorscale\": [[0.0, \"#0d0887\"], [0.1111111111111111, \"#46039f\"], [0.2222222222222222, \"#7201a8\"], [0.3333333333333333, \"#9c179e\"], [0.4444444444444444, \"#bd3786\"], [0.5555555555555556, \"#d8576b\"], [0.6666666666666666, \"#ed7953\"], [0.7777777777777778, \"#fb9f3a\"], [0.8888888888888888, \"#fdca26\"], [1.0, \"#f0f921\"]], \"type\": \"histogram2d\"}], \"histogram2dcontour\": [{\"colorbar\": {\"outlinewidth\": 0, \"ticks\": \"\"}, \"colorscale\": [[0.0, \"#0d0887\"], [0.1111111111111111, \"#46039f\"], [0.2222222222222222, \"#7201a8\"], [0.3333333333333333, \"#9c179e\"], [0.4444444444444444, \"#bd3786\"], [0.5555555555555556, \"#d8576b\"], [0.6666666666666666, \"#ed7953\"], [0.7777777777777778, \"#fb9f3a\"], [0.8888888888888888, \"#fdca26\"], [1.0, \"#f0f921\"]], \"type\": \"histogram2dcontour\"}], \"mesh3d\": [{\"colorbar\": {\"outlinewidth\": 0, \"ticks\": \"\"}, \"type\": \"mesh3d\"}], \"parcoords\": [{\"line\": {\"colorbar\": {\"outlinewidth\": 0, \"ticks\": \"\"}}, \"type\": \"parcoords\"}], \"pie\": [{\"automargin\": true, \"type\": \"pie\"}], \"scatter\": [{\"marker\": {\"colorbar\": {\"outlinewidth\": 0, \"ticks\": \"\"}}, \"type\": \"scatter\"}], \"scatter3d\": [{\"line\": {\"colorbar\": {\"outlinewidth\": 0, \"ticks\": \"\"}}, \"marker\": {\"colorbar\": {\"outlinewidth\": 0, \"ticks\": \"\"}}, \"type\": \"scatter3d\"}], \"scattercarpet\": [{\"marker\": {\"colorbar\": {\"outlinewidth\": 0, \"ticks\": \"\"}}, \"type\": \"scattercarpet\"}], \"scattergeo\": [{\"marker\": {\"colorbar\": {\"outlinewidth\": 0, \"ticks\": \"\"}}, \"type\": \"scattergeo\"}], \"scattergl\": [{\"marker\": {\"colorbar\": {\"outlinewidth\": 0, \"ticks\": \"\"}}, \"type\": \"scattergl\"}], \"scattermapbox\": [{\"marker\": {\"colorbar\": {\"outlinewidth\": 0, \"ticks\": \"\"}}, \"type\": \"scattermapbox\"}], \"scatterpolar\": [{\"marker\": {\"colorbar\": {\"outlinewidth\": 0, \"ticks\": \"\"}}, \"type\": \"scatterpolar\"}], \"scatterpolargl\": [{\"marker\": {\"colorbar\": {\"outlinewidth\": 0, \"ticks\": \"\"}}, \"type\": \"scatterpolargl\"}], \"scatterternary\": [{\"marker\": {\"colorbar\": {\"outlinewidth\": 0, \"ticks\": \"\"}}, \"type\": \"scatterternary\"}], \"surface\": [{\"colorbar\": {\"outlinewidth\": 0, \"ticks\": \"\"}, \"colorscale\": [[0.0, \"#0d0887\"], [0.1111111111111111, \"#46039f\"], [0.2222222222222222, \"#7201a8\"], [0.3333333333333333, \"#9c179e\"], [0.4444444444444444, \"#bd3786\"], [0.5555555555555556, \"#d8576b\"], [0.6666666666666666, \"#ed7953\"], [0.7777777777777778, \"#fb9f3a\"], [0.8888888888888888, \"#fdca26\"], [1.0, \"#f0f921\"]], \"type\": \"surface\"}], \"table\": [{\"cells\": {\"fill\": {\"color\": \"#EBF0F8\"}, \"line\": {\"color\": \"white\"}}, \"header\": {\"fill\": {\"color\": \"#C8D4E3\"}, \"line\": {\"color\": \"white\"}}, \"type\": \"table\"}]}, \"layout\": {\"annotationdefaults\": {\"arrowcolor\": \"#2a3f5f\", \"arrowhead\": 0, \"arrowwidth\": 1}, \"coloraxis\": {\"colorbar\": {\"outlinewidth\": 0, \"ticks\": \"\"}}, \"colorscale\": {\"diverging\": [[0, \"#8e0152\"], [0.1, \"#c51b7d\"], [0.2, \"#de77ae\"], [0.3, \"#f1b6da\"], [0.4, \"#fde0ef\"], [0.5, \"#f7f7f7\"], [0.6, \"#e6f5d0\"], [0.7, \"#b8e186\"], [0.8, \"#7fbc41\"], [0.9, \"#4d9221\"], [1, \"#276419\"]], \"sequential\": [[0.0, \"#0d0887\"], [0.1111111111111111, \"#46039f\"], [0.2222222222222222, \"#7201a8\"], [0.3333333333333333, \"#9c179e\"], [0.4444444444444444, \"#bd3786\"], [0.5555555555555556, \"#d8576b\"], [0.6666666666666666, \"#ed7953\"], [0.7777777777777778, \"#fb9f3a\"], [0.8888888888888888, \"#fdca26\"], [1.0, \"#f0f921\"]], \"sequentialminus\": [[0.0, \"#0d0887\"], [0.1111111111111111, \"#46039f\"], [0.2222222222222222, \"#7201a8\"], [0.3333333333333333, \"#9c179e\"], [0.4444444444444444, \"#bd3786\"], [0.5555555555555556, \"#d8576b\"], [0.6666666666666666, \"#ed7953\"], [0.7777777777777778, \"#fb9f3a\"], [0.8888888888888888, \"#fdca26\"], [1.0, \"#f0f921\"]]}, \"colorway\": [\"#636efa\", \"#EF553B\", \"#00cc96\", \"#ab63fa\", \"#FFA15A\", \"#19d3f3\", \"#FF6692\", \"#B6E880\", \"#FF97FF\", \"#FECB52\"], \"font\": {\"color\": \"#2a3f5f\"}, \"geo\": {\"bgcolor\": \"white\", \"lakecolor\": \"white\", \"landcolor\": \"#E5ECF6\", \"showlakes\": true, \"showland\": true, \"subunitcolor\": \"white\"}, \"hoverlabel\": {\"align\": \"left\"}, \"hovermode\": \"closest\", \"mapbox\": {\"style\": \"light\"}, \"paper_bgcolor\": \"white\", \"plot_bgcolor\": \"#E5ECF6\", \"polar\": {\"angularaxis\": {\"gridcolor\": \"white\", \"linecolor\": \"white\", \"ticks\": \"\"}, \"bgcolor\": \"#E5ECF6\", \"radialaxis\": {\"gridcolor\": \"white\", \"linecolor\": \"white\", \"ticks\": \"\"}}, \"scene\": {\"xaxis\": {\"backgroundcolor\": \"#E5ECF6\", \"gridcolor\": \"white\", \"gridwidth\": 2, \"linecolor\": \"white\", \"showbackground\": true, \"ticks\": \"\", \"zerolinecolor\": \"white\"}, \"yaxis\": {\"backgroundcolor\": \"#E5ECF6\", \"gridcolor\": \"white\", \"gridwidth\": 2, \"linecolor\": \"white\", \"showbackground\": true, \"ticks\": \"\", \"zerolinecolor\": \"white\"}, \"zaxis\": {\"backgroundcolor\": \"#E5ECF6\", \"gridcolor\": \"white\", \"gridwidth\": 2, \"linecolor\": \"white\", \"showbackground\": true, \"ticks\": \"\", \"zerolinecolor\": \"white\"}}, \"shapedefaults\": {\"line\": {\"color\": \"#2a3f5f\"}}, \"ternary\": {\"aaxis\": {\"gridcolor\": \"white\", \"linecolor\": \"white\", \"ticks\": \"\"}, \"baxis\": {\"gridcolor\": \"white\", \"linecolor\": \"white\", \"ticks\": \"\"}, \"bgcolor\": \"#E5ECF6\", \"caxis\": {\"gridcolor\": \"white\", \"linecolor\": \"white\", \"ticks\": \"\"}}, \"title\": {\"x\": 0.05}, \"xaxis\": {\"automargin\": true, \"gridcolor\": \"white\", \"linecolor\": \"white\", \"ticks\": \"\", \"title\": {\"standoff\": 15}, \"zerolinecolor\": \"white\", \"zerolinewidth\": 2}, \"yaxis\": {\"automargin\": true, \"gridcolor\": \"white\", \"linecolor\": \"white\", \"ticks\": \"\", \"title\": {\"standoff\": 15}, \"zerolinecolor\": \"white\", \"zerolinewidth\": 2}}}, \"title\": {\"text\": \"Efi\"}},                        {\"responsive\": true}                    ).then(function(){\n",
              "                            \n",
              "var gd = document.getElementById('f0ab5d36-b9d5-4ba2-98dc-85e421b54ecb');\n",
              "var x = new MutationObserver(function (mutations, observer) {{\n",
              "        var display = window.getComputedStyle(gd).display;\n",
              "        if (!display || display === 'none') {{\n",
              "            console.log([gd, 'removed!']);\n",
              "            Plotly.purge(gd);\n",
              "            observer.disconnect();\n",
              "        }}\n",
              "}});\n",
              "\n",
              "// Listen for the removal of the full notebook cells\n",
              "var notebookContainer = gd.closest('#notebook-container');\n",
              "if (notebookContainer) {{\n",
              "    x.observe(notebookContainer, {childList: true});\n",
              "}}\n",
              "\n",
              "// Listen for the clearing of the current output cell\n",
              "var outputEl = gd.closest('.output');\n",
              "if (outputEl) {{\n",
              "    x.observe(outputEl, {childList: true});\n",
              "}}\n",
              "\n",
              "                        })                };                            </script>        </div>\n",
              "</body>\n",
              "</html>"
            ]
          },
          "metadata": {
            "tags": []
          }
        }
      ]
    },
    {
      "cell_type": "code",
      "metadata": {
        "id": "ix-n4uCkuesE",
        "outputId": "d598b355-ed3b-4a36-bec4-9c5e06ad95c4",
        "colab": {
          "base_uri": "https://localhost:8080/",
          "height": 157
        }
      },
      "source": [
        "df_compras_dt['delivery_interval'] = df_compras_dt.order_delivered_customer_date - df_compras_dt.order_purchase_timestamp\n",
        "df_compras_dt.head(3)"
      ],
      "execution_count": 315,
      "outputs": [
        {
          "output_type": "execute_result",
          "data": {
            "text/html": [
              "<div>\n",
              "<style scoped>\n",
              "    .dataframe tbody tr th:only-of-type {\n",
              "        vertical-align: middle;\n",
              "    }\n",
              "\n",
              "    .dataframe tbody tr th {\n",
              "        vertical-align: top;\n",
              "    }\n",
              "\n",
              "    .dataframe thead th {\n",
              "        text-align: right;\n",
              "    }\n",
              "</style>\n",
              "<table border=\"1\" class=\"dataframe\">\n",
              "  <thead>\n",
              "    <tr style=\"text-align: right;\">\n",
              "      <th></th>\n",
              "      <th>order_id</th>\n",
              "      <th>customer_id</th>\n",
              "      <th>order_status</th>\n",
              "      <th>order_purchase_timestamp</th>\n",
              "      <th>order_approved_at</th>\n",
              "      <th>order_delivered_carrier_date</th>\n",
              "      <th>order_delivered_customer_date</th>\n",
              "      <th>order_estimated_delivery_date</th>\n",
              "      <th>delivery_interval</th>\n",
              "    </tr>\n",
              "  </thead>\n",
              "  <tbody>\n",
              "    <tr>\n",
              "      <th>0</th>\n",
              "      <td>e481f51cbdc54678b7cc49136f2d6af7</td>\n",
              "      <td>9ef432eb6251297304e76186b10a928d</td>\n",
              "      <td>delivered</td>\n",
              "      <td>2017-10-02 10:56:33</td>\n",
              "      <td>2017-10-02 11:07:15</td>\n",
              "      <td>2017-10-04 19:55:00</td>\n",
              "      <td>2017-10-10 21:25:13</td>\n",
              "      <td>2017-10-18</td>\n",
              "      <td>8 days 10:28:40</td>\n",
              "    </tr>\n",
              "    <tr>\n",
              "      <th>1</th>\n",
              "      <td>53cdb2fc8bc7dce0b6741e2150273451</td>\n",
              "      <td>b0830fb4747a6c6d20dea0b8c802d7ef</td>\n",
              "      <td>delivered</td>\n",
              "      <td>2018-07-24 20:41:37</td>\n",
              "      <td>2018-07-26 03:24:27</td>\n",
              "      <td>2018-07-26 14:31:00</td>\n",
              "      <td>2018-08-07 15:27:45</td>\n",
              "      <td>2018-08-13</td>\n",
              "      <td>13 days 18:46:08</td>\n",
              "    </tr>\n",
              "    <tr>\n",
              "      <th>2</th>\n",
              "      <td>47770eb9100c2d0c44946d9cf07ec65d</td>\n",
              "      <td>41ce2a54c0b03bf3443c3d931a367089</td>\n",
              "      <td>delivered</td>\n",
              "      <td>2018-08-08 08:38:49</td>\n",
              "      <td>2018-08-08 08:55:23</td>\n",
              "      <td>2018-08-08 13:50:00</td>\n",
              "      <td>2018-08-17 18:06:29</td>\n",
              "      <td>2018-09-04</td>\n",
              "      <td>9 days 09:27:40</td>\n",
              "    </tr>\n",
              "  </tbody>\n",
              "</table>\n",
              "</div>"
            ],
            "text/plain": [
              "                           order_id  ... delivery_interval\n",
              "0  e481f51cbdc54678b7cc49136f2d6af7  ...   8 days 10:28:40\n",
              "1  53cdb2fc8bc7dce0b6741e2150273451  ...  13 days 18:46:08\n",
              "2  47770eb9100c2d0c44946d9cf07ec65d  ...   9 days 09:27:40\n",
              "\n",
              "[3 rows x 9 columns]"
            ]
          },
          "metadata": {
            "tags": []
          },
          "execution_count": 315
        }
      ]
    },
    {
      "cell_type": "code",
      "metadata": {
        "id": "y_SRCoNMxwsp",
        "outputId": "c0306818-ae50-4561-c1ea-9c6c1c334cc0",
        "colab": {
          "base_uri": "https://localhost:8080/",
          "height": 157
        }
      },
      "source": [
        "df_compras_dt['numeric_month'] =  df_compras_dt.order_purchase_timestamp.dt.month\n",
        "df_compras_dt['month'] =  df_compras_dt.order_purchase_timestamp.dt.month_name()\n",
        "df_compras_dt['year'] =  df_compras_dt.order_purchase_timestamp.dt.year\n",
        "df_compras_dt.head(3)"
      ],
      "execution_count": 316,
      "outputs": [
        {
          "output_type": "execute_result",
          "data": {
            "text/html": [
              "<div>\n",
              "<style scoped>\n",
              "    .dataframe tbody tr th:only-of-type {\n",
              "        vertical-align: middle;\n",
              "    }\n",
              "\n",
              "    .dataframe tbody tr th {\n",
              "        vertical-align: top;\n",
              "    }\n",
              "\n",
              "    .dataframe thead th {\n",
              "        text-align: right;\n",
              "    }\n",
              "</style>\n",
              "<table border=\"1\" class=\"dataframe\">\n",
              "  <thead>\n",
              "    <tr style=\"text-align: right;\">\n",
              "      <th></th>\n",
              "      <th>order_id</th>\n",
              "      <th>customer_id</th>\n",
              "      <th>order_status</th>\n",
              "      <th>order_purchase_timestamp</th>\n",
              "      <th>order_approved_at</th>\n",
              "      <th>order_delivered_carrier_date</th>\n",
              "      <th>order_delivered_customer_date</th>\n",
              "      <th>order_estimated_delivery_date</th>\n",
              "      <th>delivery_interval</th>\n",
              "      <th>numeric_month</th>\n",
              "      <th>month</th>\n",
              "      <th>year</th>\n",
              "    </tr>\n",
              "  </thead>\n",
              "  <tbody>\n",
              "    <tr>\n",
              "      <th>0</th>\n",
              "      <td>e481f51cbdc54678b7cc49136f2d6af7</td>\n",
              "      <td>9ef432eb6251297304e76186b10a928d</td>\n",
              "      <td>delivered</td>\n",
              "      <td>2017-10-02 10:56:33</td>\n",
              "      <td>2017-10-02 11:07:15</td>\n",
              "      <td>2017-10-04 19:55:00</td>\n",
              "      <td>2017-10-10 21:25:13</td>\n",
              "      <td>2017-10-18</td>\n",
              "      <td>8 days 10:28:40</td>\n",
              "      <td>10</td>\n",
              "      <td>October</td>\n",
              "      <td>2017</td>\n",
              "    </tr>\n",
              "    <tr>\n",
              "      <th>1</th>\n",
              "      <td>53cdb2fc8bc7dce0b6741e2150273451</td>\n",
              "      <td>b0830fb4747a6c6d20dea0b8c802d7ef</td>\n",
              "      <td>delivered</td>\n",
              "      <td>2018-07-24 20:41:37</td>\n",
              "      <td>2018-07-26 03:24:27</td>\n",
              "      <td>2018-07-26 14:31:00</td>\n",
              "      <td>2018-08-07 15:27:45</td>\n",
              "      <td>2018-08-13</td>\n",
              "      <td>13 days 18:46:08</td>\n",
              "      <td>7</td>\n",
              "      <td>July</td>\n",
              "      <td>2018</td>\n",
              "    </tr>\n",
              "    <tr>\n",
              "      <th>2</th>\n",
              "      <td>47770eb9100c2d0c44946d9cf07ec65d</td>\n",
              "      <td>41ce2a54c0b03bf3443c3d931a367089</td>\n",
              "      <td>delivered</td>\n",
              "      <td>2018-08-08 08:38:49</td>\n",
              "      <td>2018-08-08 08:55:23</td>\n",
              "      <td>2018-08-08 13:50:00</td>\n",
              "      <td>2018-08-17 18:06:29</td>\n",
              "      <td>2018-09-04</td>\n",
              "      <td>9 days 09:27:40</td>\n",
              "      <td>8</td>\n",
              "      <td>August</td>\n",
              "      <td>2018</td>\n",
              "    </tr>\n",
              "  </tbody>\n",
              "</table>\n",
              "</div>"
            ],
            "text/plain": [
              "                           order_id  ...  year\n",
              "0  e481f51cbdc54678b7cc49136f2d6af7  ...  2017\n",
              "1  53cdb2fc8bc7dce0b6741e2150273451  ...  2018\n",
              "2  47770eb9100c2d0c44946d9cf07ec65d  ...  2018\n",
              "\n",
              "[3 rows x 12 columns]"
            ]
          },
          "metadata": {
            "tags": []
          },
          "execution_count": 316
        }
      ]
    },
    {
      "cell_type": "code",
      "metadata": {
        "id": "_Xxpzj6hxybn",
        "outputId": "e9ab7d43-415d-4c85-b7b4-25ce39dcb5ac",
        "colab": {
          "base_uri": "https://localhost:8080/",
          "height": 157
        }
      },
      "source": [
        "df_compras_dt['days_delivery_interval'] = df_compras_dt.delivery_interval.dt.days\n",
        "df_compras_dt.head(3)"
      ],
      "execution_count": 317,
      "outputs": [
        {
          "output_type": "execute_result",
          "data": {
            "text/html": [
              "<div>\n",
              "<style scoped>\n",
              "    .dataframe tbody tr th:only-of-type {\n",
              "        vertical-align: middle;\n",
              "    }\n",
              "\n",
              "    .dataframe tbody tr th {\n",
              "        vertical-align: top;\n",
              "    }\n",
              "\n",
              "    .dataframe thead th {\n",
              "        text-align: right;\n",
              "    }\n",
              "</style>\n",
              "<table border=\"1\" class=\"dataframe\">\n",
              "  <thead>\n",
              "    <tr style=\"text-align: right;\">\n",
              "      <th></th>\n",
              "      <th>order_id</th>\n",
              "      <th>customer_id</th>\n",
              "      <th>order_status</th>\n",
              "      <th>order_purchase_timestamp</th>\n",
              "      <th>order_approved_at</th>\n",
              "      <th>order_delivered_carrier_date</th>\n",
              "      <th>order_delivered_customer_date</th>\n",
              "      <th>order_estimated_delivery_date</th>\n",
              "      <th>delivery_interval</th>\n",
              "      <th>numeric_month</th>\n",
              "      <th>month</th>\n",
              "      <th>year</th>\n",
              "      <th>days_delivery_interval</th>\n",
              "    </tr>\n",
              "  </thead>\n",
              "  <tbody>\n",
              "    <tr>\n",
              "      <th>0</th>\n",
              "      <td>e481f51cbdc54678b7cc49136f2d6af7</td>\n",
              "      <td>9ef432eb6251297304e76186b10a928d</td>\n",
              "      <td>delivered</td>\n",
              "      <td>2017-10-02 10:56:33</td>\n",
              "      <td>2017-10-02 11:07:15</td>\n",
              "      <td>2017-10-04 19:55:00</td>\n",
              "      <td>2017-10-10 21:25:13</td>\n",
              "      <td>2017-10-18</td>\n",
              "      <td>8 days 10:28:40</td>\n",
              "      <td>10</td>\n",
              "      <td>October</td>\n",
              "      <td>2017</td>\n",
              "      <td>8</td>\n",
              "    </tr>\n",
              "    <tr>\n",
              "      <th>1</th>\n",
              "      <td>53cdb2fc8bc7dce0b6741e2150273451</td>\n",
              "      <td>b0830fb4747a6c6d20dea0b8c802d7ef</td>\n",
              "      <td>delivered</td>\n",
              "      <td>2018-07-24 20:41:37</td>\n",
              "      <td>2018-07-26 03:24:27</td>\n",
              "      <td>2018-07-26 14:31:00</td>\n",
              "      <td>2018-08-07 15:27:45</td>\n",
              "      <td>2018-08-13</td>\n",
              "      <td>13 days 18:46:08</td>\n",
              "      <td>7</td>\n",
              "      <td>July</td>\n",
              "      <td>2018</td>\n",
              "      <td>13</td>\n",
              "    </tr>\n",
              "    <tr>\n",
              "      <th>2</th>\n",
              "      <td>47770eb9100c2d0c44946d9cf07ec65d</td>\n",
              "      <td>41ce2a54c0b03bf3443c3d931a367089</td>\n",
              "      <td>delivered</td>\n",
              "      <td>2018-08-08 08:38:49</td>\n",
              "      <td>2018-08-08 08:55:23</td>\n",
              "      <td>2018-08-08 13:50:00</td>\n",
              "      <td>2018-08-17 18:06:29</td>\n",
              "      <td>2018-09-04</td>\n",
              "      <td>9 days 09:27:40</td>\n",
              "      <td>8</td>\n",
              "      <td>August</td>\n",
              "      <td>2018</td>\n",
              "      <td>9</td>\n",
              "    </tr>\n",
              "  </tbody>\n",
              "</table>\n",
              "</div>"
            ],
            "text/plain": [
              "                           order_id  ... days_delivery_interval\n",
              "0  e481f51cbdc54678b7cc49136f2d6af7  ...                      8\n",
              "1  53cdb2fc8bc7dce0b6741e2150273451  ...                     13\n",
              "2  47770eb9100c2d0c44946d9cf07ec65d  ...                      9\n",
              "\n",
              "[3 rows x 13 columns]"
            ]
          },
          "metadata": {
            "tags": []
          },
          "execution_count": 317
        }
      ]
    },
    {
      "cell_type": "code",
      "metadata": {
        "id": "XgUeo_m5ykan",
        "outputId": "cdc966a6-96b7-458f-fae9-20c0a06bb1af",
        "colab": {
          "base_uri": "https://localhost:8080/",
          "height": 436
        }
      },
      "source": [
        "df_compras_mes =  df_compras_dt[['numeric_month','year','days_delivery_interval' ]].groupby( by='numeric_month' ).apply(np.mean)\n",
        "df_compras_mes"
      ],
      "execution_count": 318,
      "outputs": [
        {
          "output_type": "execute_result",
          "data": {
            "text/html": [
              "<div>\n",
              "<style scoped>\n",
              "    .dataframe tbody tr th:only-of-type {\n",
              "        vertical-align: middle;\n",
              "    }\n",
              "\n",
              "    .dataframe tbody tr th {\n",
              "        vertical-align: top;\n",
              "    }\n",
              "\n",
              "    .dataframe thead th {\n",
              "        text-align: right;\n",
              "    }\n",
              "</style>\n",
              "<table border=\"1\" class=\"dataframe\">\n",
              "  <thead>\n",
              "    <tr style=\"text-align: right;\">\n",
              "      <th></th>\n",
              "      <th>numeric_month</th>\n",
              "      <th>year</th>\n",
              "      <th>days_delivery_interval</th>\n",
              "    </tr>\n",
              "    <tr>\n",
              "      <th>numeric_month</th>\n",
              "      <th></th>\n",
              "      <th></th>\n",
              "      <th></th>\n",
              "    </tr>\n",
              "  </thead>\n",
              "  <tbody>\n",
              "    <tr>\n",
              "      <th>1</th>\n",
              "      <td>1.0</td>\n",
              "      <td>2017.900855</td>\n",
              "      <td>14.787334</td>\n",
              "    </tr>\n",
              "    <tr>\n",
              "      <th>2</th>\n",
              "      <td>2.0</td>\n",
              "      <td>2017.790785</td>\n",
              "      <td>19.312412</td>\n",
              "    </tr>\n",
              "    <tr>\n",
              "      <th>3</th>\n",
              "      <td>3.0</td>\n",
              "      <td>2017.728899</td>\n",
              "      <td>17.794198</td>\n",
              "    </tr>\n",
              "    <tr>\n",
              "      <th>4</th>\n",
              "      <td>4.0</td>\n",
              "      <td>2017.742695</td>\n",
              "      <td>13.106069</td>\n",
              "    </tr>\n",
              "    <tr>\n",
              "      <th>5</th>\n",
              "      <td>5.0</td>\n",
              "      <td>2017.650052</td>\n",
              "      <td>13.075381</td>\n",
              "    </tr>\n",
              "    <tr>\n",
              "      <th>6</th>\n",
              "      <td>6.0</td>\n",
              "      <td>2017.655227</td>\n",
              "      <td>11.290374</td>\n",
              "    </tr>\n",
              "    <tr>\n",
              "      <th>7</th>\n",
              "      <td>7.0</td>\n",
              "      <td>2017.609808</td>\n",
              "      <td>10.002326</td>\n",
              "    </tr>\n",
              "    <tr>\n",
              "      <th>8</th>\n",
              "      <td>8.0</td>\n",
              "      <td>2017.600572</td>\n",
              "      <td>7.801162</td>\n",
              "    </tr>\n",
              "    <tr>\n",
              "      <th>9</th>\n",
              "      <td>9.0</td>\n",
              "      <td>2017.002787</td>\n",
              "      <td>13.654588</td>\n",
              "    </tr>\n",
              "    <tr>\n",
              "      <th>10</th>\n",
              "      <td>10.0</td>\n",
              "      <td>2016.935471</td>\n",
              "      <td>18.999193</td>\n",
              "    </tr>\n",
              "    <tr>\n",
              "      <th>11</th>\n",
              "      <td>11.0</td>\n",
              "      <td>2017.000000</td>\n",
              "      <td>16.025848</td>\n",
              "    </tr>\n",
              "    <tr>\n",
              "      <th>12</th>\n",
              "      <td>12.0</td>\n",
              "      <td>2016.999824</td>\n",
              "      <td>14.770004</td>\n",
              "    </tr>\n",
              "  </tbody>\n",
              "</table>\n",
              "</div>"
            ],
            "text/plain": [
              "               numeric_month         year  days_delivery_interval\n",
              "numeric_month                                                    \n",
              "1                        1.0  2017.900855               14.787334\n",
              "2                        2.0  2017.790785               19.312412\n",
              "3                        3.0  2017.728899               17.794198\n",
              "4                        4.0  2017.742695               13.106069\n",
              "5                        5.0  2017.650052               13.075381\n",
              "6                        6.0  2017.655227               11.290374\n",
              "7                        7.0  2017.609808               10.002326\n",
              "8                        8.0  2017.600572                7.801162\n",
              "9                        9.0  2017.002787               13.654588\n",
              "10                      10.0  2016.935471               18.999193\n",
              "11                      11.0  2017.000000               16.025848\n",
              "12                      12.0  2016.999824               14.770004"
            ]
          },
          "metadata": {
            "tags": []
          },
          "execution_count": 318
        }
      ]
    },
    {
      "cell_type": "code",
      "metadata": {
        "id": "qIcVvBSQxz3C",
        "outputId": "aaded3c9-6bc7-4e39-8135-2503883c95de",
        "colab": {
          "base_uri": "https://localhost:8080/",
          "height": 405
        }
      },
      "source": [
        "df_compras_dt[['numeric_month']]"
      ],
      "execution_count": 319,
      "outputs": [
        {
          "output_type": "execute_result",
          "data": {
            "text/html": [
              "<div>\n",
              "<style scoped>\n",
              "    .dataframe tbody tr th:only-of-type {\n",
              "        vertical-align: middle;\n",
              "    }\n",
              "\n",
              "    .dataframe tbody tr th {\n",
              "        vertical-align: top;\n",
              "    }\n",
              "\n",
              "    .dataframe thead th {\n",
              "        text-align: right;\n",
              "    }\n",
              "</style>\n",
              "<table border=\"1\" class=\"dataframe\">\n",
              "  <thead>\n",
              "    <tr style=\"text-align: right;\">\n",
              "      <th></th>\n",
              "      <th>numeric_month</th>\n",
              "    </tr>\n",
              "  </thead>\n",
              "  <tbody>\n",
              "    <tr>\n",
              "      <th>0</th>\n",
              "      <td>10</td>\n",
              "    </tr>\n",
              "    <tr>\n",
              "      <th>1</th>\n",
              "      <td>7</td>\n",
              "    </tr>\n",
              "    <tr>\n",
              "      <th>2</th>\n",
              "      <td>8</td>\n",
              "    </tr>\n",
              "    <tr>\n",
              "      <th>3</th>\n",
              "      <td>11</td>\n",
              "    </tr>\n",
              "    <tr>\n",
              "      <th>4</th>\n",
              "      <td>2</td>\n",
              "    </tr>\n",
              "    <tr>\n",
              "      <th>...</th>\n",
              "      <td>...</td>\n",
              "    </tr>\n",
              "    <tr>\n",
              "      <th>99436</th>\n",
              "      <td>3</td>\n",
              "    </tr>\n",
              "    <tr>\n",
              "      <th>99437</th>\n",
              "      <td>2</td>\n",
              "    </tr>\n",
              "    <tr>\n",
              "      <th>99438</th>\n",
              "      <td>8</td>\n",
              "    </tr>\n",
              "    <tr>\n",
              "      <th>99439</th>\n",
              "      <td>1</td>\n",
              "    </tr>\n",
              "    <tr>\n",
              "      <th>99440</th>\n",
              "      <td>3</td>\n",
              "    </tr>\n",
              "  </tbody>\n",
              "</table>\n",
              "<p>99441 rows × 1 columns</p>\n",
              "</div>"
            ],
            "text/plain": [
              "       numeric_month\n",
              "0                 10\n",
              "1                  7\n",
              "2                  8\n",
              "3                 11\n",
              "4                  2\n",
              "...              ...\n",
              "99436              3\n",
              "99437              2\n",
              "99438              8\n",
              "99439              1\n",
              "99440              3\n",
              "\n",
              "[99441 rows x 1 columns]"
            ]
          },
          "metadata": {
            "tags": []
          },
          "execution_count": 319
        }
      ]
    },
    {
      "cell_type": "code",
      "metadata": {
        "id": "BW7G5e6Gx1jU",
        "outputId": "e11f7d23-e63d-41b3-a231-1f32c2395c9b",
        "colab": {
          "base_uri": "https://localhost:8080/",
          "height": 467
        }
      },
      "source": [
        "fig = px.bar(df_compras_mes, y='days_delivery_interval', title='Média de prazo de entrega', labels={'days_delivery_interval': 'Dias decorridos', 'index':'Mês'},color_discrete_sequence=px.colors.qualitative.Alphabet,template='plotly_white')\n",
        "gitly.show( fig )"
      ],
      "execution_count": 320,
      "outputs": [
        {
          "output_type": "execute_result",
          "data": {
            "image/png": "[encoded data removed]",
            "text/plain": [
              "<IPython.core.display.Image object>"
            ]
          },
          "metadata": {
            "tags": []
          },
          "execution_count": 320
        }
      ]
    },
    {
      "cell_type": "code",
      "metadata": {
        "id": "SMqoq2q8zMn-",
        "outputId": "593a9fdd-e345-419c-9002-8c0ac73804e5",
        "colab": {
          "base_uri": "https://localhost:8080/",
          "height": 406
        }
      },
      "source": [
        "df_n_compras_mes = df_compras_dt.numeric_month.value_counts()\n",
        "df_n_compras_mes_plot = df_n_compras_mes.reset_index().sort_values(by='index', ascending=True)\n",
        "df_n_compras_mes_plot"
      ],
      "execution_count": 321,
      "outputs": [
        {
          "output_type": "execute_result",
          "data": {
            "text/html": [
              "<div>\n",
              "<style scoped>\n",
              "    .dataframe tbody tr th:only-of-type {\n",
              "        vertical-align: middle;\n",
              "    }\n",
              "\n",
              "    .dataframe tbody tr th {\n",
              "        vertical-align: top;\n",
              "    }\n",
              "\n",
              "    .dataframe thead th {\n",
              "        text-align: right;\n",
              "    }\n",
              "</style>\n",
              "<table border=\"1\" class=\"dataframe\">\n",
              "  <thead>\n",
              "    <tr style=\"text-align: right;\">\n",
              "      <th></th>\n",
              "      <th>index</th>\n",
              "      <th>numeric_month</th>\n",
              "    </tr>\n",
              "  </thead>\n",
              "  <tbody>\n",
              "    <tr>\n",
              "      <th>7</th>\n",
              "      <td>1</td>\n",
              "      <td>8069</td>\n",
              "    </tr>\n",
              "    <tr>\n",
              "      <th>6</th>\n",
              "      <td>2</td>\n",
              "      <td>8508</td>\n",
              "    </tr>\n",
              "    <tr>\n",
              "      <th>3</th>\n",
              "      <td>3</td>\n",
              "      <td>9893</td>\n",
              "    </tr>\n",
              "    <tr>\n",
              "      <th>5</th>\n",
              "      <td>4</td>\n",
              "      <td>9343</td>\n",
              "    </tr>\n",
              "    <tr>\n",
              "      <th>1</th>\n",
              "      <td>5</td>\n",
              "      <td>10573</td>\n",
              "    </tr>\n",
              "    <tr>\n",
              "      <th>4</th>\n",
              "      <td>6</td>\n",
              "      <td>9412</td>\n",
              "    </tr>\n",
              "    <tr>\n",
              "      <th>2</th>\n",
              "      <td>7</td>\n",
              "      <td>10318</td>\n",
              "    </tr>\n",
              "    <tr>\n",
              "      <th>0</th>\n",
              "      <td>8</td>\n",
              "      <td>10843</td>\n",
              "    </tr>\n",
              "    <tr>\n",
              "      <th>11</th>\n",
              "      <td>9</td>\n",
              "      <td>4305</td>\n",
              "    </tr>\n",
              "    <tr>\n",
              "      <th>10</th>\n",
              "      <td>10</td>\n",
              "      <td>4959</td>\n",
              "    </tr>\n",
              "    <tr>\n",
              "      <th>8</th>\n",
              "      <td>11</td>\n",
              "      <td>7544</td>\n",
              "    </tr>\n",
              "    <tr>\n",
              "      <th>9</th>\n",
              "      <td>12</td>\n",
              "      <td>5674</td>\n",
              "    </tr>\n",
              "  </tbody>\n",
              "</table>\n",
              "</div>"
            ],
            "text/plain": [
              "    index  numeric_month\n",
              "7       1           8069\n",
              "6       2           8508\n",
              "3       3           9893\n",
              "5       4           9343\n",
              "1       5          10573\n",
              "4       6           9412\n",
              "2       7          10318\n",
              "0       8          10843\n",
              "11      9           4305\n",
              "10     10           4959\n",
              "8      11           7544\n",
              "9      12           5674"
            ]
          },
          "metadata": {
            "tags": []
          },
          "execution_count": 321
        }
      ]
    },
    {
      "cell_type": "code",
      "metadata": {
        "id": "-ZhUvFDwzMcx",
        "outputId": "73919c05-24ef-4d23-c377-58cbd5828a97",
        "colab": {
          "base_uri": "https://localhost:8080/",
          "height": 467
        }
      },
      "source": [
        "fig = px.bar(df_n_compras_mes_plot, x ='index' , y='numeric_month', title='Compras por mês', labels={'numeric_month': 'Qtd. de Compras', 'index':'Mês'},color_discrete_sequence=px.colors.qualitative.Alphabet,template='plotly_white')\n",
        "gitly.show( fig )"
      ],
      "execution_count": 322,
      "outputs": [
        {
          "output_type": "execute_result",
          "data": {
            "image/png": "[encoded data removed]",
            "text/plain": [
              "<IPython.core.display.Image object>"
            ]
          },
          "metadata": {
            "tags": []
          },
          "execution_count": 322
        }
      ]
    },
    {
      "cell_type": "code",
      "metadata": {
        "id": "ybZd4w511J5S",
        "outputId": "26ced9a8-c7ba-415c-d329-58d36cb40b87",
        "colab": {
          "base_uri": "https://localhost:8080/",
          "height": 34
        }
      },
      "source": [
        "df_compras_dt.order_purchase_timestamp.min()"
      ],
      "execution_count": 323,
      "outputs": [
        {
          "output_type": "execute_result",
          "data": {
            "text/plain": [
              "Timestamp('2016-09-04 21:15:19')"
            ]
          },
          "metadata": {
            "tags": []
          },
          "execution_count": 323
        }
      ]
    },
    {
      "cell_type": "code",
      "metadata": {
        "id": "BvkTRkom1LlG",
        "outputId": "87e521f7-ad9d-4b3c-97b7-206e2acbb7e4",
        "colab": {
          "base_uri": "https://localhost:8080/",
          "height": 34
        }
      },
      "source": [
        "df_compras_dt.order_purchase_timestamp.max()"
      ],
      "execution_count": 324,
      "outputs": [
        {
          "output_type": "execute_result",
          "data": {
            "text/plain": [
              "Timestamp('2018-10-17 17:30:18')"
            ]
          },
          "metadata": {
            "tags": []
          },
          "execution_count": 324
        }
      ]
    },
    {
      "cell_type": "markdown",
      "metadata": {
        "id": "iDutLKcY1oTD"
      },
      "source": [
        "XXXXXXXXXXXX"
      ]
    },
    {
      "cell_type": "code",
      "metadata": {
        "id": "gf6BMJkq1kJN",
        "outputId": "0a3fcdd4-61b5-42cd-a3c0-c899cfacfe15",
        "colab": {
          "base_uri": "https://localhost:8080/",
          "height": 217
        }
      },
      "source": [
        "df_compras_dt.head()"
      ],
      "execution_count": 325,
      "outputs": [
        {
          "output_type": "execute_result",
          "data": {
            "text/html": [
              "<div>\n",
              "<style scoped>\n",
              "    .dataframe tbody tr th:only-of-type {\n",
              "        vertical-align: middle;\n",
              "    }\n",
              "\n",
              "    .dataframe tbody tr th {\n",
              "        vertical-align: top;\n",
              "    }\n",
              "\n",
              "    .dataframe thead th {\n",
              "        text-align: right;\n",
              "    }\n",
              "</style>\n",
              "<table border=\"1\" class=\"dataframe\">\n",
              "  <thead>\n",
              "    <tr style=\"text-align: right;\">\n",
              "      <th></th>\n",
              "      <th>order_id</th>\n",
              "      <th>customer_id</th>\n",
              "      <th>order_status</th>\n",
              "      <th>order_purchase_timestamp</th>\n",
              "      <th>order_approved_at</th>\n",
              "      <th>order_delivered_carrier_date</th>\n",
              "      <th>order_delivered_customer_date</th>\n",
              "      <th>order_estimated_delivery_date</th>\n",
              "      <th>delivery_interval</th>\n",
              "      <th>numeric_month</th>\n",
              "      <th>month</th>\n",
              "      <th>year</th>\n",
              "      <th>days_delivery_interval</th>\n",
              "    </tr>\n",
              "  </thead>\n",
              "  <tbody>\n",
              "    <tr>\n",
              "      <th>0</th>\n",
              "      <td>e481f51cbdc54678b7cc49136f2d6af7</td>\n",
              "      <td>9ef432eb6251297304e76186b10a928d</td>\n",
              "      <td>delivered</td>\n",
              "      <td>2017-10-02 10:56:33</td>\n",
              "      <td>2017-10-02 11:07:15</td>\n",
              "      <td>2017-10-04 19:55:00</td>\n",
              "      <td>2017-10-10 21:25:13</td>\n",
              "      <td>2017-10-18</td>\n",
              "      <td>8 days 10:28:40</td>\n",
              "      <td>10</td>\n",
              "      <td>October</td>\n",
              "      <td>2017</td>\n",
              "      <td>8</td>\n",
              "    </tr>\n",
              "    <tr>\n",
              "      <th>1</th>\n",
              "      <td>53cdb2fc8bc7dce0b6741e2150273451</td>\n",
              "      <td>b0830fb4747a6c6d20dea0b8c802d7ef</td>\n",
              "      <td>delivered</td>\n",
              "      <td>2018-07-24 20:41:37</td>\n",
              "      <td>2018-07-26 03:24:27</td>\n",
              "      <td>2018-07-26 14:31:00</td>\n",
              "      <td>2018-08-07 15:27:45</td>\n",
              "      <td>2018-08-13</td>\n",
              "      <td>13 days 18:46:08</td>\n",
              "      <td>7</td>\n",
              "      <td>July</td>\n",
              "      <td>2018</td>\n",
              "      <td>13</td>\n",
              "    </tr>\n",
              "    <tr>\n",
              "      <th>2</th>\n",
              "      <td>47770eb9100c2d0c44946d9cf07ec65d</td>\n",
              "      <td>41ce2a54c0b03bf3443c3d931a367089</td>\n",
              "      <td>delivered</td>\n",
              "      <td>2018-08-08 08:38:49</td>\n",
              "      <td>2018-08-08 08:55:23</td>\n",
              "      <td>2018-08-08 13:50:00</td>\n",
              "      <td>2018-08-17 18:06:29</td>\n",
              "      <td>2018-09-04</td>\n",
              "      <td>9 days 09:27:40</td>\n",
              "      <td>8</td>\n",
              "      <td>August</td>\n",
              "      <td>2018</td>\n",
              "      <td>9</td>\n",
              "    </tr>\n",
              "    <tr>\n",
              "      <th>3</th>\n",
              "      <td>949d5b44dbf5de918fe9c16f97b45f8a</td>\n",
              "      <td>f88197465ea7920adcdbec7375364d82</td>\n",
              "      <td>delivered</td>\n",
              "      <td>2017-11-18 19:28:06</td>\n",
              "      <td>2017-11-18 19:45:59</td>\n",
              "      <td>2017-11-22 13:39:59</td>\n",
              "      <td>2017-12-02 00:28:42</td>\n",
              "      <td>2017-12-15</td>\n",
              "      <td>13 days 05:00:36</td>\n",
              "      <td>11</td>\n",
              "      <td>November</td>\n",
              "      <td>2017</td>\n",
              "      <td>13</td>\n",
              "    </tr>\n",
              "    <tr>\n",
              "      <th>4</th>\n",
              "      <td>ad21c59c0840e6cb83a9ceb5573f8159</td>\n",
              "      <td>8ab97904e6daea8866dbdbc4fb7aad2c</td>\n",
              "      <td>delivered</td>\n",
              "      <td>2018-02-13 21:18:39</td>\n",
              "      <td>2018-02-13 22:20:29</td>\n",
              "      <td>2018-02-14 19:46:34</td>\n",
              "      <td>2018-02-16 18:17:02</td>\n",
              "      <td>2018-02-26</td>\n",
              "      <td>2 days 20:58:23</td>\n",
              "      <td>2</td>\n",
              "      <td>February</td>\n",
              "      <td>2018</td>\n",
              "      <td>2</td>\n",
              "    </tr>\n",
              "  </tbody>\n",
              "</table>\n",
              "</div>"
            ],
            "text/plain": [
              "                           order_id  ... days_delivery_interval\n",
              "0  e481f51cbdc54678b7cc49136f2d6af7  ...                      8\n",
              "1  53cdb2fc8bc7dce0b6741e2150273451  ...                     13\n",
              "2  47770eb9100c2d0c44946d9cf07ec65d  ...                      9\n",
              "3  949d5b44dbf5de918fe9c16f97b45f8a  ...                     13\n",
              "4  ad21c59c0840e6cb83a9ceb5573f8159  ...                      2\n",
              "\n",
              "[5 rows x 13 columns]"
            ]
          },
          "metadata": {
            "tags": []
          },
          "execution_count": 325
        }
      ]
    },
    {
      "cell_type": "code",
      "metadata": {
        "id": "87uxnDKL1nDs",
        "outputId": "42a0f4fd-2cc0-4795-9715-17a9a6bede0c",
        "colab": {
          "base_uri": "https://localhost:8080/",
          "height": 197
        }
      },
      "source": [
        "df_compra_pagamentos.head()"
      ],
      "execution_count": 326,
      "outputs": [
        {
          "output_type": "execute_result",
          "data": {
            "text/html": [
              "<div>\n",
              "<style scoped>\n",
              "    .dataframe tbody tr th:only-of-type {\n",
              "        vertical-align: middle;\n",
              "    }\n",
              "\n",
              "    .dataframe tbody tr th {\n",
              "        vertical-align: top;\n",
              "    }\n",
              "\n",
              "    .dataframe thead th {\n",
              "        text-align: right;\n",
              "    }\n",
              "</style>\n",
              "<table border=\"1\" class=\"dataframe\">\n",
              "  <thead>\n",
              "    <tr style=\"text-align: right;\">\n",
              "      <th></th>\n",
              "      <th>order_id</th>\n",
              "      <th>payment_sequential</th>\n",
              "      <th>payment_type</th>\n",
              "      <th>payment_installments</th>\n",
              "      <th>payment_value</th>\n",
              "    </tr>\n",
              "  </thead>\n",
              "  <tbody>\n",
              "    <tr>\n",
              "      <th>0</th>\n",
              "      <td>b81ef226f3fe1789b1e8b2acac839d17</td>\n",
              "      <td>1</td>\n",
              "      <td>credit_card</td>\n",
              "      <td>8</td>\n",
              "      <td>99.33</td>\n",
              "    </tr>\n",
              "    <tr>\n",
              "      <th>1</th>\n",
              "      <td>a9810da82917af2d9aefd1278f1dcfa0</td>\n",
              "      <td>1</td>\n",
              "      <td>credit_card</td>\n",
              "      <td>1</td>\n",
              "      <td>24.39</td>\n",
              "    </tr>\n",
              "    <tr>\n",
              "      <th>2</th>\n",
              "      <td>25e8ea4e93396b6fa0d3dd708e76c1bd</td>\n",
              "      <td>1</td>\n",
              "      <td>credit_card</td>\n",
              "      <td>1</td>\n",
              "      <td>65.71</td>\n",
              "    </tr>\n",
              "    <tr>\n",
              "      <th>3</th>\n",
              "      <td>ba78997921bbcdc1373bb41e913ab953</td>\n",
              "      <td>1</td>\n",
              "      <td>credit_card</td>\n",
              "      <td>8</td>\n",
              "      <td>107.78</td>\n",
              "    </tr>\n",
              "    <tr>\n",
              "      <th>4</th>\n",
              "      <td>42fdf880ba16b47b59251dd489d4441a</td>\n",
              "      <td>1</td>\n",
              "      <td>credit_card</td>\n",
              "      <td>2</td>\n",
              "      <td>128.45</td>\n",
              "    </tr>\n",
              "  </tbody>\n",
              "</table>\n",
              "</div>"
            ],
            "text/plain": [
              "                           order_id  ...  payment_value\n",
              "0  b81ef226f3fe1789b1e8b2acac839d17  ...          99.33\n",
              "1  a9810da82917af2d9aefd1278f1dcfa0  ...          24.39\n",
              "2  25e8ea4e93396b6fa0d3dd708e76c1bd  ...          65.71\n",
              "3  ba78997921bbcdc1373bb41e913ab953  ...         107.78\n",
              "4  42fdf880ba16b47b59251dd489d4441a  ...         128.45\n",
              "\n",
              "[5 rows x 5 columns]"
            ]
          },
          "metadata": {
            "tags": []
          },
          "execution_count": 326
        }
      ]
    }
  ]
}