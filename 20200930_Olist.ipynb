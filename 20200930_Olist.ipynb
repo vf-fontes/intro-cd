{
  "nbformat": 4,
  "nbformat_minor": 0,
  "metadata": {
    "colab": {
      "name": "20200930 - Olist.ipynb",
      "provenance": [],
      "collapsed_sections": [
        "waia92a-oOWW",
        "MdSb-5cV8NaW",
        "gtlVtBIF8dTc"
      ],
      "mount_file_id": "144zrV50ZVdiuDSYrHsKPQh3PbWOTrRde",
      "authorship_tag": "ABX9TyO+ZJOdMOpTKxBNnMSgAS+s",
      "include_colab_link": true
    },
    "kernelspec": {
      "name": "python3",
      "display_name": "Python 3"
    }
  },
  "cells": [
    {
      "cell_type": "markdown",
      "metadata": {
        "id": "view-in-github",
        "colab_type": "text"
      },
      "source": [
        "<a href=\"https://colab.research.google.com/github/vf-fontes/intro-cd/blob/master/20200930_Olist.ipynb\" target=\"_parent\"><img src=\"https://colab.research.google.com/assets/colab-badge.svg\" alt=\"Open In Colab\"/></a>"
      ]
    },
    {
      "cell_type": "markdown",
      "metadata": {
        "id": "bXQLuCHVn-ED"
      },
      "source": [
        "# OLIST E-COMMERCE\n",
        "Autor: Vinicius Fontes\n",
        "\n",
        "OBJETIVO:  Realizar análise descritiva de um conjunto de Datasets do Marketplace OLIST. Aprtir desta análises verificar possibilidade de utilização de algoritmos de Machine Learning para conclusões preditivas.\n",
        "\n",
        "*   Dataset Original: *https://www.kaggle.com/olistbr/brazilian-ecommerce*\n",
        "\n",
        "Lista de Datasets:\n",
        "*  olist_orders_dataset: Informações sobre as compras realizadas => **[DATASET PRINCIPAL]**\n",
        "* olist_customers_dataset: Informações sobre os clientes bem como sua localização\n",
        "* olist_geolocation_dataset: Códigos postais das cidades brasileiras e suas geolocalizações\n",
        "* olist_order_items_dataset: Informações sobre produtos comprados em cada compra\n",
        "* olist_order_payments_dataset: Informações sobre formas de pagamentos\n",
        "* olist_order_reviews_dataset: Avaliações realizadas pelos clientes\n",
        "* olist_products_dataset: Informação sobre os produtos à venda\n",
        "* olist_sellers_dataset: Informações sobre o vendedor\n",
        "* product_category_name_translation: Nomes dos produtos em lingua inglesa\n"
      ]
    },
    {
      "cell_type": "markdown",
      "metadata": {
        "id": "ohTmfyrX2RYJ"
      },
      "source": [
        "# Instalando Bilbiotecas"
      ]
    },
    {
      "cell_type": "code",
      "metadata": {
        "id": "JLbczxg4iWYX",
        "outputId": "98ed0f3f-ccab-4d0f-bbbb-c13d8a749261",
        "colab": {
          "base_uri": "https://localhost:8080/",
          "height": 34
        }
      },
      "source": [
        "#!pip install gitly\n",
        "#!pip install fuzzywuzzy\n",
        "#!pip install pyufbr\n",
        "!pip install unidecode"
      ],
      "execution_count": 133,
      "outputs": [
        {
          "output_type": "stream",
          "text": [
            "Requirement already satisfied: unidecode in /usr/local/lib/python3.6/dist-packages (1.1.1)\n"
          ],
          "name": "stdout"
        }
      ]
    },
    {
      "cell_type": "markdown",
      "metadata": {
        "id": "6emdKBWFoAKQ"
      },
      "source": [
        "# Importando Bibliotecas"
      ]
    },
    {
      "cell_type": "code",
      "metadata": {
        "id": "M2WWKjpvjOkS"
      },
      "source": [
        "# Bibliotecas de Métodos Necessários\n",
        "import pandas as pd\n",
        "import numpy as np\n",
        "from gitly.colab.plot import GitlyPlotter\n",
        "import plotly.express as px\n",
        "from pyUFbr.baseuf import ufbr\n",
        "from unidecode import unidecode"
      ],
      "execution_count": 134,
      "outputs": []
    },
    {
      "cell_type": "markdown",
      "metadata": {
        "id": "waia92a-oOWW"
      },
      "source": [
        "# Importando Datasets"
      ]
    },
    {
      "cell_type": "code",
      "metadata": {
        "id": "kDKCG28ZoNSo"
      },
      "source": [
        "df_clientes = pd.read_csv('/content/drive/My Drive/MBA/MÓDULO - FUNDAMENTOS/TIAGO [Introdução a Ciência de Dados]/Datasets/olist_customers_dataset.csv')\n",
        "df_geo = pd.read_csv('//content/drive/My Drive/MBA/MÓDULO - FUNDAMENTOS/TIAGO [Introdução a Ciência de Dados]/Datasets/olist_geolocation_dataset.csv', encoding='utf8')\n",
        "df_compra_itens = pd.read_csv('/content/drive/My Drive/MBA/MÓDULO - FUNDAMENTOS/TIAGO [Introdução a Ciência de Dados]/Datasets/olist_order_items_dataset.csv')\n",
        "df_compra_pagamentos = pd.read_csv('/content/drive/My Drive/MBA/MÓDULO - FUNDAMENTOS/TIAGO [Introdução a Ciência de Dados]/Datasets/olist_order_payments_dataset.csv')\n",
        "df_reviews = pd.read_csv('/content/drive/My Drive/MBA/MÓDULO - FUNDAMENTOS/TIAGO [Introdução a Ciência de Dados]/Datasets/olist_order_reviews_dataset.csv')\n",
        "df_compras = pd.read_csv('/content/drive/My Drive/MBA/MÓDULO - FUNDAMENTOS/TIAGO [Introdução a Ciência de Dados]/Datasets/olist_orders_dataset.csv')\n",
        "df_produtos = pd.read_csv('/content/drive/My Drive/MBA/MÓDULO - FUNDAMENTOS/TIAGO [Introdução a Ciência de Dados]/Datasets/olist_products_dataset.csv')\n",
        "df_vendedores = pd.read_csv('/content/drive/My Drive/MBA/MÓDULO - FUNDAMENTOS/TIAGO [Introdução a Ciência de Dados]/Datasets/olist_sellers_dataset.csv')"
      ],
      "execution_count": 135,
      "outputs": []
    },
    {
      "cell_type": "markdown",
      "metadata": {
        "id": "7X__wV3QtOac"
      },
      "source": [
        "# Explorando Dataset de Clientes (Customers)"
      ]
    },
    {
      "cell_type": "markdown",
      "metadata": {
        "id": "MdSb-5cV8NaW"
      },
      "source": [
        "## Pré-processamento"
      ]
    },
    {
      "cell_type": "markdown",
      "metadata": {
        "id": "gtlVtBIF8dTc"
      },
      "source": [
        "### Verificando existência de valores nulos"
      ]
    },
    {
      "cell_type": "code",
      "metadata": {
        "id": "Ywl0qoqe8RIi",
        "outputId": "9369749e-14dd-4244-9480-c99786180290",
        "colab": {
          "base_uri": "https://localhost:8080/",
          "height": 0
        }
      },
      "source": [
        "# Verificando existência de valores nulos\n",
        "df_clientes.isnull().sum()"
      ],
      "execution_count": 136,
      "outputs": [
        {
          "output_type": "execute_result",
          "data": {
            "text/plain": [
              "customer_id                 0\n",
              "customer_unique_id          0\n",
              "customer_zip_code_prefix    0\n",
              "customer_city               0\n",
              "customer_state              0\n",
              "dtype: int64"
            ]
          },
          "metadata": {
            "tags": []
          },
          "execution_count": 136
        }
      ]
    },
    {
      "cell_type": "markdown",
      "metadata": {
        "id": "5W5zv0xD8RcD"
      },
      "source": [
        "## Conhecendo o Dataset"
      ]
    },
    {
      "cell_type": "code",
      "metadata": {
        "id": "TfyxHeH76pQ-",
        "outputId": "7f9229e4-0799-4cb2-c153-88ea0d7b4ea5",
        "colab": {
          "base_uri": "https://localhost:8080/",
          "height": 204
        }
      },
      "source": [
        "# Conhecendo o Dataset\n",
        "df_clientes.head()"
      ],
      "execution_count": 137,
      "outputs": [
        {
          "output_type": "execute_result",
          "data": {
            "text/html": [
              "<div>\n",
              "<style scoped>\n",
              "    .dataframe tbody tr th:only-of-type {\n",
              "        vertical-align: middle;\n",
              "    }\n",
              "\n",
              "    .dataframe tbody tr th {\n",
              "        vertical-align: top;\n",
              "    }\n",
              "\n",
              "    .dataframe thead th {\n",
              "        text-align: right;\n",
              "    }\n",
              "</style>\n",
              "<table border=\"1\" class=\"dataframe\">\n",
              "  <thead>\n",
              "    <tr style=\"text-align: right;\">\n",
              "      <th></th>\n",
              "      <th>customer_id</th>\n",
              "      <th>customer_unique_id</th>\n",
              "      <th>customer_zip_code_prefix</th>\n",
              "      <th>customer_city</th>\n",
              "      <th>customer_state</th>\n",
              "    </tr>\n",
              "  </thead>\n",
              "  <tbody>\n",
              "    <tr>\n",
              "      <th>0</th>\n",
              "      <td>06b8999e2fba1a1fbc88172c00ba8bc7</td>\n",
              "      <td>861eff4711a542e4b93843c6dd7febb0</td>\n",
              "      <td>14409</td>\n",
              "      <td>franca</td>\n",
              "      <td>SP</td>\n",
              "    </tr>\n",
              "    <tr>\n",
              "      <th>1</th>\n",
              "      <td>18955e83d337fd6b2def6b18a428ac77</td>\n",
              "      <td>290c77bc529b7ac935b93aa66c333dc3</td>\n",
              "      <td>9790</td>\n",
              "      <td>sao bernardo do campo</td>\n",
              "      <td>SP</td>\n",
              "    </tr>\n",
              "    <tr>\n",
              "      <th>2</th>\n",
              "      <td>4e7b3e00288586ebd08712fdd0374a03</td>\n",
              "      <td>060e732b5b29e8181a18229c7b0b2b5e</td>\n",
              "      <td>1151</td>\n",
              "      <td>sao paulo</td>\n",
              "      <td>SP</td>\n",
              "    </tr>\n",
              "    <tr>\n",
              "      <th>3</th>\n",
              "      <td>b2b6027bc5c5109e529d4dc6358b12c3</td>\n",
              "      <td>259dac757896d24d7702b9acbbff3f3c</td>\n",
              "      <td>8775</td>\n",
              "      <td>mogi das cruzes</td>\n",
              "      <td>SP</td>\n",
              "    </tr>\n",
              "    <tr>\n",
              "      <th>4</th>\n",
              "      <td>4f2d8ab171c80ec8364f7c12e35b23ad</td>\n",
              "      <td>345ecd01c38d18a9036ed96c73b8d066</td>\n",
              "      <td>13056</td>\n",
              "      <td>campinas</td>\n",
              "      <td>SP</td>\n",
              "    </tr>\n",
              "  </tbody>\n",
              "</table>\n",
              "</div>"
            ],
            "text/plain": [
              "                        customer_id  ... customer_state\n",
              "0  06b8999e2fba1a1fbc88172c00ba8bc7  ...             SP\n",
              "1  18955e83d337fd6b2def6b18a428ac77  ...             SP\n",
              "2  4e7b3e00288586ebd08712fdd0374a03  ...             SP\n",
              "3  b2b6027bc5c5109e529d4dc6358b12c3  ...             SP\n",
              "4  4f2d8ab171c80ec8364f7c12e35b23ad  ...             SP\n",
              "\n",
              "[5 rows x 5 columns]"
            ]
          },
          "metadata": {
            "tags": []
          },
          "execution_count": 137
        }
      ]
    },
    {
      "cell_type": "code",
      "metadata": {
        "id": "gNO_TpRytUQY",
        "outputId": "45257ace-dc2a-4f17-a1df-6ff060e20c67",
        "colab": {
          "base_uri": "https://localhost:8080/",
          "height": 51
        }
      },
      "source": [
        "# Quais cidades tem no meu dataset\n",
        "customerCity = df_clientes.customer_city.unique()\n",
        "print('Cidades únicas encontradas no dataset: ', np.sort(customerCity))"
      ],
      "execution_count": 138,
      "outputs": [
        {
          "output_type": "stream",
          "text": [
            "Cidades únicas encontradas no dataset:  ['abadia dos dourados' 'abadiania' 'abaete' ... 'zacarias' 'ze doca'\n",
            " 'zortea']\n"
          ],
          "name": "stdout"
        }
      ]
    },
    {
      "cell_type": "code",
      "metadata": {
        "id": "VeMgUDe6AosQ",
        "outputId": "faa84253-d234-422b-f6b3-10e5897cd120",
        "colab": {
          "base_uri": "https://localhost:8080/",
          "height": 34
        }
      },
      "source": [
        "# Quantidade de cidades únicas\n",
        "print('Quantidade de cidades Únicas: ',len(customerCity))"
      ],
      "execution_count": 139,
      "outputs": [
        {
          "output_type": "stream",
          "text": [
            "Quantidade de cidades Únicas:  4119\n"
          ],
          "name": "stdout"
        }
      ]
    },
    {
      "cell_type": "code",
      "metadata": {
        "id": "sYgF7htoAqPK",
        "outputId": "6cf58ffc-4f39-421f-cefe-8dddda13654f",
        "colab": {
          "base_uri": "https://localhost:8080/",
          "height": 34
        }
      },
      "source": [
        "# Porcentagem de cidades brasileiras já atendidas pela OLIST\n",
        "print('Porcentagem de cidades brasileiras já atendidas pela OLIST: %.2f%%'%(len(customerCity)*100/5570))"
      ],
      "execution_count": 140,
      "outputs": [
        {
          "output_type": "stream",
          "text": [
            "Porcentagem de cidades brasileiras já atendidas pela OLIST: 73.95%\n"
          ],
          "name": "stdout"
        }
      ]
    },
    {
      "cell_type": "markdown",
      "metadata": {
        "id": "aegAEyidDRVi"
      },
      "source": [
        "Oportunidade de divulgação em %26,05 das cidades brasileiras, que equivale 1.450 cidades"
      ]
    },
    {
      "cell_type": "code",
      "metadata": {
        "id": "hj9E8RhTENzE",
        "outputId": "7deda63e-b1dd-4361-8514-347728f4cea7",
        "colab": {
          "base_uri": "https://localhost:8080/",
          "height": 34
        }
      },
      "source": [
        "# Quais cidades brasileiras não foram contempladas\n",
        "cities_estate = []\n",
        "for i in customerEstate:\n",
        "  cities_estate.append(ufbr.list_cidades(i))\n",
        "cities_estate[1][:5]"
      ],
      "execution_count": 150,
      "outputs": [
        {
          "output_type": "execute_result",
          "data": {
            "text/plain": [
              "['ABDON BATISTA', 'ABELARDO LUZ', 'AGROLÂNDIA', 'AGRONÔMICA', 'ÁGUA DOCE']"
            ]
          },
          "metadata": {
            "tags": []
          },
          "execution_count": 150
        }
      ]
    },
    {
      "cell_type": "code",
      "metadata": {
        "id": "a0l0jGkkI-fk",
        "outputId": "1af6a079-b3be-40f7-c84e-d7b14c933307",
        "colab": {
          "base_uri": "https://localhost:8080/",
          "height": 129
        }
      },
      "source": [
        "cities = []\n",
        "for i in customerEstate:\n",
        "  n +=1\n",
        "  for a in cities_estate[][:]:\n",
        "    m +=1\n",
        "    cities.append(cities_estate[n][m])\n",
        "cities"
      ],
      "execution_count": 142,
      "outputs": [
        {
          "output_type": "error",
          "ename": "SyntaxError",
          "evalue": "ignored",
          "traceback": [
            "\u001b[0;36m  File \u001b[0;32m\"<ipython-input-142-1c2c6865c87e>\"\u001b[0;36m, line \u001b[0;32m4\u001b[0m\n\u001b[0;31m    for a in cities_estate[][:]:\u001b[0m\n\u001b[0m                           ^\u001b[0m\n\u001b[0;31mSyntaxError\u001b[0m\u001b[0;31m:\u001b[0m invalid syntax\n"
          ]
        }
      ]
    },
    {
      "cell_type": "code",
      "metadata": {
        "id": "hPnTzljatfBN"
      },
      "source": [
        "# Quais estados tem no meu dataset\n",
        "customerEstate = df_clientes.customer_state.unique()\n",
        "print('Estados únicos encontradas no dataset: ', np.sort(customerEstate))"
      ],
      "execution_count": null,
      "outputs": []
    },
    {
      "cell_type": "code",
      "metadata": {
        "id": "a7VaAHLcDIuX"
      },
      "source": [
        "# Quantidade de estados únicos\n",
        "print('Quantidade de estados Únicos: ',len(customerEstate))"
      ],
      "execution_count": null,
      "outputs": []
    },
    {
      "cell_type": "code",
      "metadata": {
        "id": "UKnHnwg1tiP-"
      },
      "source": [
        "# Quantidade de clientes\n",
        "print('Quantidade de clientes que já realizaram compras pela OLIST: ', len(df_clientes.customer_unique_id.unique()))"
      ],
      "execution_count": null,
      "outputs": []
    },
    {
      "cell_type": "code",
      "metadata": {
        "id": "GoOieC2fvsq0"
      },
      "source": [
        "df_clientes.groupby(by='customer_city').count().sort_values(by='customer_id', ascending=False)"
      ],
      "execution_count": null,
      "outputs": []
    },
    {
      "cell_type": "code",
      "metadata": {
        "id": "9UBboZhnwIbX"
      },
      "source": [
        "df_temp = df_clientes.groupby( by = 'customer_unique_id' ).count()\n",
        "df_temp.sort_values(by='customer_id', ascending=False)"
      ],
      "execution_count": null,
      "outputs": []
    },
    {
      "cell_type": "code",
      "metadata": {
        "id": "-k0ku0xot9UO"
      },
      "source": [
        "df_clientes.groupby( by = 'customer_unique_id' ).count()['customer_id'] > 2"
      ],
      "execution_count": null,
      "outputs": []
    },
    {
      "cell_type": "code",
      "metadata": {
        "id": "JbrpBA3jvbTO"
      },
      "source": [
        "df_group = df_clientes.groupby( by = 'customer_unique_id' ).count()\n",
        "df_group[ (df_group['customer_id'] >= 4) ]"
      ],
      "execution_count": null,
      "outputs": []
    },
    {
      "cell_type": "code",
      "metadata": {
        "id": "FQqNGECWwxkT"
      },
      "source": [
        "df_clientes.customer_city.value_counts().head(7).reset_index()"
      ],
      "execution_count": null,
      "outputs": []
    },
    {
      "cell_type": "code",
      "metadata": {
        "id": "Mo5gi7eavPKi"
      },
      "source": [
        "\n",
        "\n",
        "\n",
        "gitly = GitlyPlotter(renderer='colab') #renderer='github' permite que os gráficos dinâmicos fiquem estaticos para aparecerem no notebook  do github\n",
        "data = df_clientes.customer_city.value_counts().head(7).reset_index()\n",
        "fig = px.bar(data,x='index', y='customer_city')\n",
        "gitly.show(fig)"
      ],
      "execution_count": null,
      "outputs": []
    },
    {
      "cell_type": "code",
      "metadata": {
        "id": "p5F1fw8Xx6gh"
      },
      "source": [
        ""
      ],
      "execution_count": null,
      "outputs": []
    }
  ]
}